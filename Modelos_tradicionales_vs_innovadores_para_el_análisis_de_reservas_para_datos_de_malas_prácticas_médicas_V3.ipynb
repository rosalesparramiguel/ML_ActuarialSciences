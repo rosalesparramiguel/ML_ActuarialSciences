{
  "cells": [
    {
      "cell_type": "markdown",
      "metadata": {
        "id": "view-in-github",
        "colab_type": "text"
      },
      "source": [
        "<a href=\"https://colab.research.google.com/github/rosalesparramiguel/ML_ActuarialSciences/blob/main/Modelos_tradicionales_vs_innovadores_para_el_an%C3%A1lisis_de_reservas_para_datos_de_malas_pr%C3%A1cticas_m%C3%A9dicas_V3.ipynb\" target=\"_parent\"><img src=\"https://colab.research.google.com/assets/colab-badge.svg\" alt=\"Open In Colab\"/></a>"
      ]
    },
    {
      "cell_type": "markdown",
      "metadata": {
        "id": "vYnhlJvk37IL"
      },
      "source": [
        "# Modelos tradicionales vs. innovadores para el análisis de reservas para datos de malas prácticas médicas"
      ]
    },
    {
      "cell_type": "markdown",
      "metadata": {
        "id": "Ye2xdQpx37IN"
      },
      "source": [
        "En este cuaderno de Jupyter, se presenta el código correspondiente a las fases de comprensión, preparación y modelado de datos, siguiendo la metodología CRISP-DM. En particular, se muestra el modelado desde cero para un problema de liderazgo de cadena, y la implementación de un método de regresión. Para la selección del mejor modelo, se utiliza el error cuadrático medio ponderado (MAPE). El código está comentado para facilitar su comprensión, y se incluye la codificación de funciones reutilizables para facilitar la implementación de tareas más complejas."
      ]
    },
    {
      "cell_type": "markdown",
      "metadata": {
        "id": "Y8yL999P37IO"
      },
      "source": [
        "Procedemos primeramente con la importación de librerías que se utilizaran además de los datos con los que trabajaremos alrededor del notebook"
      ]
    },
    {
      "cell_type": "code",
      "execution_count": null,
      "metadata": {
        "id": "SH61cXTR37IO"
      },
      "outputs": [],
      "source": [
        "import pandas as pd\n",
        "import numpy as np\n",
        "import matplotlib.pyplot as plt\n",
        "import seaborn as sns\n",
        "import math\n",
        "from sklearn.linear_model import LinearRegression\n",
        "from sklearn.linear_model import Ridge\n",
        "from sklearn.linear_model import Lasso\n",
        "CONSULTAS = r\"C:\\Users\\moshe\\OneDrive\\Documentos\\Machine Learning\""
      ]
    },
    {
      "cell_type": "code",
      "execution_count": null,
      "metadata": {
        "id": "MaPtwW1P37IP",
        "outputId": "120a1a17-5ec8-452f-96a9-21a05fb1782f"
      },
      "outputs": [
        {
          "data": {
            "text/html": [
              "<div>\n",
              "<style scoped>\n",
              "    .dataframe tbody tr th:only-of-type {\n",
              "        vertical-align: middle;\n",
              "    }\n",
              "\n",
              "    .dataframe tbody tr th {\n",
              "        vertical-align: top;\n",
              "    }\n",
              "\n",
              "    .dataframe thead th {\n",
              "        text-align: right;\n",
              "    }\n",
              "</style>\n",
              "<table border=\"1\" class=\"dataframe\">\n",
              "  <thead>\n",
              "    <tr style=\"text-align: right;\">\n",
              "      <th></th>\n",
              "      <th>GRCODE</th>\n",
              "      <th>GRNAME</th>\n",
              "      <th>AccidentYear</th>\n",
              "      <th>DevelopmentYear</th>\n",
              "      <th>DevelopmentLag</th>\n",
              "      <th>IncurLoss_F2</th>\n",
              "      <th>CumPaidLoss_F2</th>\n",
              "      <th>BulkLoss_F2</th>\n",
              "      <th>EarnedPremDIR_F2</th>\n",
              "      <th>EarnedPremCeded_F2</th>\n",
              "      <th>EarnedPremNet_F2</th>\n",
              "      <th>Single</th>\n",
              "      <th>PostedReserve97_F2</th>\n",
              "    </tr>\n",
              "  </thead>\n",
              "  <tbody>\n",
              "    <tr>\n",
              "      <th>0</th>\n",
              "      <td>669</td>\n",
              "      <td>Scpie Indemnity Co</td>\n",
              "      <td>1988</td>\n",
              "      <td>1988</td>\n",
              "      <td>1</td>\n",
              "      <td>121905</td>\n",
              "      <td>2716</td>\n",
              "      <td>97966</td>\n",
              "      <td>129104</td>\n",
              "      <td>-6214</td>\n",
              "      <td>135318</td>\n",
              "      <td>0</td>\n",
              "      <td>344558</td>\n",
              "    </tr>\n",
              "    <tr>\n",
              "      <th>1</th>\n",
              "      <td>669</td>\n",
              "      <td>Scpie Indemnity Co</td>\n",
              "      <td>1988</td>\n",
              "      <td>1989</td>\n",
              "      <td>2</td>\n",
              "      <td>112211</td>\n",
              "      <td>24576</td>\n",
              "      <td>64117</td>\n",
              "      <td>129104</td>\n",
              "      <td>-6214</td>\n",
              "      <td>135318</td>\n",
              "      <td>0</td>\n",
              "      <td>344558</td>\n",
              "    </tr>\n",
              "  </tbody>\n",
              "</table>\n",
              "</div>"
            ],
            "text/plain": [
              "   GRCODE              GRNAME  AccidentYear  DevelopmentYear  DevelopmentLag  \\\n",
              "0     669  Scpie Indemnity Co          1988             1988               1   \n",
              "1     669  Scpie Indemnity Co          1988             1989               2   \n",
              "\n",
              "   IncurLoss_F2  CumPaidLoss_F2  BulkLoss_F2  EarnedPremDIR_F2  \\\n",
              "0        121905            2716        97966            129104   \n",
              "1        112211           24576        64117            129104   \n",
              "\n",
              "   EarnedPremCeded_F2  EarnedPremNet_F2  Single  PostedReserve97_F2  \n",
              "0               -6214            135318       0              344558  \n",
              "1               -6214            135318       0              344558  "
            ]
          },
          "execution_count": 3,
          "metadata": {},
          "output_type": "execute_result"
        }
      ],
      "source": [
        "df = pd.read_csv(CONSULTAS+'\\\\medmal_pos.csv')\n",
        "df.head(2)"
      ]
    },
    {
      "cell_type": "markdown",
      "metadata": {
        "id": "yF9jg9eM37IQ"
      },
      "source": [
        "**DESCRIPCIÓN DE LA VARIABLE**\n",
        "* GRCODE NAIC: código de empresa (incluidos grupos de aseguradores y aseguradores individuales)\n",
        "* GRNAME NAIC: nombre de la empresa (incluidos grupos de aseguradores y aseguradores individuales)\n",
        "* AccidentYear Año del accidente(1988 a 1997)\n",
        "* DevelopmentYear: Año de desarrollo (1988 a 1997)\n",
        "* DevelopmentLag: Año de desarrollo (AY-1987 + DY-1987 - 1)\n",
        "* IncurLoss_F2: Pérdidas incurridas y gastos asignados informados al final del año\n",
        "* CumPaidLoss_F2: Pérdidas pagadas acumuladas y gastos asignados al final del año\n",
        "* BulkLoss_F2: Reservas de Bulk e IBNR sobre pérdidas netas y gastos de defensa y contención de costos reportados al final del año\n",
        "* EarnedPremDIR_F2: Primas ganadas en el año incurrido: directas y asumidas\n",
        "* EarnedPremCeded_F2: Primas ganadas en el año incurrido - cedidas\n",
        "* EarnedPremNet_F2: Primas ganadas en el año en que se produce - netas\n",
        "* Single:  1 indica una sola entidad, 0 indica una aseguradora grupal\n",
        "* PostedReserve97_F2: Reservas contabilizadas en el año 1997 tomadas del Anexo de Suscripción e Inversiones - Parte 2A, incluidas las pérdidas netas no pagadas y los gastos de ajuste de pérdidas no pagados"
      ]
    },
    {
      "cell_type": "code",
      "execution_count": null,
      "metadata": {
        "id": "Kjg1KI3v37IQ",
        "outputId": "aeb85930-2af1-4c1f-b17b-dea4cc357c7d"
      },
      "outputs": [
        {
          "name": "stdout",
          "output_type": "stream",
          "text": [
            "<class 'pandas.core.frame.DataFrame'>\n",
            "RangeIndex: 3400 entries, 0 to 3399\n",
            "Data columns (total 13 columns):\n",
            " #   Column              Non-Null Count  Dtype \n",
            "---  ------              --------------  ----- \n",
            " 0   GRCODE              3400 non-null   int64 \n",
            " 1   GRNAME              3400 non-null   object\n",
            " 2   AccidentYear        3400 non-null   int64 \n",
            " 3   DevelopmentYear     3400 non-null   int64 \n",
            " 4   DevelopmentLag      3400 non-null   int64 \n",
            " 5   IncurLoss_F2        3400 non-null   int64 \n",
            " 6   CumPaidLoss_F2      3400 non-null   int64 \n",
            " 7   BulkLoss_F2         3400 non-null   int64 \n",
            " 8   EarnedPremDIR_F2    3400 non-null   int64 \n",
            " 9   EarnedPremCeded_F2  3400 non-null   int64 \n",
            " 10  EarnedPremNet_F2    3400 non-null   int64 \n",
            " 11  Single              3400 non-null   int64 \n",
            " 12  PostedReserve97_F2  3400 non-null   int64 \n",
            "dtypes: int64(12), object(1)\n",
            "memory usage: 345.4+ KB\n"
          ]
        }
      ],
      "source": [
        "# 1. Descripción de las variables\n",
        "variables_descripcion = df.describe(include='all')\n",
        "variables_info = df.info()"
      ]
    },
    {
      "cell_type": "markdown",
      "metadata": {
        "id": "0cTdJA6d37IQ"
      },
      "source": [
        "Como se puede observar, la mayoría de las columnas numéricas presentan una distribución normal, con una media cercana al valor central de la distribución y una desviación estándar que indica la dispersión de los datos alrededor de la media.\n",
        "\n",
        "- En particular, la columna GRCODE nos dice que es un entero pero sabemos que es una categoría similar al GRNAME.\n",
        "\n",
        "- La columna AccidentYear presenta una distribución sesgada a la derecha, con un mayor número de registros para los años más recientes.\n",
        "\n",
        "- La columna DevelopmentYear presenta una distribución similar a la de AccidentYear.\n",
        "\n",
        "- La columna DevelopmentLag presenta una distribución uniforme, con valores equidistantes entre 1 y 10.\n",
        "\n",
        "- Las columnas IncurLoss_F2, CumPaidLoss_F2 y BulkLoss_F2 presentan una distribución sesgada a la derecha, con un mayor número de registros para los valores más altos.\n",
        "\n",
        "- Las columnas Earned PremDIR_F2, Earned PremCeded_F2 y Earned PremNet_F2 presentan una distribución similar a la de IncurLoss_F2.\n",
        "\n",
        "- La columna Single presenta una distribución binaria, con dos valores posibles: 0 y 1.v"
      ]
    },
    {
      "cell_type": "code",
      "execution_count": null,
      "metadata": {
        "id": "YrWJHiv237IQ"
      },
      "outputs": [],
      "source": [
        "df['GRCODE'] = df['GRCODE'].astype('object')"
      ]
    },
    {
      "cell_type": "code",
      "execution_count": null,
      "metadata": {
        "id": "o-btatoC37IQ",
        "outputId": "e7df20e7-9945-476e-d393-335e49cedd59"
      },
      "outputs": [
        {
          "data": {
            "text/html": [
              "<div>\n",
              "<style scoped>\n",
              "    .dataframe tbody tr th:only-of-type {\n",
              "        vertical-align: middle;\n",
              "    }\n",
              "\n",
              "    .dataframe tbody tr th {\n",
              "        vertical-align: top;\n",
              "    }\n",
              "\n",
              "    .dataframe thead th {\n",
              "        text-align: right;\n",
              "    }\n",
              "</style>\n",
              "<table border=\"1\" class=\"dataframe\">\n",
              "  <thead>\n",
              "    <tr style=\"text-align: right;\">\n",
              "      <th></th>\n",
              "      <th>GRCODE</th>\n",
              "      <th>GRNAME</th>\n",
              "      <th>AccidentYear</th>\n",
              "      <th>DevelopmentYear</th>\n",
              "      <th>DevelopmentLag</th>\n",
              "      <th>IncurLoss_F2</th>\n",
              "      <th>CumPaidLoss_F2</th>\n",
              "      <th>BulkLoss_F2</th>\n",
              "      <th>EarnedPremDIR_F2</th>\n",
              "      <th>EarnedPremCeded_F2</th>\n",
              "      <th>EarnedPremNet_F2</th>\n",
              "      <th>Single</th>\n",
              "      <th>PostedReserve97_F2</th>\n",
              "    </tr>\n",
              "  </thead>\n",
              "  <tbody>\n",
              "    <tr>\n",
              "      <th>0</th>\n",
              "      <td>669</td>\n",
              "      <td>Scpie Indemnity Co</td>\n",
              "      <td>1988</td>\n",
              "      <td>1988</td>\n",
              "      <td>1</td>\n",
              "      <td>121905</td>\n",
              "      <td>2716</td>\n",
              "      <td>97966</td>\n",
              "      <td>129104</td>\n",
              "      <td>-6214</td>\n",
              "      <td>135318</td>\n",
              "      <td>0</td>\n",
              "      <td>344558</td>\n",
              "    </tr>\n",
              "    <tr>\n",
              "      <th>1</th>\n",
              "      <td>669</td>\n",
              "      <td>Scpie Indemnity Co</td>\n",
              "      <td>1988</td>\n",
              "      <td>1989</td>\n",
              "      <td>2</td>\n",
              "      <td>112211</td>\n",
              "      <td>24576</td>\n",
              "      <td>64117</td>\n",
              "      <td>129104</td>\n",
              "      <td>-6214</td>\n",
              "      <td>135318</td>\n",
              "      <td>0</td>\n",
              "      <td>344558</td>\n",
              "    </tr>\n",
              "    <tr>\n",
              "      <th>2</th>\n",
              "      <td>669</td>\n",
              "      <td>Scpie Indemnity Co</td>\n",
              "      <td>1988</td>\n",
              "      <td>1990</td>\n",
              "      <td>3</td>\n",
              "      <td>103226</td>\n",
              "      <td>43990</td>\n",
              "      <td>39008</td>\n",
              "      <td>129104</td>\n",
              "      <td>-6214</td>\n",
              "      <td>135318</td>\n",
              "      <td>0</td>\n",
              "      <td>344558</td>\n",
              "    </tr>\n",
              "    <tr>\n",
              "      <th>3</th>\n",
              "      <td>669</td>\n",
              "      <td>Scpie Indemnity Co</td>\n",
              "      <td>1988</td>\n",
              "      <td>1991</td>\n",
              "      <td>4</td>\n",
              "      <td>99599</td>\n",
              "      <td>59722</td>\n",
              "      <td>20736</td>\n",
              "      <td>129104</td>\n",
              "      <td>-6214</td>\n",
              "      <td>135318</td>\n",
              "      <td>0</td>\n",
              "      <td>344558</td>\n",
              "    </tr>\n",
              "    <tr>\n",
              "      <th>4</th>\n",
              "      <td>669</td>\n",
              "      <td>Scpie Indemnity Co</td>\n",
              "      <td>1988</td>\n",
              "      <td>1992</td>\n",
              "      <td>5</td>\n",
              "      <td>96006</td>\n",
              "      <td>71019</td>\n",
              "      <td>13599</td>\n",
              "      <td>129104</td>\n",
              "      <td>-6214</td>\n",
              "      <td>135318</td>\n",
              "      <td>0</td>\n",
              "      <td>344558</td>\n",
              "    </tr>\n",
              "  </tbody>\n",
              "</table>\n",
              "</div>"
            ],
            "text/plain": [
              "  GRCODE              GRNAME  AccidentYear  DevelopmentYear  DevelopmentLag  \\\n",
              "0    669  Scpie Indemnity Co          1988             1988               1   \n",
              "1    669  Scpie Indemnity Co          1988             1989               2   \n",
              "2    669  Scpie Indemnity Co          1988             1990               3   \n",
              "3    669  Scpie Indemnity Co          1988             1991               4   \n",
              "4    669  Scpie Indemnity Co          1988             1992               5   \n",
              "\n",
              "   IncurLoss_F2  CumPaidLoss_F2  BulkLoss_F2  EarnedPremDIR_F2  \\\n",
              "0        121905            2716        97966            129104   \n",
              "1        112211           24576        64117            129104   \n",
              "2        103226           43990        39008            129104   \n",
              "3         99599           59722        20736            129104   \n",
              "4         96006           71019        13599            129104   \n",
              "\n",
              "   EarnedPremCeded_F2  EarnedPremNet_F2  Single  PostedReserve97_F2  \n",
              "0               -6214            135318       0              344558  \n",
              "1               -6214            135318       0              344558  \n",
              "2               -6214            135318       0              344558  \n",
              "3               -6214            135318       0              344558  \n",
              "4               -6214            135318       0              344558  "
            ]
          },
          "execution_count": 6,
          "metadata": {},
          "output_type": "execute_result"
        }
      ],
      "source": [
        "# Visualizamos la primera empresa\n",
        "Empresa1 = df['GRNAME'].unique()[0]\n",
        "Empresa1 = df[df['GRNAME'] == Empresa1]\n",
        "Empresa1.head()"
      ]
    },
    {
      "cell_type": "markdown",
      "metadata": {
        "id": "fA--8B--37IR"
      },
      "source": [
        "Visualizaremos una pequeña descriptiva de las variables numéricas."
      ]
    },
    {
      "cell_type": "code",
      "execution_count": null,
      "metadata": {
        "id": "uqZir4hk37IR",
        "outputId": "a6fa8fe3-439b-4f6a-956b-4d7420195ca2"
      },
      "outputs": [
        {
          "data": {
            "text/html": [
              "<div>\n",
              "<style scoped>\n",
              "    .dataframe tbody tr th:only-of-type {\n",
              "        vertical-align: middle;\n",
              "    }\n",
              "\n",
              "    .dataframe tbody tr th {\n",
              "        vertical-align: top;\n",
              "    }\n",
              "\n",
              "    .dataframe thead th {\n",
              "        text-align: right;\n",
              "    }\n",
              "</style>\n",
              "<table border=\"1\" class=\"dataframe\">\n",
              "  <thead>\n",
              "    <tr style=\"text-align: right;\">\n",
              "      <th></th>\n",
              "      <th>AccidentYear</th>\n",
              "      <th>DevelopmentYear</th>\n",
              "      <th>DevelopmentLag</th>\n",
              "      <th>IncurLoss_F2</th>\n",
              "      <th>CumPaidLoss_F2</th>\n",
              "      <th>BulkLoss_F2</th>\n",
              "      <th>EarnedPremDIR_F2</th>\n",
              "      <th>EarnedPremCeded_F2</th>\n",
              "      <th>EarnedPremNet_F2</th>\n",
              "      <th>Single</th>\n",
              "      <th>PostedReserve97_F2</th>\n",
              "    </tr>\n",
              "  </thead>\n",
              "  <tbody>\n",
              "    <tr>\n",
              "      <th>count</th>\n",
              "      <td>3400.000000</td>\n",
              "      <td>3400.000000</td>\n",
              "      <td>3400.000000</td>\n",
              "      <td>3400.000000</td>\n",
              "      <td>3400.000000</td>\n",
              "      <td>3400.000000</td>\n",
              "      <td>3400.000000</td>\n",
              "      <td>3400.000000</td>\n",
              "      <td>3400.000000</td>\n",
              "      <td>3400.000000</td>\n",
              "      <td>3400.000000</td>\n",
              "    </tr>\n",
              "    <tr>\n",
              "      <th>mean</th>\n",
              "      <td>1992.500000</td>\n",
              "      <td>1997.000000</td>\n",
              "      <td>5.500000</td>\n",
              "      <td>11609.344412</td>\n",
              "      <td>6706.067059</td>\n",
              "      <td>1095.803235</td>\n",
              "      <td>14111.605882</td>\n",
              "      <td>1803.497059</td>\n",
              "      <td>12308.108824</td>\n",
              "      <td>0.852941</td>\n",
              "      <td>57065.529412</td>\n",
              "    </tr>\n",
              "    <tr>\n",
              "      <th>std</th>\n",
              "      <td>2.872704</td>\n",
              "      <td>4.062617</td>\n",
              "      <td>2.872704</td>\n",
              "      <td>26802.819463</td>\n",
              "      <td>17121.815066</td>\n",
              "      <td>7612.672277</td>\n",
              "      <td>26399.284476</td>\n",
              "      <td>3893.424584</td>\n",
              "      <td>24824.225795</td>\n",
              "      <td>0.354217</td>\n",
              "      <td>134355.533990</td>\n",
              "    </tr>\n",
              "    <tr>\n",
              "      <th>min</th>\n",
              "      <td>1988.000000</td>\n",
              "      <td>1988.000000</td>\n",
              "      <td>1.000000</td>\n",
              "      <td>-17.000000</td>\n",
              "      <td>-1190.000000</td>\n",
              "      <td>-32101.000000</td>\n",
              "      <td>-781.000000</td>\n",
              "      <td>-6214.000000</td>\n",
              "      <td>-728.000000</td>\n",
              "      <td>0.000000</td>\n",
              "      <td>0.000000</td>\n",
              "    </tr>\n",
              "    <tr>\n",
              "      <th>25%</th>\n",
              "      <td>1990.000000</td>\n",
              "      <td>1994.000000</td>\n",
              "      <td>3.000000</td>\n",
              "      <td>0.000000</td>\n",
              "      <td>0.000000</td>\n",
              "      <td>0.000000</td>\n",
              "      <td>0.000000</td>\n",
              "      <td>0.000000</td>\n",
              "      <td>0.000000</td>\n",
              "      <td>1.000000</td>\n",
              "      <td>629.000000</td>\n",
              "    </tr>\n",
              "    <tr>\n",
              "      <th>50%</th>\n",
              "      <td>1992.500000</td>\n",
              "      <td>1997.000000</td>\n",
              "      <td>5.500000</td>\n",
              "      <td>645.000000</td>\n",
              "      <td>187.000000</td>\n",
              "      <td>0.000000</td>\n",
              "      <td>1500.000000</td>\n",
              "      <td>106.500000</td>\n",
              "      <td>1302.000000</td>\n",
              "      <td>1.000000</td>\n",
              "      <td>5875.000000</td>\n",
              "    </tr>\n",
              "    <tr>\n",
              "      <th>75%</th>\n",
              "      <td>1995.000000</td>\n",
              "      <td>2000.000000</td>\n",
              "      <td>8.000000</td>\n",
              "      <td>9050.500000</td>\n",
              "      <td>4385.500000</td>\n",
              "      <td>107.250000</td>\n",
              "      <td>18094.500000</td>\n",
              "      <td>1473.500000</td>\n",
              "      <td>13490.000000</td>\n",
              "      <td>1.000000</td>\n",
              "      <td>46762.000000</td>\n",
              "    </tr>\n",
              "    <tr>\n",
              "      <th>max</th>\n",
              "      <td>1997.000000</td>\n",
              "      <td>2006.000000</td>\n",
              "      <td>10.000000</td>\n",
              "      <td>179425.000000</td>\n",
              "      <td>113189.000000</td>\n",
              "      <td>104402.000000</td>\n",
              "      <td>131948.000000</td>\n",
              "      <td>25553.000000</td>\n",
              "      <td>135318.000000</td>\n",
              "      <td>1.000000</td>\n",
              "      <td>702246.000000</td>\n",
              "    </tr>\n",
              "  </tbody>\n",
              "</table>\n",
              "</div>"
            ],
            "text/plain": [
              "       AccidentYear  DevelopmentYear  DevelopmentLag   IncurLoss_F2  \\\n",
              "count   3400.000000      3400.000000     3400.000000    3400.000000   \n",
              "mean    1992.500000      1997.000000        5.500000   11609.344412   \n",
              "std        2.872704         4.062617        2.872704   26802.819463   \n",
              "min     1988.000000      1988.000000        1.000000     -17.000000   \n",
              "25%     1990.000000      1994.000000        3.000000       0.000000   \n",
              "50%     1992.500000      1997.000000        5.500000     645.000000   \n",
              "75%     1995.000000      2000.000000        8.000000    9050.500000   \n",
              "max     1997.000000      2006.000000       10.000000  179425.000000   \n",
              "\n",
              "       CumPaidLoss_F2    BulkLoss_F2  EarnedPremDIR_F2  EarnedPremCeded_F2  \\\n",
              "count     3400.000000    3400.000000       3400.000000         3400.000000   \n",
              "mean      6706.067059    1095.803235      14111.605882         1803.497059   \n",
              "std      17121.815066    7612.672277      26399.284476         3893.424584   \n",
              "min      -1190.000000  -32101.000000       -781.000000        -6214.000000   \n",
              "25%          0.000000       0.000000          0.000000            0.000000   \n",
              "50%        187.000000       0.000000       1500.000000          106.500000   \n",
              "75%       4385.500000     107.250000      18094.500000         1473.500000   \n",
              "max     113189.000000  104402.000000     131948.000000        25553.000000   \n",
              "\n",
              "       EarnedPremNet_F2       Single  PostedReserve97_F2  \n",
              "count       3400.000000  3400.000000         3400.000000  \n",
              "mean       12308.108824     0.852941        57065.529412  \n",
              "std        24824.225795     0.354217       134355.533990  \n",
              "min         -728.000000     0.000000            0.000000  \n",
              "25%            0.000000     1.000000          629.000000  \n",
              "50%         1302.000000     1.000000         5875.000000  \n",
              "75%        13490.000000     1.000000        46762.000000  \n",
              "max       135318.000000     1.000000       702246.000000  "
            ]
          },
          "execution_count": 7,
          "metadata": {},
          "output_type": "execute_result"
        }
      ],
      "source": [
        "df.describe(include=['int64'])"
      ]
    },
    {
      "cell_type": "markdown",
      "metadata": {
        "id": "wh05hRXB37IR"
      },
      "source": [
        "- Los datos de la base de datos presentan una distribución relativamente normal, con algunas excepciones como la columna AccidentYear. Esto significa que la mayoría de los valores se encuentran agrupados alrededor de la media, con una cola de valores más altos y más bajos.\n",
        "- La columna AccidentYear presenta una distribución sesgada a la derecha, con un mayor número de registros para los años más recientes. Esto puede deberse a que la base de datos se ha recopilado durante un período de tiempo prolongado y los datos más recientes están más completos.\n",
        "- Las columnas DevelopmentYear y DevelopmentLag presentan una distribución similar a la de AccidentYear. Esto es coherente con la idea de que las pérdidas se producen en los años posteriores al accidente.\n",
        "- Las columnas IncurLoss_F2, CumPaidLoss_F2 y BulkLoss_F2 presentan una distribución sesgada a la derecha, con un mayor número de registros para los valores más altos. Esto puede deberse a que las pérdidas suelen ser más altas en los casos más graves.\n",
        "- Las columnas Earned PremDIR_F2, Earned PremCeded_F2 y Earned PremNet_F2 presentan una distribución similar a la de IncurLoss_F2. Esto es coherente con la idea de que las primas y las pérdidas suelen estar correlacionadas.\n",
        "- La columna Single presenta una distribución binaria, con dos valores posibles: 0 y 1. Esto significa que los registros de la base de datos pueden clasificarse en dos categorías: individuales y no individuales."
      ]
    },
    {
      "cell_type": "markdown",
      "metadata": {
        "id": "_gpsU7ob37IR"
      },
      "source": [
        "Procedemos con algunos gráficos que nos ayuden ampliar la perspectiva o noción de los datos con los cuales trabajaremos. Dado que más adelante puede que trabajemos con regresiones es pertinente analizar las correlaciones entre nuestras variable, esto dado que para este punto aún no sabemos con que variables vamos a trabajar para la predicción de perdidas dados los siniestros."
      ]
    },
    {
      "cell_type": "code",
      "execution_count": null,
      "metadata": {
        "id": "kohDH7IO37IR",
        "outputId": "feb5aba6-437a-4c18-e255-12000e74179c"
      },
      "outputs": [
        {
          "data": {
            "image/png": "[encoded data removed]",
            "text/plain": [
              "<Figure size 480x480 with 1 Axes>"
            ]
          },
          "metadata": {},
          "output_type": "display_data"
        }
      ],
      "source": [
        "matriz_correlaciones = df.select_dtypes(include=[np.number]).corr()\n",
        "plt.matshow(matriz_correlaciones, cmap=\"Reds\")\n",
        "plt.xticks(np.arange(matriz_correlaciones.shape[0]), df.select_dtypes(include=[np.number]).columns, rotation=90)\n",
        "plt.yticks(np.arange(matriz_correlaciones.shape[1]), df.select_dtypes(include=[np.number]).columns)\n",
        "plt.show()"
      ]
    },
    {
      "cell_type": "markdown",
      "metadata": {
        "id": "ZG67tdZI37IS"
      },
      "source": [
        "La matriz de correlaciones muestra una correlación muy alta entre las columnas IncurLoss_F2, CumPaidLoss_F2, BulkLoss_F2, EarnedPremDIR_F2, EarnedPremCeded_F2 y EarnedPremNet_F2. Esto sugiere que estas columnas están relacionadas entre sí y que pueden utilizarse para modelar las pérdidas.\n",
        "\n",
        "La matriz de correlaciones es una herramienta útil para identificar relaciones entre variables. En este caso, la matriz muestra que las columnas relacionadas con las pérdidas están altamente correlacionadas entre sí. Esto sugiere que estas columnas pueden utilizarse para modelar las pérdidas de forma eficaz."
      ]
    },
    {
      "cell_type": "markdown",
      "metadata": {
        "id": "Ko7gcwXL37IS"
      },
      "source": [
        "La comparación entre el monto total de las primas emitidas y los costos incurridos durante un período de 10 años hasta 1997 nos permitirá observar algunas compañías de seguros de malas prácticas médicas están perdiendo dinero. Esto se debe a que los costos de los siniestros, incluidos los pagos realizados y las reservas para siniestros reportados, superan el monto de las primas recibidas.\n",
        "\n",
        "Esta comparación es importante porque permite identificar a las compañías que están teniendo problemas de rentabilidad. Los resultados nos muestraran algunas compañías pueden estar enfrentando dificultades para mantenerse en el mercado."
      ]
    },
    {
      "cell_type": "code",
      "execution_count": null,
      "metadata": {
        "id": "DOmV62v637IS",
        "outputId": "467c226a-7e5b-47d0-b6af-9f4242f8ce4f"
      },
      "outputs": [
        {
          "data": {
            "image/png": "[encoded data removed]",
            "text/plain": [
              "<Figure size 1000x600 with 1 Axes>"
            ]
          },
          "metadata": {},
          "output_type": "display_data"
        }
      ],
      "source": [
        "df_triangulo = df[(df['DevelopmentYear']==1997)].copy()\n",
        "df_triangulo = df_triangulo[['GRNAME', 'AccidentYear', 'DevelopmentYear', 'IncurLoss_F2','CumPaidLoss_F2', 'BulkLoss_F2', 'EarnedPremNet_F2']].copy()\n",
        "grouped_data = df_triangulo.groupby('GRNAME').agg({'IncurLoss_F2': 'sum', 'EarnedPremNet_F2': 'sum'}).reset_index()\n",
        "grouped_data_sorted = grouped_data.sort_values(by='EarnedPremNet_F2', ascending=False)\n",
        "plt.figure(figsize=(10, 6))\n",
        "num_groups = len(grouped_data_sorted['GRNAME'])\n",
        "bar_width = 0.35\n",
        "index_earned = range(num_groups)\n",
        "index_incur = [i + bar_width for i in index_earned]\n",
        "plt.bar(index_earned, grouped_data_sorted['EarnedPremNet_F2'], bar_width, label='EarnedPremNet_F2', alpha=0.7, color='purple')\n",
        "plt.bar(index_incur, grouped_data_sorted['IncurLoss_F2'], bar_width, label='IncurLoss_F2', alpha=0.7)\n",
        "plt.ylabel('Monto')\n",
        "plt.title('Prima vs Perdida Incurrida')\n",
        "plt.xticks(index_earned, grouped_data_sorted['GRNAME'], rotation='vertical')\n",
        "plt.legend()\n",
        "plt.show()"
      ]
    },
    {
      "cell_type": "markdown",
      "metadata": {
        "id": "flOZGaqy37IS"
      },
      "source": [
        "Dado nuestro argumento par ala generación de este gráfico, evidenciamos unicamente que para la corporación \"Physicians Recip Insurers\" es la única que presenta un mayor costo en incurridos que las primas recibidas. Esto sería una buena alerta para ellos dado que no les esta siendo rentable pero para las demás aunque no es muy significativo no están yendo a perdidas."
      ]
    },
    {
      "cell_type": "code",
      "execution_count": null,
      "metadata": {
        "id": "fn1n0qDt37IS",
        "outputId": "89ed1123-a750-4ef1-b015-5a906c9bd487"
      },
      "outputs": [
        {
          "name": "stderr",
          "output_type": "stream",
          "text": [
            "C:\\Users\\moshe\\AppData\\Local\\Temp\\ipykernel_25476\\4032398861.py:7: FutureWarning: \n",
            "\n",
            "Passing `palette` without assigning `hue` is deprecated and will be removed in v0.14.0. Assign the `x` variable to `hue` and set `legend=False` for the same effect.\n",
            "\n",
            "  boxplot = sns.boxplot(data=primas, x='GRNAME', y='EarnedPremNet_F2', palette='Set1', order=order)\n"
          ]
        },
        {
          "data": {
            "image/png": "[encoded data removed]",
            "text/plain": [
              "<Figure size 1000x600 with 1 Axes>"
            ]
          },
          "metadata": {},
          "output_type": "display_data"
        }
      ],
      "source": [
        "primas = df[df.AccidentYear == df.DevelopmentYear].copy()\n",
        "order = primas.groupby('GRNAME')['EarnedPremNet_F2'].median().sort_values(ascending=False).index\n",
        "plt.figure(figsize=(10, 6))\n",
        "plt.ylabel('Prima Neta ganada por año')\n",
        "plt.title('Distribución de las Primas Netas anuales (Por compañía)')\n",
        "plt.plot([1988, 1997], [primas['EarnedPremNet_F2'].mean(), primas['EarnedPremNet_F2'].mean()], lw=2, color='black')\n",
        "boxplot = sns.boxplot(data=primas, x='GRNAME', y='EarnedPremNet_F2', palette='Set1', order=order)\n",
        "plt.xticks(rotation=90)\n",
        "plt.grid(which='both', axis='both', alpha=0.25)\n",
        "plt.show()"
      ]
    },
    {
      "cell_type": "markdown",
      "metadata": {
        "id": "JL-Y8FNG37IS"
      },
      "source": [
        "El gráfico muestra la distribución de las primas netas anuales por compañía de seguros de malas prácticas médicas en los Estados Unidos, de 1988 a 1997. Las compañías se ordenan por mediana de primas netas, de mayor a menor.\n",
        "\n",
        "El gráfico muestra que la distribución de las primas netas es muy heterogénea. Algunas compañías tienen primas netas muy altas, mientras que otras tienen primas netas muy bajas.\n",
        "\n",
        "Las compañías con las primas netas más altas son:\n",
        "\n",
        "Scpie Indemnity Co\n",
        "Physicians Recip Insurers\n",
        "State Volunteer Mut Ins Co\n",
        "Promutuak Grp\n",
        "Dentists Ins Co\n",
        "\n",
        "Estas compañías son las principales aseguradoras de malas prácticas médicas en los Estados Unidos. Tienen una gran cuota de mercado y una amplia base de clientes.\n",
        "\n",
        "Las compañías con las primas netas más bajas son:\n",
        "\n",
        "- American Association of Othodontists RRG\n",
        "- Texas Hospital Ins Exch\n",
        "- Campmed Cas & Ind Co Inc MD\n",
        "- Community Blood Cntr Exch PRG\n",
        "- Controlled Risk Ins Co Of VT Inc\n",
        "\n",
        "Estas compañías son más pequeñas y tienen una menor cuota de mercado.\n",
        "\n",
        "El gráfico también muestra que, en general, las primas netas pueden haber aumentado a lo largo del tiempo. Esto se puede deberse a una serie de factores, como el aumento de los costos médicos, la creciente demanda de seguros de malas prácticas médicas y la expansión de las coberturas de los seguros.\n",
        "\n",
        "Sin embargo, la distribución de las primas netas sigue siendo muy heterogénea. Esto sugiere que algunas compañías están teniendo más éxito que otras en la gestión de sus riesgos y en la obtención de primas de los clientes."
      ]
    },
    {
      "cell_type": "markdown",
      "metadata": {
        "id": "2hN83ei237IS"
      },
      "source": [
        "# Calidad de datos"
      ]
    },
    {
      "cell_type": "markdown",
      "metadata": {
        "id": "k3V6CKtW37IT"
      },
      "source": [
        "La calidad de los datos es un aspecto fundamental para cualquier proyecto de análisis de datos. En el caso de los datos de malas prácticas médicas, la calidad es especialmente importante, ya que estos datos se utilizan para evaluar el desempeño de los profesionales de la salud y para tomar decisiones sobre la seguridad del paciente.\n",
        "\n",
        "En el caso de los datos que se utilizarán para metodologías de modelado, es posible que no se encuentren datos incoherentes o vacíos. Esto se debe a que estos datos suelen ser limpios y estructurados, ya que han sido preparados para su uso en modelos de aprendizaje automático. Sin embargo, es importante realizar una revisión de la calidad de los datos, incluso en estos casos. Esto se debe a que pueden existir errores u omisiones que no sean inmediatamente evidentes.\n",
        "\n",
        "La revisión de la calidad de los datos debe incluir los siguientes pasos:\n",
        "\n",
        "Verificación de la integridad de los datos: Esto implica asegurarse de que los datos son completos y correctos.\n",
        "Verificación de la consistencia de los datos: Esto implica asegurarse de que los datos están organizados de manera coherente y que los valores son consistentes entre sí.\n",
        "Verificación de la relevancia de los datos: Esto implica asegurarse de que los datos son relevantes para el propósito del análisis.\n",
        "La revisión de la calidad de los datos es una tarea importante que debe realizarse antes de comenzar cualquier análisis de datos. Esta tarea ayuda a garantizar que los resultados del análisis sean precisos y fiables."
      ]
    },
    {
      "cell_type": "code",
      "execution_count": null,
      "metadata": {
        "id": "Tmd2zV7f37IT",
        "outputId": "85a98a3e-cc6c-4514-c3f0-479b25bbb357"
      },
      "outputs": [
        {
          "data": {
            "text/plain": [
              "GRCODE                0\n",
              "GRNAME                0\n",
              "AccidentYear          0\n",
              "DevelopmentYear       0\n",
              "DevelopmentLag        0\n",
              "IncurLoss_F2          0\n",
              "CumPaidLoss_F2        0\n",
              "BulkLoss_F2           0\n",
              "EarnedPremDIR_F2      0\n",
              "EarnedPremCeded_F2    0\n",
              "EarnedPremNet_F2      0\n",
              "Single                0\n",
              "PostedReserve97_F2    0\n",
              "dtype: int64"
            ]
          },
          "execution_count": 11,
          "metadata": {},
          "output_type": "execute_result"
        }
      ],
      "source": [
        "df.isnull().sum()+df.isna().sum()"
      ]
    },
    {
      "cell_type": "markdown",
      "metadata": {
        "id": "5mX1hBrH37IT"
      },
      "source": [
        "Como era de esperarse no encontramos valores ausentes"
      ]
    },
    {
      "cell_type": "code",
      "execution_count": null,
      "metadata": {
        "id": "r6SML_Ek37IT",
        "outputId": "2dc9422c-aba5-4740-b103-309f12cffd52"
      },
      "outputs": [
        {
          "data": {
            "text/plain": [
              "array(['Great Amer Grp', 'Nationwide Grp',\n",
              "       'Overseas Partners Us Reins Co', 'Eastern Dentists Ins Co RRG',\n",
              "       'American Assoc Of Othodontists RRG',\n",
              "       'Controlled Risk Ins Co Of VT Inc', 'Texas Medical Ins Co',\n",
              "       'MCIC VT Inc RRG', 'Franklin Cas Ins Co RRG', 'Homestead Ins Co',\n",
              "       'Campmed Cas & Ind Co Inc MD', 'Community Blood Cntr Exch RRG',\n",
              "       'Underwriters At Lloyds London', 'NCMIC Ins Co',\n",
              "       'National American Ins Co', 'Michigan Professional Ins Exch',\n",
              "       'Nichido Fire & Marine Ins Co Ltd', 'Health Care Ind Inc',\n",
              "       'National Guardian RRG Inc', 'California Healthcare Ins Co Inc'],\n",
              "      dtype=object)"
            ]
          },
          "execution_count": 12,
          "metadata": {},
          "output_type": "execute_result"
        }
      ],
      "source": [
        "df[\"GRNAME\"][df[\"IncurLoss_F2\"] <= 0].unique()"
      ]
    },
    {
      "cell_type": "markdown",
      "metadata": {
        "id": "VYDazRcU37IT"
      },
      "source": [
        "En este punto evidenciamos algunas compañias con valores negarivos sobre perdidas incurridas, se entrará en consideración si se eliminan o continuamos con estos. Esto se debe a que el valor negativo debe significar un valor para estas compañias y deseamos que el modelo sea robusto frente a estas situaciones."
      ]
    },
    {
      "cell_type": "markdown",
      "metadata": {
        "id": "lx-CvCci37IT"
      },
      "source": [
        "# Método Chain Ladder"
      ]
    },
    {
      "cell_type": "markdown",
      "metadata": {
        "id": "wSgO8OpM37IU"
      },
      "source": [
        "Empezaremos con el primer modelo tradicional y deterministico:"
      ]
    },
    {
      "cell_type": "markdown",
      "metadata": {
        "id": "51IX4o1i37IU"
      },
      "source": [
        "Pivoteamos la empresa que se extrajo en la celda anterior como Empresa1, esto para mostrar como queda un triangulo resuelto con valores reales"
      ]
    },
    {
      "cell_type": "code",
      "execution_count": null,
      "metadata": {
        "id": "STOQMHyB37IU",
        "outputId": "29c57882-720e-45e9-ef71-ce5eb56135a3"
      },
      "outputs": [
        {
          "data": {
            "text/html": [
              "<div>\n",
              "<style scoped>\n",
              "    .dataframe tbody tr th:only-of-type {\n",
              "        vertical-align: middle;\n",
              "    }\n",
              "\n",
              "    .dataframe tbody tr th {\n",
              "        vertical-align: top;\n",
              "    }\n",
              "\n",
              "    .dataframe thead th {\n",
              "        text-align: right;\n",
              "    }\n",
              "</style>\n",
              "<table border=\"1\" class=\"dataframe\">\n",
              "  <thead>\n",
              "    <tr style=\"text-align: right;\">\n",
              "      <th>DevelopmentLag</th>\n",
              "      <th>1</th>\n",
              "      <th>2</th>\n",
              "      <th>3</th>\n",
              "      <th>4</th>\n",
              "      <th>5</th>\n",
              "      <th>6</th>\n",
              "      <th>7</th>\n",
              "      <th>8</th>\n",
              "      <th>9</th>\n",
              "      <th>10</th>\n",
              "    </tr>\n",
              "    <tr>\n",
              "      <th>AccidentYear</th>\n",
              "      <th></th>\n",
              "      <th></th>\n",
              "      <th></th>\n",
              "      <th></th>\n",
              "      <th></th>\n",
              "      <th></th>\n",
              "      <th></th>\n",
              "      <th></th>\n",
              "      <th></th>\n",
              "      <th></th>\n",
              "    </tr>\n",
              "  </thead>\n",
              "  <tbody>\n",
              "    <tr>\n",
              "      <th>1988</th>\n",
              "      <td>121905</td>\n",
              "      <td>112211</td>\n",
              "      <td>103226</td>\n",
              "      <td>99599</td>\n",
              "      <td>96006</td>\n",
              "      <td>90487</td>\n",
              "      <td>82640</td>\n",
              "      <td>80406</td>\n",
              "      <td>78920</td>\n",
              "      <td>78511</td>\n",
              "    </tr>\n",
              "    <tr>\n",
              "      <th>1989</th>\n",
              "      <td>122679</td>\n",
              "      <td>113165</td>\n",
              "      <td>110037</td>\n",
              "      <td>101142</td>\n",
              "      <td>90817</td>\n",
              "      <td>81919</td>\n",
              "      <td>77491</td>\n",
              "      <td>73577</td>\n",
              "      <td>72716</td>\n",
              "      <td>72317</td>\n",
              "    </tr>\n",
              "    <tr>\n",
              "      <th>1990</th>\n",
              "      <td>118157</td>\n",
              "      <td>117497</td>\n",
              "      <td>116377</td>\n",
              "      <td>99895</td>\n",
              "      <td>89252</td>\n",
              "      <td>81916</td>\n",
              "      <td>79134</td>\n",
              "      <td>76333</td>\n",
              "      <td>75612</td>\n",
              "      <td>75350</td>\n",
              "    </tr>\n",
              "    <tr>\n",
              "      <th>1991</th>\n",
              "      <td>117981</td>\n",
              "      <td>122443</td>\n",
              "      <td>121056</td>\n",
              "      <td>113795</td>\n",
              "      <td>102830</td>\n",
              "      <td>98071</td>\n",
              "      <td>94870</td>\n",
              "      <td>91062</td>\n",
              "      <td>90493</td>\n",
              "      <td>90345</td>\n",
              "    </tr>\n",
              "    <tr>\n",
              "      <th>1992</th>\n",
              "      <td>131059</td>\n",
              "      <td>130155</td>\n",
              "      <td>124195</td>\n",
              "      <td>113974</td>\n",
              "      <td>106817</td>\n",
              "      <td>99182</td>\n",
              "      <td>92588</td>\n",
              "      <td>91000</td>\n",
              "      <td>89256</td>\n",
              "      <td>89251</td>\n",
              "    </tr>\n",
              "    <tr>\n",
              "      <th>1993</th>\n",
              "      <td>134700</td>\n",
              "      <td>130757</td>\n",
              "      <td>125253</td>\n",
              "      <td>114717</td>\n",
              "      <td>111294</td>\n",
              "      <td>98014</td>\n",
              "      <td>96872</td>\n",
              "      <td>95714</td>\n",
              "      <td>96017</td>\n",
              "      <td>96047</td>\n",
              "    </tr>\n",
              "    <tr>\n",
              "      <th>1994</th>\n",
              "      <td>136749</td>\n",
              "      <td>128192</td>\n",
              "      <td>121355</td>\n",
              "      <td>111877</td>\n",
              "      <td>96152</td>\n",
              "      <td>91502</td>\n",
              "      <td>90498</td>\n",
              "      <td>91870</td>\n",
              "      <td>91848</td>\n",
              "      <td>91938</td>\n",
              "    </tr>\n",
              "    <tr>\n",
              "      <th>1995</th>\n",
              "      <td>140962</td>\n",
              "      <td>132405</td>\n",
              "      <td>118332</td>\n",
              "      <td>100050</td>\n",
              "      <td>88809</td>\n",
              "      <td>82360</td>\n",
              "      <td>81986</td>\n",
              "      <td>81887</td>\n",
              "      <td>81796</td>\n",
              "      <td>81782</td>\n",
              "    </tr>\n",
              "    <tr>\n",
              "      <th>1996</th>\n",
              "      <td>134473</td>\n",
              "      <td>128980</td>\n",
              "      <td>113645</td>\n",
              "      <td>104273</td>\n",
              "      <td>99276</td>\n",
              "      <td>97782</td>\n",
              "      <td>97282</td>\n",
              "      <td>97738</td>\n",
              "      <td>97601</td>\n",
              "      <td>97251</td>\n",
              "    </tr>\n",
              "    <tr>\n",
              "      <th>1997</th>\n",
              "      <td>137944</td>\n",
              "      <td>127727</td>\n",
              "      <td>114057</td>\n",
              "      <td>107001</td>\n",
              "      <td>102143</td>\n",
              "      <td>99665</td>\n",
              "      <td>99942</td>\n",
              "      <td>99968</td>\n",
              "      <td>99590</td>\n",
              "      <td>99378</td>\n",
              "    </tr>\n",
              "  </tbody>\n",
              "</table>\n",
              "</div>"
            ],
            "text/plain": [
              "DevelopmentLag      1       2       3       4       5      6      7      8   \\\n",
              "AccidentYear                                                                  \n",
              "1988            121905  112211  103226   99599   96006  90487  82640  80406   \n",
              "1989            122679  113165  110037  101142   90817  81919  77491  73577   \n",
              "1990            118157  117497  116377   99895   89252  81916  79134  76333   \n",
              "1991            117981  122443  121056  113795  102830  98071  94870  91062   \n",
              "1992            131059  130155  124195  113974  106817  99182  92588  91000   \n",
              "1993            134700  130757  125253  114717  111294  98014  96872  95714   \n",
              "1994            136749  128192  121355  111877   96152  91502  90498  91870   \n",
              "1995            140962  132405  118332  100050   88809  82360  81986  81887   \n",
              "1996            134473  128980  113645  104273   99276  97782  97282  97738   \n",
              "1997            137944  127727  114057  107001  102143  99665  99942  99968   \n",
              "\n",
              "DevelopmentLag     9      10  \n",
              "AccidentYear                  \n",
              "1988            78920  78511  \n",
              "1989            72716  72317  \n",
              "1990            75612  75350  \n",
              "1991            90493  90345  \n",
              "1992            89256  89251  \n",
              "1993            96017  96047  \n",
              "1994            91848  91938  \n",
              "1995            81796  81782  \n",
              "1996            97601  97251  \n",
              "1997            99590  99378  "
            ]
          },
          "execution_count": 13,
          "metadata": {},
          "output_type": "execute_result"
        }
      ],
      "source": [
        "Empresa1.pivot(index='AccidentYear', columns='DevelopmentLag', values='IncurLoss_F2')"
      ]
    },
    {
      "cell_type": "markdown",
      "metadata": {
        "id": "i9PMMzIB37IU"
      },
      "source": [
        "Veremos como llenamos los valores del triangulo inferior como ceros, posteriormente utilizaremos el objeto NaN"
      ]
    },
    {
      "cell_type": "code",
      "execution_count": null,
      "metadata": {
        "id": "dtGYpNWq37IU",
        "outputId": "797b2126-156c-4c17-800c-cd334aa98e64"
      },
      "outputs": [
        {
          "data": {
            "text/html": [
              "<div>\n",
              "<style scoped>\n",
              "    .dataframe tbody tr th:only-of-type {\n",
              "        vertical-align: middle;\n",
              "    }\n",
              "\n",
              "    .dataframe tbody tr th {\n",
              "        vertical-align: top;\n",
              "    }\n",
              "\n",
              "    .dataframe thead th {\n",
              "        text-align: right;\n",
              "    }\n",
              "</style>\n",
              "<table border=\"1\" class=\"dataframe\">\n",
              "  <thead>\n",
              "    <tr style=\"text-align: right;\">\n",
              "      <th>DevelopmentLag</th>\n",
              "      <th>1</th>\n",
              "      <th>2</th>\n",
              "      <th>3</th>\n",
              "      <th>4</th>\n",
              "      <th>5</th>\n",
              "      <th>6</th>\n",
              "      <th>7</th>\n",
              "      <th>8</th>\n",
              "      <th>9</th>\n",
              "      <th>10</th>\n",
              "    </tr>\n",
              "    <tr>\n",
              "      <th>AccidentYear</th>\n",
              "      <th></th>\n",
              "      <th></th>\n",
              "      <th></th>\n",
              "      <th></th>\n",
              "      <th></th>\n",
              "      <th></th>\n",
              "      <th></th>\n",
              "      <th></th>\n",
              "      <th></th>\n",
              "      <th></th>\n",
              "    </tr>\n",
              "  </thead>\n",
              "  <tbody>\n",
              "    <tr>\n",
              "      <th>1988</th>\n",
              "      <td>121905</td>\n",
              "      <td>112211.0</td>\n",
              "      <td>103226.0</td>\n",
              "      <td>99599.0</td>\n",
              "      <td>96006.0</td>\n",
              "      <td>90487.0</td>\n",
              "      <td>82640.0</td>\n",
              "      <td>80406.0</td>\n",
              "      <td>78920.0</td>\n",
              "      <td>78511.0</td>\n",
              "    </tr>\n",
              "    <tr>\n",
              "      <th>1989</th>\n",
              "      <td>122679</td>\n",
              "      <td>113165.0</td>\n",
              "      <td>110037.0</td>\n",
              "      <td>101142.0</td>\n",
              "      <td>90817.0</td>\n",
              "      <td>81919.0</td>\n",
              "      <td>77491.0</td>\n",
              "      <td>73577.0</td>\n",
              "      <td>72716.0</td>\n",
              "      <td>NaN</td>\n",
              "    </tr>\n",
              "    <tr>\n",
              "      <th>1990</th>\n",
              "      <td>118157</td>\n",
              "      <td>117497.0</td>\n",
              "      <td>116377.0</td>\n",
              "      <td>99895.0</td>\n",
              "      <td>89252.0</td>\n",
              "      <td>81916.0</td>\n",
              "      <td>79134.0</td>\n",
              "      <td>76333.0</td>\n",
              "      <td>NaN</td>\n",
              "      <td>NaN</td>\n",
              "    </tr>\n",
              "    <tr>\n",
              "      <th>1991</th>\n",
              "      <td>117981</td>\n",
              "      <td>122443.0</td>\n",
              "      <td>121056.0</td>\n",
              "      <td>113795.0</td>\n",
              "      <td>102830.0</td>\n",
              "      <td>98071.0</td>\n",
              "      <td>94870.0</td>\n",
              "      <td>NaN</td>\n",
              "      <td>NaN</td>\n",
              "      <td>NaN</td>\n",
              "    </tr>\n",
              "    <tr>\n",
              "      <th>1992</th>\n",
              "      <td>131059</td>\n",
              "      <td>130155.0</td>\n",
              "      <td>124195.0</td>\n",
              "      <td>113974.0</td>\n",
              "      <td>106817.0</td>\n",
              "      <td>99182.0</td>\n",
              "      <td>NaN</td>\n",
              "      <td>NaN</td>\n",
              "      <td>NaN</td>\n",
              "      <td>NaN</td>\n",
              "    </tr>\n",
              "    <tr>\n",
              "      <th>1993</th>\n",
              "      <td>134700</td>\n",
              "      <td>130757.0</td>\n",
              "      <td>125253.0</td>\n",
              "      <td>114717.0</td>\n",
              "      <td>111294.0</td>\n",
              "      <td>NaN</td>\n",
              "      <td>NaN</td>\n",
              "      <td>NaN</td>\n",
              "      <td>NaN</td>\n",
              "      <td>NaN</td>\n",
              "    </tr>\n",
              "    <tr>\n",
              "      <th>1994</th>\n",
              "      <td>136749</td>\n",
              "      <td>128192.0</td>\n",
              "      <td>121355.0</td>\n",
              "      <td>111877.0</td>\n",
              "      <td>NaN</td>\n",
              "      <td>NaN</td>\n",
              "      <td>NaN</td>\n",
              "      <td>NaN</td>\n",
              "      <td>NaN</td>\n",
              "      <td>NaN</td>\n",
              "    </tr>\n",
              "    <tr>\n",
              "      <th>1995</th>\n",
              "      <td>140962</td>\n",
              "      <td>132405.0</td>\n",
              "      <td>118332.0</td>\n",
              "      <td>NaN</td>\n",
              "      <td>NaN</td>\n",
              "      <td>NaN</td>\n",
              "      <td>NaN</td>\n",
              "      <td>NaN</td>\n",
              "      <td>NaN</td>\n",
              "      <td>NaN</td>\n",
              "    </tr>\n",
              "    <tr>\n",
              "      <th>1996</th>\n",
              "      <td>134473</td>\n",
              "      <td>128980.0</td>\n",
              "      <td>NaN</td>\n",
              "      <td>NaN</td>\n",
              "      <td>NaN</td>\n",
              "      <td>NaN</td>\n",
              "      <td>NaN</td>\n",
              "      <td>NaN</td>\n",
              "      <td>NaN</td>\n",
              "      <td>NaN</td>\n",
              "    </tr>\n",
              "    <tr>\n",
              "      <th>1997</th>\n",
              "      <td>137944</td>\n",
              "      <td>NaN</td>\n",
              "      <td>NaN</td>\n",
              "      <td>NaN</td>\n",
              "      <td>NaN</td>\n",
              "      <td>NaN</td>\n",
              "      <td>NaN</td>\n",
              "      <td>NaN</td>\n",
              "      <td>NaN</td>\n",
              "      <td>NaN</td>\n",
              "    </tr>\n",
              "  </tbody>\n",
              "</table>\n",
              "</div>"
            ],
            "text/plain": [
              "DevelopmentLag      1         2         3         4         5        6   \\\n",
              "AccidentYear                                                              \n",
              "1988            121905  112211.0  103226.0   99599.0   96006.0  90487.0   \n",
              "1989            122679  113165.0  110037.0  101142.0   90817.0  81919.0   \n",
              "1990            118157  117497.0  116377.0   99895.0   89252.0  81916.0   \n",
              "1991            117981  122443.0  121056.0  113795.0  102830.0  98071.0   \n",
              "1992            131059  130155.0  124195.0  113974.0  106817.0  99182.0   \n",
              "1993            134700  130757.0  125253.0  114717.0  111294.0      NaN   \n",
              "1994            136749  128192.0  121355.0  111877.0       NaN      NaN   \n",
              "1995            140962  132405.0  118332.0       NaN       NaN      NaN   \n",
              "1996            134473  128980.0       NaN       NaN       NaN      NaN   \n",
              "1997            137944       NaN       NaN       NaN       NaN      NaN   \n",
              "\n",
              "DevelopmentLag       7        8        9        10  \n",
              "AccidentYear                                        \n",
              "1988            82640.0  80406.0  78920.0  78511.0  \n",
              "1989            77491.0  73577.0  72716.0      NaN  \n",
              "1990            79134.0  76333.0      NaN      NaN  \n",
              "1991            94870.0      NaN      NaN      NaN  \n",
              "1992                NaN      NaN      NaN      NaN  \n",
              "1993                NaN      NaN      NaN      NaN  \n",
              "1994                NaN      NaN      NaN      NaN  \n",
              "1995                NaN      NaN      NaN      NaN  \n",
              "1996                NaN      NaN      NaN      NaN  \n",
              "1997                NaN      NaN      NaN      NaN  "
            ]
          },
          "execution_count": 14,
          "metadata": {},
          "output_type": "execute_result"
        }
      ],
      "source": [
        "Triangulo_acumulado = Empresa1.pivot(index='AccidentYear', columns='DevelopmentLag', values='IncurLoss_F2')\n",
        "for i in range(len(Triangulo_acumulado)):\n",
        "    for j in range(len(Triangulo_acumulado)):\n",
        "        if j < i:\n",
        "            Triangulo_acumulado[i+1].iloc[len(Triangulo_acumulado)-1-j] = 0\n",
        "Triangulo_acumulado = Triangulo_acumulado.replace(0,np.nan)\n",
        "Triangulo_acumulado"
      ]
    },
    {
      "cell_type": "markdown",
      "metadata": {
        "id": "VojEWxbx37IU"
      },
      "source": [
        "Para este punto, teniendo el triangulo superior, procedemos con la completación del triangulo por medio del método Chain Ladder. Creamos un diccionario con algunos objetos de interés:\n",
        "\n",
        "- Datos reales: Datos completos del triangulo\n",
        "- Triangulo Acumulado: Presenta el triangulo superior, los demás valores NaN\n",
        "- Links ratios: Presenta los pesos para cada una de las columnas\n",
        "- CSA: Los pesos de expansión, estos permiten extrapolar la información para lograr estimar el triangulo inferior\n",
        "- Triangulo Estimado: Presenta el triangulo completado, en la parte superior que viene siendo el histórico y el triangulo inferior la estimación bajo los ratios\n",
        "- Reserva total: Es el valor total que debe retener o conseguir la empresa para lograr abarcar los posibles siniestros estimados"
      ]
    },
    {
      "cell_type": "code",
      "execution_count": null,
      "metadata": {
        "id": "jxbfBKK637IU",
        "outputId": "7598b994-d095-4e72-8dcc-53c6b785979d"
      },
      "outputs": [
        {
          "data": {
            "text/html": [
              "<div>\n",
              "<style scoped>\n",
              "    .dataframe tbody tr th:only-of-type {\n",
              "        vertical-align: middle;\n",
              "    }\n",
              "\n",
              "    .dataframe tbody tr th {\n",
              "        vertical-align: top;\n",
              "    }\n",
              "\n",
              "    .dataframe thead th {\n",
              "        text-align: right;\n",
              "    }\n",
              "</style>\n",
              "<table border=\"1\" class=\"dataframe\">\n",
              "  <thead>\n",
              "    <tr style=\"text-align: right;\">\n",
              "      <th>DevelopmentLag</th>\n",
              "      <th>1</th>\n",
              "      <th>2</th>\n",
              "      <th>3</th>\n",
              "      <th>4</th>\n",
              "      <th>5</th>\n",
              "      <th>6</th>\n",
              "      <th>7</th>\n",
              "      <th>8</th>\n",
              "      <th>9</th>\n",
              "      <th>10</th>\n",
              "    </tr>\n",
              "    <tr>\n",
              "      <th>AccidentYear</th>\n",
              "      <th></th>\n",
              "      <th></th>\n",
              "      <th></th>\n",
              "      <th></th>\n",
              "      <th></th>\n",
              "      <th></th>\n",
              "      <th></th>\n",
              "      <th></th>\n",
              "      <th></th>\n",
              "      <th></th>\n",
              "    </tr>\n",
              "  </thead>\n",
              "  <tbody>\n",
              "    <tr>\n",
              "      <th>1988</th>\n",
              "      <td>121905</td>\n",
              "      <td>112211.0</td>\n",
              "      <td>103226.0</td>\n",
              "      <td>99599.0</td>\n",
              "      <td>96006.0</td>\n",
              "      <td>90487.0</td>\n",
              "      <td>82640.0</td>\n",
              "      <td>80406.0</td>\n",
              "      <td>78920.0</td>\n",
              "      <td>78511.0</td>\n",
              "    </tr>\n",
              "    <tr>\n",
              "      <th>1989</th>\n",
              "      <td>122679</td>\n",
              "      <td>113165.0</td>\n",
              "      <td>110037.0</td>\n",
              "      <td>101142.0</td>\n",
              "      <td>90817.0</td>\n",
              "      <td>81919.0</td>\n",
              "      <td>77491.0</td>\n",
              "      <td>73577.0</td>\n",
              "      <td>72716.0</td>\n",
              "      <td>NaN</td>\n",
              "    </tr>\n",
              "    <tr>\n",
              "      <th>1990</th>\n",
              "      <td>118157</td>\n",
              "      <td>117497.0</td>\n",
              "      <td>116377.0</td>\n",
              "      <td>99895.0</td>\n",
              "      <td>89252.0</td>\n",
              "      <td>81916.0</td>\n",
              "      <td>79134.0</td>\n",
              "      <td>76333.0</td>\n",
              "      <td>NaN</td>\n",
              "      <td>NaN</td>\n",
              "    </tr>\n",
              "    <tr>\n",
              "      <th>1991</th>\n",
              "      <td>117981</td>\n",
              "      <td>122443.0</td>\n",
              "      <td>121056.0</td>\n",
              "      <td>113795.0</td>\n",
              "      <td>102830.0</td>\n",
              "      <td>98071.0</td>\n",
              "      <td>94870.0</td>\n",
              "      <td>NaN</td>\n",
              "      <td>NaN</td>\n",
              "      <td>NaN</td>\n",
              "    </tr>\n",
              "    <tr>\n",
              "      <th>1992</th>\n",
              "      <td>131059</td>\n",
              "      <td>130155.0</td>\n",
              "      <td>124195.0</td>\n",
              "      <td>113974.0</td>\n",
              "      <td>106817.0</td>\n",
              "      <td>99182.0</td>\n",
              "      <td>NaN</td>\n",
              "      <td>NaN</td>\n",
              "      <td>NaN</td>\n",
              "      <td>NaN</td>\n",
              "    </tr>\n",
              "    <tr>\n",
              "      <th>1993</th>\n",
              "      <td>134700</td>\n",
              "      <td>130757.0</td>\n",
              "      <td>125253.0</td>\n",
              "      <td>114717.0</td>\n",
              "      <td>111294.0</td>\n",
              "      <td>NaN</td>\n",
              "      <td>NaN</td>\n",
              "      <td>NaN</td>\n",
              "      <td>NaN</td>\n",
              "      <td>NaN</td>\n",
              "    </tr>\n",
              "    <tr>\n",
              "      <th>1994</th>\n",
              "      <td>136749</td>\n",
              "      <td>128192.0</td>\n",
              "      <td>121355.0</td>\n",
              "      <td>111877.0</td>\n",
              "      <td>NaN</td>\n",
              "      <td>NaN</td>\n",
              "      <td>NaN</td>\n",
              "      <td>NaN</td>\n",
              "      <td>NaN</td>\n",
              "      <td>NaN</td>\n",
              "    </tr>\n",
              "    <tr>\n",
              "      <th>1995</th>\n",
              "      <td>140962</td>\n",
              "      <td>132405.0</td>\n",
              "      <td>118332.0</td>\n",
              "      <td>NaN</td>\n",
              "      <td>NaN</td>\n",
              "      <td>NaN</td>\n",
              "      <td>NaN</td>\n",
              "      <td>NaN</td>\n",
              "      <td>NaN</td>\n",
              "      <td>NaN</td>\n",
              "    </tr>\n",
              "    <tr>\n",
              "      <th>1996</th>\n",
              "      <td>134473</td>\n",
              "      <td>128980.0</td>\n",
              "      <td>NaN</td>\n",
              "      <td>NaN</td>\n",
              "      <td>NaN</td>\n",
              "      <td>NaN</td>\n",
              "      <td>NaN</td>\n",
              "      <td>NaN</td>\n",
              "      <td>NaN</td>\n",
              "      <td>NaN</td>\n",
              "    </tr>\n",
              "    <tr>\n",
              "      <th>1997</th>\n",
              "      <td>137944</td>\n",
              "      <td>NaN</td>\n",
              "      <td>NaN</td>\n",
              "      <td>NaN</td>\n",
              "      <td>NaN</td>\n",
              "      <td>NaN</td>\n",
              "      <td>NaN</td>\n",
              "      <td>NaN</td>\n",
              "      <td>NaN</td>\n",
              "      <td>NaN</td>\n",
              "    </tr>\n",
              "  </tbody>\n",
              "</table>\n",
              "</div>"
            ],
            "text/plain": [
              "DevelopmentLag      1         2         3         4         5        6   \\\n",
              "AccidentYear                                                              \n",
              "1988            121905  112211.0  103226.0   99599.0   96006.0  90487.0   \n",
              "1989            122679  113165.0  110037.0  101142.0   90817.0  81919.0   \n",
              "1990            118157  117497.0  116377.0   99895.0   89252.0  81916.0   \n",
              "1991            117981  122443.0  121056.0  113795.0  102830.0  98071.0   \n",
              "1992            131059  130155.0  124195.0  113974.0  106817.0  99182.0   \n",
              "1993            134700  130757.0  125253.0  114717.0  111294.0      NaN   \n",
              "1994            136749  128192.0  121355.0  111877.0       NaN      NaN   \n",
              "1995            140962  132405.0  118332.0       NaN       NaN      NaN   \n",
              "1996            134473  128980.0       NaN       NaN       NaN      NaN   \n",
              "1997            137944       NaN       NaN       NaN       NaN      NaN   \n",
              "\n",
              "DevelopmentLag       7        8        9        10  \n",
              "AccidentYear                                        \n",
              "1988            82640.0  80406.0  78920.0  78511.0  \n",
              "1989            77491.0  73577.0  72716.0      NaN  \n",
              "1990            79134.0  76333.0      NaN      NaN  \n",
              "1991            94870.0      NaN      NaN      NaN  \n",
              "1992                NaN      NaN      NaN      NaN  \n",
              "1993                NaN      NaN      NaN      NaN  \n",
              "1994                NaN      NaN      NaN      NaN  \n",
              "1995                NaN      NaN      NaN      NaN  \n",
              "1996                NaN      NaN      NaN      NaN  \n",
              "1997                NaN      NaN      NaN      NaN  "
            ]
          },
          "execution_count": 15,
          "metadata": {},
          "output_type": "execute_result"
        }
      ],
      "source": [
        "import warnings\n",
        "warnings.filterwarnings(\"ignore\")\n",
        "# Crea un pivote de datos para el triángulo de reservas\n",
        "Triangulo_acumulado = Empresa1.pivot(index='AccidentYear', columns='DevelopmentLag', values='IncurLoss_F2')\n",
        "for i in range(len(Triangulo_acumulado)):\n",
        "    for j in range(len(Triangulo_acumulado)):\n",
        "        if j < i:\n",
        "            Triangulo_acumulado[i+1].iloc[len(Triangulo_acumulado)-1-j] = 0\n",
        "Triangulo_acumulado = Triangulo_acumulado.replace(0,np.nan)\n",
        "links_ratios = Triangulo_acumulado.applymap(lambda x: 0 if x != 0 else x)\n",
        "links_ratios\n",
        "for i in range(len(links_ratios)+1):\n",
        "    for j in range(len(links_ratios)):\n",
        "        if i > 1:\n",
        "            links_ratios[i].iloc[j] = Triangulo_acumulado[i].iloc[j]/Triangulo_acumulado[i-1].iloc[j]\n",
        "CSA = {}\n",
        "for i in range(len(Triangulo_acumulado)-1):\n",
        "    CSA[str(i+1)] = Triangulo_acumulado[i+1][0:len(Triangulo_acumulado[i+2].dropna())].sum()/Triangulo_acumulado[i+2].dropna().sum()\n",
        "Triangulo_estimado = Triangulo_acumulado.copy()\n",
        "for i in range(len(Triangulo_estimado)):\n",
        "    for j in range(len(Triangulo_estimado)):\n",
        "            if pd.isna(Triangulo_estimado[i+1].iloc[j]):\n",
        "                Triangulo_estimado[i+1].iloc[j] = Triangulo_estimado[i].iloc[j]*CSA[str(i)]\n",
        "Reserva_total = Reserva_total = (Triangulo_estimado[10] - list(np.diag(np.fliplr(Triangulo_estimado)))).sum()\n",
        "consolidado = {'Datos_reales' : Empresa1.pivot(index='AccidentYear', columns='DevelopmentLag', values='IncurLoss_F2'),\n",
        "                'Triangulo_acumulado': Triangulo_acumulado,\n",
        "                'Links_ratios': links_ratios,\n",
        "                'CSA': CSA,\n",
        "                'Triangulo_estimado':Triangulo_estimado,\n",
        "                'Reserva_total': Reserva_total}\n",
        "consolidado['Triangulo_acumulado']"
      ]
    },
    {
      "cell_type": "markdown",
      "metadata": {
        "id": "lYdkNyDR37IV"
      },
      "source": [
        "Se genera una corrección para la seleccion de compañias, esto dado que algunas cuentan con ausencia de datos faltantes en el triangulo superior lo cual nos indica un inconveniente que para este documento no se abarcara. Por eso se omiten las compañias que cuentan con una presencia de al menos el 5% de datos nulos."
      ]
    },
    {
      "cell_type": "code",
      "execution_count": null,
      "metadata": {
        "id": "31E7J2zS37IV"
      },
      "outputs": [],
      "source": [
        "empresas = df['GRNAME'].unique()\n",
        "triangulos_empresas = {}\n",
        "for empresa in empresas:\n",
        "    Empresa1 = df[df['GRNAME']==empresa]\n",
        "    Triangulo_acumulado = Empresa1.pivot(index='AccidentYear', columns='DevelopmentLag', values='IncurLoss_F2')\n",
        "    if (np.count_nonzero(Triangulo_acumulado == 0)/Triangulo_acumulado.size*100) > 5:\n",
        "        continue\n",
        "    for i in range(len(Triangulo_acumulado)):\n",
        "        for j in range(len(Triangulo_acumulado)):\n",
        "            if j < i:\n",
        "                Triangulo_acumulado[i+1].iloc[len(Triangulo_acumulado)-1-j] = 0\n",
        "    Triangulo_acumulado = Triangulo_acumulado.replace(0,np.nan)\n",
        "    links_ratios = Triangulo_acumulado.applymap(lambda x: 0 if x != 0 else x)\n",
        "    links_ratios\n",
        "    for i in range(len(links_ratios)+1):\n",
        "        for j in range(len(links_ratios)):\n",
        "            if i > 1:\n",
        "                links_ratios[i].iloc[j] = Triangulo_acumulado[i].iloc[j]/Triangulo_acumulado[i-1].iloc[j]\n",
        "    CSA = {}\n",
        "    for i in range(len(Triangulo_acumulado)-1):\n",
        "        CSA[str(i+1)] = Triangulo_acumulado[i+1][0:len(Triangulo_acumulado[i+2].dropna())].sum()/Triangulo_acumulado[i+2].dropna().sum()\n",
        "    Triangulo_estimado = Triangulo_acumulado.copy()\n",
        "    for i in range(len(Triangulo_estimado)):\n",
        "        for j in range(len(Triangulo_estimado)):\n",
        "                if pd.isna(Triangulo_estimado[i+1].iloc[j]):\n",
        "                    Triangulo_estimado[i+1].iloc[j] = Triangulo_estimado[i].iloc[j]*CSA[str(i)]\n",
        "    Reserva_total = Reserva_total = (Triangulo_estimado[10] - list(np.diag(np.fliplr(Triangulo_estimado)))).sum()\n",
        "    consolidado = {'Datos_reales' : Empresa1.pivot(index='AccidentYear', columns='DevelopmentLag', values='IncurLoss_F2'),\n",
        "                    'Triangulo_acumulado': Triangulo_acumulado,\n",
        "                    'Links_ratios': links_ratios,\n",
        "                    'CSA': CSA,\n",
        "                    'Triangulo_estimado':Triangulo_estimado,\n",
        "                    'Reserva_total': Reserva_total}\n",
        "    triangulos_empresas[empresa] = consolidado"
      ]
    },
    {
      "cell_type": "markdown",
      "metadata": {
        "id": "B3m47_vv37IV"
      },
      "source": [
        "Solucionado los problemas hasta el momento presenciados bajo el método Chain Ladder, procedemos con la creación de una función lo cual no ayudara a optimizar y ser más eficientes a la hora de calcular los triángulos estimados para todas las categorías. Para este caso, la función se llamara triángulos, el input será la data en bruto y retornara el diccionario calculado anteriormente para cada una claves de este que vendrán siendo los nombres de cada una de las compañías que cuentan con los criterios para ser analizadas."
      ]
    },
    {
      "cell_type": "code",
      "execution_count": null,
      "metadata": {
        "id": "_hMqHJh937IV"
      },
      "outputs": [],
      "source": [
        "def triangulos(data):\n",
        "    empresas = df['GRNAME'].unique()\n",
        "    triangulos_empresas = {}\n",
        "    for empresa in empresas:\n",
        "        Empresa1 = df[df['GRNAME']==empresa]\n",
        "        Triangulo_acumulado = Empresa1.pivot(index='AccidentYear', columns='DevelopmentLag', values='IncurLoss_F2')\n",
        "        if (np.count_nonzero(Triangulo_acumulado == 0)/Triangulo_acumulado.size*100) > 1:\n",
        "            continue\n",
        "        for i in range(len(Triangulo_acumulado)):\n",
        "            for j in range(len(Triangulo_acumulado)):\n",
        "                if j < i:\n",
        "                    Triangulo_acumulado[i+1].iloc[len(Triangulo_acumulado)-1-j] = 0\n",
        "        Triangulo_acumulado = Triangulo_acumulado.replace(0,np.nan)\n",
        "        links_ratios = Triangulo_acumulado.applymap(lambda x: 0 if x != 0 else x)\n",
        "        links_ratios\n",
        "        for i in range(len(links_ratios)+1):\n",
        "            for j in range(len(links_ratios)):\n",
        "                if i > 1:\n",
        "                    links_ratios[i].iloc[j] = Triangulo_acumulado[i].iloc[j]/Triangulo_acumulado[i-1].iloc[j]\n",
        "        CSA = {}\n",
        "        for i in range(len(Triangulo_acumulado)-1):\n",
        "            CSA[str(i+1)] = Triangulo_acumulado[i+1][0:len(Triangulo_acumulado[i+2].dropna())].sum()/Triangulo_acumulado[i+2].dropna().sum()\n",
        "        Triangulo_estimado = Triangulo_acumulado.copy()\n",
        "        for i in range(len(Triangulo_estimado)):\n",
        "            for j in range(len(Triangulo_estimado)):\n",
        "                    if pd.isna(Triangulo_estimado[i+1].iloc[j]):\n",
        "                        Triangulo_estimado[i+1].iloc[j] = Triangulo_estimado[i].iloc[j]*CSA[str(i)]\n",
        "        Reserva_total = (Triangulo_estimado[10] - list(np.diag(np.fliplr(Triangulo_estimado)))).sum()\n",
        "        consolidado = {'Datos_reales' : Empresa1.pivot(index='AccidentYear', columns='DevelopmentLag', values='IncurLoss_F2'),\n",
        "                       'Triangulo_acumulado': Triangulo_acumulado,\n",
        "                       'Links_ratios': links_ratios,\n",
        "                       'CSA': CSA,\n",
        "                       'Triangulo_estimado':Triangulo_estimado,\n",
        "                       'Reserva_reclamos': Reserva_total}\n",
        "        triangulos_empresas[empresa] = consolidado\n",
        "    return triangulos_empresas"
      ]
    },
    {
      "cell_type": "markdown",
      "metadata": {
        "id": "WMYUR1MF37Ib"
      },
      "source": [
        "Ejecutamos la función y la asignamos a 'triangulos_empresas', luego validaremos la respectivas llaves para acceder a cada uno de los objetos creados para cada empresa"
      ]
    },
    {
      "cell_type": "code",
      "execution_count": null,
      "metadata": {
        "id": "hJPU9FXf37Ib"
      },
      "outputs": [],
      "source": [
        "triangulos_empresas = triangulos(df)"
      ]
    },
    {
      "cell_type": "code",
      "execution_count": null,
      "metadata": {
        "id": "yf3bOgtD37Ic",
        "outputId": "9a1ad942-8060-48a9-f5c5-74e8f1d6c5b2"
      },
      "outputs": [
        {
          "data": {
            "text/html": [
              "<div>\n",
              "<style scoped>\n",
              "    .dataframe tbody tr th:only-of-type {\n",
              "        vertical-align: middle;\n",
              "    }\n",
              "\n",
              "    .dataframe tbody tr th {\n",
              "        vertical-align: top;\n",
              "    }\n",
              "\n",
              "    .dataframe thead th {\n",
              "        text-align: right;\n",
              "    }\n",
              "</style>\n",
              "<table border=\"1\" class=\"dataframe\">\n",
              "  <thead>\n",
              "    <tr style=\"text-align: right;\">\n",
              "      <th>DevelopmentLag</th>\n",
              "      <th>1</th>\n",
              "      <th>2</th>\n",
              "      <th>3</th>\n",
              "      <th>4</th>\n",
              "      <th>5</th>\n",
              "      <th>6</th>\n",
              "      <th>7</th>\n",
              "      <th>8</th>\n",
              "      <th>9</th>\n",
              "      <th>10</th>\n",
              "    </tr>\n",
              "    <tr>\n",
              "      <th>AccidentYear</th>\n",
              "      <th></th>\n",
              "      <th></th>\n",
              "      <th></th>\n",
              "      <th></th>\n",
              "      <th></th>\n",
              "      <th></th>\n",
              "      <th></th>\n",
              "      <th></th>\n",
              "      <th></th>\n",
              "      <th></th>\n",
              "    </tr>\n",
              "  </thead>\n",
              "  <tbody>\n",
              "    <tr>\n",
              "      <th>1988</th>\n",
              "      <td>121905</td>\n",
              "      <td>112211.0</td>\n",
              "      <td>103226.0</td>\n",
              "      <td>99599.0</td>\n",
              "      <td>96006.0</td>\n",
              "      <td>90487.0</td>\n",
              "      <td>82640.0</td>\n",
              "      <td>80406.0</td>\n",
              "      <td>78920.0</td>\n",
              "      <td>78511.0</td>\n",
              "    </tr>\n",
              "    <tr>\n",
              "      <th>1989</th>\n",
              "      <td>122679</td>\n",
              "      <td>113165.0</td>\n",
              "      <td>110037.0</td>\n",
              "      <td>101142.0</td>\n",
              "      <td>90817.0</td>\n",
              "      <td>81919.0</td>\n",
              "      <td>77491.0</td>\n",
              "      <td>73577.0</td>\n",
              "      <td>72716.0</td>\n",
              "      <td>NaN</td>\n",
              "    </tr>\n",
              "    <tr>\n",
              "      <th>1990</th>\n",
              "      <td>118157</td>\n",
              "      <td>117497.0</td>\n",
              "      <td>116377.0</td>\n",
              "      <td>99895.0</td>\n",
              "      <td>89252.0</td>\n",
              "      <td>81916.0</td>\n",
              "      <td>79134.0</td>\n",
              "      <td>76333.0</td>\n",
              "      <td>NaN</td>\n",
              "      <td>NaN</td>\n",
              "    </tr>\n",
              "    <tr>\n",
              "      <th>1991</th>\n",
              "      <td>117981</td>\n",
              "      <td>122443.0</td>\n",
              "      <td>121056.0</td>\n",
              "      <td>113795.0</td>\n",
              "      <td>102830.0</td>\n",
              "      <td>98071.0</td>\n",
              "      <td>94870.0</td>\n",
              "      <td>NaN</td>\n",
              "      <td>NaN</td>\n",
              "      <td>NaN</td>\n",
              "    </tr>\n",
              "    <tr>\n",
              "      <th>1992</th>\n",
              "      <td>131059</td>\n",
              "      <td>130155.0</td>\n",
              "      <td>124195.0</td>\n",
              "      <td>113974.0</td>\n",
              "      <td>106817.0</td>\n",
              "      <td>99182.0</td>\n",
              "      <td>NaN</td>\n",
              "      <td>NaN</td>\n",
              "      <td>NaN</td>\n",
              "      <td>NaN</td>\n",
              "    </tr>\n",
              "    <tr>\n",
              "      <th>1993</th>\n",
              "      <td>134700</td>\n",
              "      <td>130757.0</td>\n",
              "      <td>125253.0</td>\n",
              "      <td>114717.0</td>\n",
              "      <td>111294.0</td>\n",
              "      <td>NaN</td>\n",
              "      <td>NaN</td>\n",
              "      <td>NaN</td>\n",
              "      <td>NaN</td>\n",
              "      <td>NaN</td>\n",
              "    </tr>\n",
              "    <tr>\n",
              "      <th>1994</th>\n",
              "      <td>136749</td>\n",
              "      <td>128192.0</td>\n",
              "      <td>121355.0</td>\n",
              "      <td>111877.0</td>\n",
              "      <td>NaN</td>\n",
              "      <td>NaN</td>\n",
              "      <td>NaN</td>\n",
              "      <td>NaN</td>\n",
              "      <td>NaN</td>\n",
              "      <td>NaN</td>\n",
              "    </tr>\n",
              "    <tr>\n",
              "      <th>1995</th>\n",
              "      <td>140962</td>\n",
              "      <td>132405.0</td>\n",
              "      <td>118332.0</td>\n",
              "      <td>NaN</td>\n",
              "      <td>NaN</td>\n",
              "      <td>NaN</td>\n",
              "      <td>NaN</td>\n",
              "      <td>NaN</td>\n",
              "      <td>NaN</td>\n",
              "      <td>NaN</td>\n",
              "    </tr>\n",
              "    <tr>\n",
              "      <th>1996</th>\n",
              "      <td>134473</td>\n",
              "      <td>128980.0</td>\n",
              "      <td>NaN</td>\n",
              "      <td>NaN</td>\n",
              "      <td>NaN</td>\n",
              "      <td>NaN</td>\n",
              "      <td>NaN</td>\n",
              "      <td>NaN</td>\n",
              "      <td>NaN</td>\n",
              "      <td>NaN</td>\n",
              "    </tr>\n",
              "    <tr>\n",
              "      <th>1997</th>\n",
              "      <td>137944</td>\n",
              "      <td>NaN</td>\n",
              "      <td>NaN</td>\n",
              "      <td>NaN</td>\n",
              "      <td>NaN</td>\n",
              "      <td>NaN</td>\n",
              "      <td>NaN</td>\n",
              "      <td>NaN</td>\n",
              "      <td>NaN</td>\n",
              "      <td>NaN</td>\n",
              "    </tr>\n",
              "  </tbody>\n",
              "</table>\n",
              "</div>"
            ],
            "text/plain": [
              "DevelopmentLag      1         2         3         4         5        6   \\\n",
              "AccidentYear                                                              \n",
              "1988            121905  112211.0  103226.0   99599.0   96006.0  90487.0   \n",
              "1989            122679  113165.0  110037.0  101142.0   90817.0  81919.0   \n",
              "1990            118157  117497.0  116377.0   99895.0   89252.0  81916.0   \n",
              "1991            117981  122443.0  121056.0  113795.0  102830.0  98071.0   \n",
              "1992            131059  130155.0  124195.0  113974.0  106817.0  99182.0   \n",
              "1993            134700  130757.0  125253.0  114717.0  111294.0      NaN   \n",
              "1994            136749  128192.0  121355.0  111877.0       NaN      NaN   \n",
              "1995            140962  132405.0  118332.0       NaN       NaN      NaN   \n",
              "1996            134473  128980.0       NaN       NaN       NaN      NaN   \n",
              "1997            137944       NaN       NaN       NaN       NaN      NaN   \n",
              "\n",
              "DevelopmentLag       7        8        9        10  \n",
              "AccidentYear                                        \n",
              "1988            82640.0  80406.0  78920.0  78511.0  \n",
              "1989            77491.0  73577.0  72716.0      NaN  \n",
              "1990            79134.0  76333.0      NaN      NaN  \n",
              "1991            94870.0      NaN      NaN      NaN  \n",
              "1992                NaN      NaN      NaN      NaN  \n",
              "1993                NaN      NaN      NaN      NaN  \n",
              "1994                NaN      NaN      NaN      NaN  \n",
              "1995                NaN      NaN      NaN      NaN  \n",
              "1996                NaN      NaN      NaN      NaN  \n",
              "1997                NaN      NaN      NaN      NaN  "
            ]
          },
          "execution_count": 19,
          "metadata": {},
          "output_type": "execute_result"
        }
      ],
      "source": [
        "triangulos_empresas['Scpie Indemnity Co']['Triangulo_acumulado']"
      ]
    },
    {
      "cell_type": "markdown",
      "metadata": {
        "id": "X2clIDc737Ic"
      },
      "source": [
        "Para este punto presenciamos la realización de estimaciones para cada una de las empresas que estamos considerando, necesitamos comparar los resultados con otro método. Procederemos con la estimación bajo regresión."
      ]
    },
    {
      "cell_type": "code",
      "execution_count": null,
      "metadata": {
        "id": "hK1LIonh37Ic",
        "outputId": "8a66d743-0e32-4e72-e34c-cd33af055a68"
      },
      "outputs": [
        {
          "name": "stdout",
          "output_type": "stream",
          "text": [
            "Métrica MAPE con el método Chain-Ladder: 51.44492321441913\n"
          ]
        }
      ],
      "source": [
        "MAPE1 = []\n",
        "for i in list(triangulos_empresas.keys()):\n",
        "    diferencia = abs((triangulos_empresas[i][\"Datos_reales\"]-triangulos_empresas[i][\"Triangulo_estimado\"])/triangulos_empresas[i][\"Datos_reales\"])\n",
        "    MAPE = diferencia.sum().sum()/45*100\n",
        "    MAPE1.append(MAPE)\n",
        "MAPE1 = np.array(MAPE1)\n",
        "Mape_chain_ladder = MAPE1.mean()\n",
        "print(\"Métrica MAPE con el método Chain-Ladder:\", Mape_chain_ladder)"
      ]
    },
    {
      "cell_type": "markdown",
      "metadata": {
        "id": "13UDOWRS37Ic"
      },
      "source": [
        "# Método de Regresión"
      ]
    },
    {
      "cell_type": "markdown",
      "metadata": {
        "id": "ho0u79rd37Ic"
      },
      "source": [
        "Tomaremos los datos incluyendo los NaN y los convertimos en un vector, esto nos permitirá poder trabajar con las 'n' compañias lo cual intentaremos abarcar en su totalidad todas las compañias a la misma vez para evitar perder algún tipo de información"
      ]
    },
    {
      "cell_type": "code",
      "execution_count": null,
      "metadata": {
        "id": "88h6fS_f37Ic",
        "outputId": "6048b659-f255-4fd3-f3ad-01e9df15d062"
      },
      "outputs": [
        {
          "data": {
            "text/plain": [
              "array([121905., 112211., 103226.,  99599.,  96006.,  90487.,  82640.,\n",
              "        80406.,  78920.,  78511., 122679., 113165., 110037., 101142.,\n",
              "        90817.,  81919.,  77491.,  73577.,  72716.,     nan, 118157.,\n",
              "       117497., 116377.,  99895.,  89252.,  81916.,  79134.,  76333.,\n",
              "           nan,     nan, 117981., 122443., 121056., 113795., 102830.,\n",
              "        98071.,  94870.,     nan,     nan,     nan, 131059., 130155.,\n",
              "       124195., 113974., 106817.,  99182.,     nan,     nan,     nan,\n",
              "           nan, 134700., 130757., 125253., 114717., 111294.,     nan,\n",
              "           nan,     nan,     nan,     nan, 136749., 128192., 121355.,\n",
              "       111877.,     nan,     nan,     nan,     nan,     nan,     nan,\n",
              "       140962., 132405., 118332.,     nan,     nan,     nan,     nan,\n",
              "           nan,     nan,     nan, 134473., 128980.,     nan,     nan,\n",
              "           nan,     nan,     nan,     nan,     nan,     nan, 137944.,\n",
              "           nan,     nan,     nan,     nan,     nan,     nan,     nan,\n",
              "           nan,     nan])"
            ]
          },
          "execution_count": 26,
          "metadata": {},
          "output_type": "execute_result"
        }
      ],
      "source": [
        "triangulos_empresas['Scpie Indemnity Co']['Triangulo_acumulado'].values.flatten()"
      ]
    },
    {
      "cell_type": "markdown",
      "metadata": {
        "id": "kOfrThgM37Ic"
      },
      "source": [
        "Generaremos a partir de los triángulos retornados por la función 'triángulos', esto dado que contaremos con los triángulos que cuentan con la totalidad de los datos que permitirá validar las estimaciones. Creamos una lista y será poblada con la cantidad de empresas que han sido seleccionadas"
      ]
    },
    {
      "cell_type": "code",
      "execution_count": null,
      "metadata": {
        "id": "LDpt0qFD37Ic",
        "outputId": "035439ef-fb53-4d16-f82a-37f4d2e3f290"
      },
      "outputs": [
        {
          "data": {
            "text/plain": [
              "(1400,)"
            ]
          },
          "execution_count": 27,
          "metadata": {},
          "output_type": "execute_result"
        }
      ],
      "source": [
        "keys = list(triangulos_empresas.keys())\n",
        "y = []\n",
        "for k in keys:\n",
        "    y = np.concatenate((y, triangulos_empresas[k]['Triangulo_acumulado'].values.flatten()))\n",
        "y.shape"
      ]
    },
    {
      "cell_type": "markdown",
      "metadata": {
        "id": "c88fAj9E37Ic"
      },
      "source": [
        "Dado que el método por regresión tiene un supuesto de que la variable respuesta es el logaritmo de y, procedemos a obtenerla"
      ]
    },
    {
      "cell_type": "code",
      "execution_count": null,
      "metadata": {
        "id": "4PzH35Io37Ic"
      },
      "outputs": [],
      "source": [
        "y_log = [math.log(x) for x in y]"
      ]
    },
    {
      "cell_type": "markdown",
      "metadata": {
        "id": "a82rcZDj37Id"
      },
      "source": [
        "Para este punto sacaremos la matriz donde se encontraran los indicadores de la presencia de algún parametro, esto nos indica que para la genración de la observación m se produce por el cruce del año k y el lag l.\n",
        "Primeramente creamos una matriz con las respetivas dimensiones obtenidas de la función 'triangulos', esta contará con unicamente valores de cero para luego ser poblada por un loop"
      ]
    },
    {
      "cell_type": "code",
      "execution_count": null,
      "metadata": {
        "id": "KZ32MKVk37Id",
        "outputId": "f6dfdd81-74e6-4f68-8683-e1959b62b2a5"
      },
      "outputs": [
        {
          "data": {
            "text/plain": [
              "(100, 19)"
            ]
          },
          "execution_count": 29,
          "metadata": {},
          "output_type": "execute_result"
        }
      ],
      "source": [
        "x = np.zeros((triangulos_empresas[list(triangulos_empresas.keys())[0]]['Triangulo_acumulado'].shape[0]*triangulos_empresas[list(triangulos_empresas.keys())[0]]['Triangulo_acumulado'].shape[1],\n",
        "              sum(triangulos_empresas[list(triangulos_empresas.keys())[0]]['Triangulo_acumulado'].shape)-2+1))\n",
        "x.shape"
      ]
    },
    {
      "cell_type": "markdown",
      "metadata": {
        "id": "X7ZeeQo837Id"
      },
      "source": [
        "Acá se procede con el poblamiento de las indicadoras de los parámetros que generan cada una de las observaciones, recordar que para el año y el lag 1, los valores de estos parámetros son cero"
      ]
    },
    {
      "cell_type": "code",
      "execution_count": null,
      "metadata": {
        "id": "jWJFJgJ237Id"
      },
      "outputs": [],
      "source": [
        "l = triangulos_empresas[list(triangulos_empresas.keys())[0]]['Triangulo_acumulado'].shape[0]\n",
        "for i in range(x.shape[0]):\n",
        "    x[i, 0] = 1\n",
        "    x[i,i%l] = 1\n",
        "    if i >= 10:\n",
        "          entero = int(i/10)\n",
        "          x[i,l+entero-1] = 1\n",
        "X = x\n",
        "for i in range(len(list(triangulos_empresas.keys()))-1):\n",
        "     X = np.vstack((X, x))"
      ]
    },
    {
      "cell_type": "markdown",
      "metadata": {
        "id": "m14OfmPa37Id"
      },
      "source": [
        "Validamos dimensiones dado que más adelante procederemos con multiplicación de estos"
      ]
    },
    {
      "cell_type": "code",
      "execution_count": null,
      "metadata": {
        "id": "peJ1Qtxo37Ie",
        "outputId": "ef356dc4-0443-498f-b33b-435254c71d94"
      },
      "outputs": [
        {
          "data": {
            "text/plain": [
              "((100, 19), (1400, 19), 1400)"
            ]
          },
          "execution_count": 31,
          "metadata": {},
          "output_type": "execute_result"
        }
      ],
      "source": [
        "x.shape, X.shape, len(y_log)"
      ]
    },
    {
      "cell_type": "markdown",
      "metadata": {
        "id": "cmd_4T2p37Ie"
      },
      "source": [
        "Redimensionamos el vector y para concatenar con la matriz X"
      ]
    },
    {
      "cell_type": "code",
      "execution_count": null,
      "metadata": {
        "id": "YY_J_zzp37Ie",
        "outputId": "214ccfd7-30f7-468c-fee4-3d64e16cf85e"
      },
      "outputs": [
        {
          "data": {
            "text/plain": [
              "(1400, 1)"
            ]
          },
          "execution_count": 32,
          "metadata": {},
          "output_type": "execute_result"
        }
      ],
      "source": [
        "np.array(y_log).reshape(1, 1400).T.shape"
      ]
    },
    {
      "cell_type": "markdown",
      "metadata": {
        "id": "VVD8RtFG37Ie"
      },
      "source": [
        "Concatenamos las dos matrices, la matriz de indicadoras de parametros y de la variable respuesta que en este caso es log(y)"
      ]
    },
    {
      "cell_type": "code",
      "execution_count": null,
      "metadata": {
        "id": "W_q0M58J37Ie",
        "outputId": "c3fc763c-687b-482d-e1b3-11ffa8258566"
      },
      "outputs": [
        {
          "data": {
            "text/plain": [
              "(1400, 20)"
            ]
          },
          "execution_count": 33,
          "metadata": {},
          "output_type": "execute_result"
        }
      ],
      "source": [
        "XY_log = np.concatenate([X, np.array(y_log).reshape(1, 1400).T], axis=1)\n",
        "XY_log.shape"
      ]
    },
    {
      "cell_type": "markdown",
      "metadata": {
        "id": "d8AnK0yr37Ie"
      },
      "source": [
        "Una vez validadas las dimensiones de los objetos y la concatenación de los mismos, procedemos con la eliminación de valores NaN para unicamente trabajar los los valores que se cuentan. Los valores que eliminamos 'NaN' se utilizaran más adelante para testear los resultados"
      ]
    },
    {
      "cell_type": "code",
      "execution_count": null,
      "metadata": {
        "id": "VcqEsTmS37Ie",
        "outputId": "fe49359d-689d-40cb-e009-8c29adb33558"
      },
      "outputs": [
        {
          "data": {
            "text/plain": [
              "(770, 20)"
            ]
          },
          "execution_count": 34,
          "metadata": {},
          "output_type": "execute_result"
        }
      ],
      "source": [
        "df_XY_log = pd.DataFrame(XY_log)\n",
        "df_XY_log = df_XY_log.dropna()\n",
        "df_XY_log.shape"
      ]
    },
    {
      "cell_type": "markdown",
      "metadata": {
        "id": "vyytXdU237Ie"
      },
      "source": [
        "Concatenamos las dos matrices dado que 'y' era la que contaba con los NaN, una vez borradas las filas que tiene ausencia de datos procedemos otra vez a tener por separado cada una de las matrices para poder multiplicarlas más adelante"
      ]
    },
    {
      "cell_type": "code",
      "execution_count": null,
      "metadata": {
        "id": "h8IQx5u637If",
        "outputId": "6293769f-d8eb-484e-b2cc-986c9cd60e03"
      },
      "outputs": [
        {
          "data": {
            "text/plain": [
              "((770, 19), (770,))"
            ]
          },
          "execution_count": 35,
          "metadata": {},
          "output_type": "execute_result"
        }
      ],
      "source": [
        "x_omitnan = df_XY_log.iloc[:, :-1]\n",
        "y_log_omitnan = df_XY_log.iloc[:,-1]\n",
        "x_omitnan.shape,y_log_omitnan.shape"
      ]
    },
    {
      "cell_type": "markdown",
      "metadata": {
        "id": "Zo2KC9LL37If"
      },
      "source": [
        "Encontramos para este punto el vector de betas estimados por medio del método de mínimos cuadrados"
      ]
    },
    {
      "cell_type": "code",
      "execution_count": null,
      "metadata": {
        "id": "KQtyW6CU37If",
        "outputId": "9ab8f43e-b0a3-4261-e6fe-30a85ca0818a"
      },
      "outputs": [
        {
          "data": {
            "text/plain": [
              "(19,)"
            ]
          },
          "execution_count": 36,
          "metadata": {},
          "output_type": "execute_result"
        }
      ],
      "source": [
        "b_est = np.dot(np.dot(np.linalg.inv(np.dot(x_omitnan.T,x_omitnan)),x_omitnan.T),y_log_omitnan)\n",
        "exp_b_est = np.exp(b_est)\n",
        "b_est.shape"
      ]
    },
    {
      "cell_type": "markdown",
      "metadata": {
        "id": "Fy0XMzrg37If"
      },
      "source": [
        "Para este punto recordamos que nuestra variable respuesta 'y' realmente es 'log(y)' por lo que extraemos exponencial de estas estimaciones"
      ]
    },
    {
      "cell_type": "code",
      "execution_count": null,
      "metadata": {
        "id": "G6YeZbIY37If"
      },
      "outputs": [],
      "source": [
        "est = np.dot(x_omitnan,b_est)\n",
        "exp_est = np.dot(x_omitnan,exp_b_est)"
      ]
    },
    {
      "cell_type": "markdown",
      "metadata": {
        "id": "DiisRIUu37If"
      },
      "source": [
        "Seleccionamos una métrica de testeo"
      ]
    },
    {
      "cell_type": "code",
      "execution_count": null,
      "metadata": {
        "id": "kcL4UPkw37If",
        "outputId": "b0ee1965-dbac-4b10-ac56-9110aa2a11e5"
      },
      "outputs": [
        {
          "data": {
            "text/plain": [
              "11.836502725409046"
            ]
          },
          "execution_count": 38,
          "metadata": {},
          "output_type": "execute_result"
        }
      ],
      "source": [
        "MAPE = 100 * np.mean(np.abs((y_log_omitnan - est) / y_log_omitnan))\n",
        "MAPE\n"
      ]
    },
    {
      "cell_type": "markdown",
      "metadata": {
        "id": "GLKgKjmU37If"
      },
      "source": [
        "Para este punto hallamos el IBNR"
      ]
    },
    {
      "cell_type": "code",
      "execution_count": null,
      "metadata": {
        "id": "UvgfvlS437If",
        "outputId": "404c087b-d505-436c-fa37-9ceec532358a"
      },
      "outputs": [
        {
          "data": {
            "text/plain": [
              "6968480.673041882"
            ]
          },
          "execution_count": 39,
          "metadata": {},
          "output_type": "execute_result"
        }
      ],
      "source": [
        "IBNR = sum(exp_est)\n",
        "IBNR"
      ]
    },
    {
      "cell_type": "markdown",
      "metadata": {
        "id": "QovMGL0D37Ig"
      },
      "source": [
        "Procedemos con algunas validaciones de los parámetros obtenidos manualmente y utilizando la librería 'Sklearn'. Hacemos esto dado que sabemos que la multiplicación de matrices demanda bastantes recursos y queremos escalarlo a muchas empresas"
      ]
    },
    {
      "cell_type": "markdown",
      "metadata": {
        "id": "HqBbXcLr37Ig"
      },
      "source": [
        "Utilizando la librería"
      ]
    },
    {
      "cell_type": "code",
      "execution_count": null,
      "metadata": {
        "id": "oDlyUmLT37Ig",
        "outputId": "d8b854b9-cff4-49a3-d89b-774b98d78103"
      },
      "outputs": [
        {
          "data": {
            "text/plain": [
              "(array([ 0.        , -0.05366319, -0.12604845, -0.22685027, -0.28797468,\n",
              "        -0.35457203, -0.39991772, -0.49217904, -0.49546519, -0.51181813,\n",
              "         0.29862739,  0.39832096,  0.53248843,  0.60872173,  0.63867745,\n",
              "         0.75294324,  0.81777038,  0.84446757,  0.69437918]),\n",
              " 9.110288379706647)"
            ]
          },
          "execution_count": 40,
          "metadata": {},
          "output_type": "execute_result"
        }
      ],
      "source": [
        "modelo = LinearRegression()\n",
        "modelo.fit(X = x_omitnan, y = y_log_omitnan)\n",
        "modelo.coef_.flatten(),modelo.intercept_"
      ]
    },
    {
      "cell_type": "markdown",
      "metadata": {
        "id": "fFX1vQ4K37Ig"
      },
      "source": [
        "Estimaciones obtenidas manualmente por mínimos cuadrados"
      ]
    },
    {
      "cell_type": "code",
      "execution_count": null,
      "metadata": {
        "id": "xC16oFsc37Ig",
        "outputId": "493a418c-64c4-4667-bd29-53c38458307c"
      },
      "outputs": [
        {
          "data": {
            "text/plain": [
              "array([ 9.11028838, -0.05366319, -0.12604845, -0.22685027, -0.28797468,\n",
              "       -0.35457203, -0.39991772, -0.49217904, -0.49546519, -0.51181813,\n",
              "        0.29862739,  0.39832096,  0.53248843,  0.60872173,  0.63867745,\n",
              "        0.75294324,  0.81777038,  0.84446757,  0.69437918])"
            ]
          },
          "execution_count": 41,
          "metadata": {},
          "output_type": "execute_result"
        }
      ],
      "source": [
        "b_est"
      ]
    },
    {
      "cell_type": "markdown",
      "metadata": {
        "id": "wGX86NJY37Ig"
      },
      "source": [
        "Creamos una función que recoge todos los pasos anteriores y los consolida en un solo objeto, esto permitirá replicarlo con cualquier base de datos que tenga la misma estructura de columnas cabe resaltar"
      ]
    },
    {
      "cell_type": "markdown",
      "metadata": {
        "id": "4JsZ4GoY37Ig"
      },
      "source": [
        "Se comentan la parte de mínimos cuadrados dado que esto demanda bastantes recursos, utilizamos la función sklearn que esta optimizada para la obtención de parámetros, de igual forma los valores de las métricas dado que más adelante se utilizara esta función en unas funciones más completas, se dejan comentadas para que se pueda replicar y que solo necesiten comparar unicamente 3 modelos"
      ]
    },
    {
      "cell_type": "code",
      "execution_count": null,
      "metadata": {
        "id": "jHAb2gL837Ig"
      },
      "outputs": [],
      "source": [
        "def regresion(triangulos_empresas):\n",
        "    keys = list(triangulos_empresas.keys())\n",
        "    y = []\n",
        "    for k in keys:\n",
        "        y = np.concatenate((y, triangulos_empresas[k]['Triangulo_acumulado'].values.flatten()))\n",
        "    y_log = [math.log(x) for x in y]\n",
        "    x = np.zeros((triangulos_empresas[list(triangulos_empresas.keys())[0]]['Triangulo_acumulado'].shape[0]*triangulos_empresas[list(triangulos_empresas.keys())[0]]['Triangulo_acumulado'].shape[1],\n",
        "                  sum(triangulos_empresas[list(triangulos_empresas.keys())[0]]['Triangulo_acumulado'].shape)-2+1))\n",
        "    l = triangulos_empresas[list(triangulos_empresas.keys())[0]]['Triangulo_acumulado'].shape[0]\n",
        "    for i in range(x.shape[0]):\n",
        "        x[i, 0] = 1\n",
        "        x[i,i%l] = 1\n",
        "        if i >= 10:\n",
        "            entero = int(i/10)\n",
        "            x[i,l+entero-1] = 1\n",
        "    X = x\n",
        "    for i in range(len(list(triangulos_empresas.keys()))-1):\n",
        "        X = np.vstack((X, x))\n",
        "    XY_log = np.concatenate([X, np.array(y_log).reshape(1, 1400).T], axis=1)\n",
        "    df_XY_log = pd.DataFrame(XY_log)\n",
        "    df_XY_log = df_XY_log.dropna()\n",
        "    x_omitnan = df_XY_log.iloc[:, :-1]\n",
        "    y_log_omitnan = df_XY_log.iloc[:,-1]\n",
        "\n",
        "    ##regresion lineal\n",
        "    #b_est = np.dot(np.dot(np.linalg.inv(np.dot(x_omitnan.T,x_omitnan)),x_omitnan.T),y_log_omitnan)\n",
        "    #exp_b_est = np.exp(b_est)\n",
        "    #exp_est = np.dot(x_omitnan,exp_b_est)\n",
        "    #est = np.dot(x_omitnan,b_est)\n",
        "    modelo_lineal = LinearRegression()\n",
        "    modelo_lineal.fit(X = x_omitnan, y = y_log_omitnan)\n",
        "    b_est_lineal = modelo_lineal.coef_\n",
        "    b_est_lineal[0] = modelo_lineal.intercept_\n",
        "    est_lineal = np.dot(x_omitnan,b_est_lineal)\n",
        "    #MAPE_lineal = 100 * np.mean(np.abs((y_log_omitnan - est_lineal) / y_log_omitnan))\n",
        "\n",
        "    ##regresion Ridge\n",
        "    modelo_ridge = Ridge()\n",
        "    modelo_ridge.fit(X = x_omitnan, y = y_log_omitnan)\n",
        "    b_est_ridge = modelo_ridge.coef_\n",
        "    b_est_ridge[0] = modelo_ridge.intercept_\n",
        "    est_ridge = np.dot(x_omitnan,b_est_ridge)\n",
        "    #MAPE_ridge = 100 * np.mean(np.abs((y_log_omitnan - est_ridge) / y_log_omitnan))\n",
        "\n",
        "    ##regresion Lasso\n",
        "    modelo_lasso = Lasso()\n",
        "    modelo_lasso.fit(X = x_omitnan, y = y_log_omitnan)\n",
        "    b_est_lasso = modelo_lasso.coef_\n",
        "    b_est_lasso[0] = modelo_lasso.intercept_\n",
        "    est_lasso = np.dot(x_omitnan,b_est_lasso)\n",
        "    #MAPE_lasso = 100 * np.mean(np.abs((y_log_omitnan - est_lasso) / y_log_omitnan))\n",
        "    #\n",
        "    #MAPE = {'b_est_lineal':MAPE_lineal,'b_est_ridge':MAPE_ridge,'b_est_lasso':MAPE_lasso}\n",
        "    #modelo_optimo = locals()[min(MAPE, key=MAPE.get)]\n",
        "    modelo_optimo = [b_est_lineal,b_est_ridge,b_est_lasso,x_omitnan.index]\n",
        "    return modelo_optimo"
      ]
    },
    {
      "cell_type": "markdown",
      "metadata": {
        "id": "C9hoLO1E37Ih"
      },
      "source": [
        "Como se comento anteriormente, se desea que la función se logre replicar sin importar la base de datos que se le suministra. Se hacen algunos cambios que permitan esto"
      ]
    },
    {
      "cell_type": "code",
      "execution_count": null,
      "metadata": {
        "id": "FtC-bYmH37Ih"
      },
      "outputs": [],
      "source": [
        "x = np.zeros((triangulos_empresas[list(triangulos_empresas.keys())[0]]['Triangulo_acumulado'].shape[0]*triangulos_empresas[list(triangulos_empresas.keys())[0]]['Triangulo_acumulado'].shape[1],\n",
        "                sum(triangulos_empresas[list(triangulos_empresas.keys())[0]]['Triangulo_acumulado'].shape)-2+1))\n",
        "l = triangulos_empresas[list(triangulos_empresas.keys())[0]]['Triangulo_acumulado'].shape[0]\n",
        "for i in range(x.shape[0]):\n",
        "    x[i, 0] = 1\n",
        "    x[i,i%l] = 1\n",
        "    if i >= 10:\n",
        "        entero = int(i/10)\n",
        "        x[i,l+entero-1] = 1\n",
        "X = x\n",
        "for i in range(len(list(triangulos_empresas.keys()))-1):\n",
        "    X = np.vstack((X, x))\n",
        "\n",
        "def regresion(triangulos_empresas,X):\n",
        "    keys = list(triangulos_empresas.keys())\n",
        "    y = []\n",
        "    for k in keys:\n",
        "        y = np.concatenate((y, triangulos_empresas[k]['Triangulo_acumulado'].values.flatten()))\n",
        "    y_log = [math.log(x) for x in y]\n",
        "    XY_log = np.concatenate([X, np.array(y_log).reshape(1, X.shape[0]).T], axis=1)\n",
        "    df_XY_log = pd.DataFrame(XY_log)\n",
        "    df_XY_log = df_XY_log.dropna()\n",
        "    x_omitnan = df_XY_log.iloc[:, :-1]\n",
        "    y_log_omitnan = df_XY_log.iloc[:,-1]\n",
        "\n",
        "    ##regresion lineal\n",
        "    modelo_lineal = LinearRegression()\n",
        "    modelo_lineal.fit(X = x_omitnan, y = y_log_omitnan)\n",
        "    b_est_lineal = modelo_lineal.coef_\n",
        "    b_est_lineal[0] = modelo_lineal.intercept_\n",
        "    est_lineal = np.dot(x_omitnan,b_est_lineal)\n",
        "\n",
        "    ##regresion Ridge\n",
        "    modelo_ridge = Ridge()\n",
        "    modelo_ridge.fit(X = x_omitnan, y = y_log_omitnan)\n",
        "    b_est_ridge = modelo_ridge.coef_\n",
        "    b_est_ridge[0] = modelo_ridge.intercept_\n",
        "    est_ridge = np.dot(x_omitnan,b_est_ridge)\n",
        "\n",
        "    ##regresion Lasso\n",
        "    modelo_lasso = Lasso()\n",
        "    modelo_lasso.fit(X = x_omitnan, y = y_log_omitnan)\n",
        "    b_est_lasso = modelo_lasso.coef_\n",
        "    b_est_lasso[0] = modelo_lasso.intercept_\n",
        "    est_lasso = np.dot(x_omitnan,b_est_lasso)\n",
        "\n",
        "    modelo_optimo = [b_est_lineal,b_est_ridge,b_est_lasso,x_omitnan.index]\n",
        "    return modelo_optimo"
      ]
    },
    {
      "cell_type": "markdown",
      "metadata": {
        "id": "AcC1MjPk37Ih"
      },
      "source": [
        "Ya teniendo la generalización de la función de regresión, se procede con la cración de validación. Se itera una de las empresas para testear bajo el triangulo inferior con las estimaciones de los tres modelos de regresión generados con las demás empresas no seleccionadas; nos retorna una lista con los mejores modelos seleccionados en cada iteración de empresa anclada"
      ]
    },
    {
      "cell_type": "code",
      "execution_count": null,
      "metadata": {
        "id": "jUvmN_j-37Ih"
      },
      "outputs": [],
      "source": [
        "def validacion(triangulos_empresas):\n",
        "    triangulos = list(triangulos_empresas.keys())\n",
        "    x = np.zeros((triangulos_empresas[list(triangulos_empresas.keys())[0]]['Triangulo_acumulado'].shape[0]*triangulos_empresas[list(triangulos_empresas.keys())[0]]['Triangulo_acumulado'].shape[1],\n",
        "                    sum(triangulos_empresas[list(triangulos_empresas.keys())[0]]['Triangulo_acumulado'].shape)-2+1))\n",
        "    l = triangulos_empresas[list(triangulos_empresas.keys())[0]]['Triangulo_acumulado'].shape[0]\n",
        "    for i in range(x.shape[0]):\n",
        "        x[i, 0] = 1\n",
        "        x[i,i%l] = 1\n",
        "        if i >= 10:\n",
        "            entero = int(i/10)\n",
        "            x[i,l+entero-1] = 1\n",
        "    X = x\n",
        "    for i in range(len(list(triangulos_empresas.keys()))-2):\n",
        "        X = np.vstack((X, x))\n",
        "    for i in range(len(list(triangulos_empresas.keys()))-1):\n",
        "        X_0 = np.vstack((X, x))\n",
        "    regresion0 = regresion(triangulos_empresas,X_0)\n",
        "\n",
        "    best_i = []\n",
        "    for i in triangulos:\n",
        "        print(i)\n",
        "        triangulos_empresas_i = triangulos_empresas.copy()\n",
        "        del triangulos_empresas_i[i]\n",
        "        y = triangulos_empresas[i]['Datos_reales'].values.flatten()\n",
        "        y_log = [math.log(x) for x in y]\n",
        "        XY_log = np.concatenate([x, np.array(y_log).reshape(1, 100).T], axis=1)\n",
        "        XY_log = pd.DataFrame(XY_log).drop(regresion0[3][regresion0[3]<100])\n",
        "        x_test = XY_log.iloc[:, :-1]\n",
        "        y_test = XY_log.iloc[:, -1]\n",
        "        regresion_i = regresion(triangulos_empresas_i,X)\n",
        "        est_lineal = np.dot(x_test,regresion_i[0])\n",
        "        est_ridge = np.dot(x_test,regresion_i[1])\n",
        "        est_lasso = np.dot(x_test,regresion_i[2])\n",
        "\n",
        "        MAPE_lineal = 100 * np.mean(np.abs((y_test - est_lineal) / y_test))\n",
        "        MAPE_ridge = 100 * np.mean(np.abs((y_test - est_ridge) / y_test))\n",
        "        MAPE_lasso = 100 * np.mean(np.abs((y_test - est_lasso) / y_test))\n",
        "        MAPE = {'est_lineal':MAPE_lineal,'est_ridge':MAPE_ridge,'est_lasso':MAPE_lasso}\n",
        "        modelo_optimo = locals()[min(MAPE, key=MAPE.get)]\n",
        "        best_i.append(modelo_optimo)\n",
        "\n",
        "    return best_i\n",
        "\n",
        ""
      ]
    },
    {
      "cell_type": "code",
      "execution_count": null,
      "metadata": {
        "id": "xjzmhWu437Ih",
        "outputId": "f01ce666-4090-4ddf-d784-ab5ceb1d88dc"
      },
      "outputs": [
        {
          "name": "stdout",
          "output_type": "stream",
          "text": [
            "Scpie Indemnity Co\n",
            "Promutual Grp\n",
            "Markel Corp Grp\n",
            "Texas Hospital Ins Exch\n",
            "State Volunteer Mut Ins Co\n"
          ]
        },
        {
          "name": "stdout",
          "output_type": "stream",
          "text": [
            "MHA Ins Co\n",
            "Preferred Professional Ins Co\n",
            "Medical Mut Ins Co Of ME\n",
            "Utah Medical Ins Assoc\n",
            "Seguros Triples Inc\n",
            "Dentists Ins Co\n",
            "Physicians Recip Insurers\n",
            "Louisiana Med Mut Ins Co\n",
            "Clinic Mut Ins Co RRG\n"
          ]
        }
      ],
      "source": [
        "x = validacion(triangulos_empresas)"
      ]
    },
    {
      "cell_type": "markdown",
      "metadata": {
        "id": "qFCsawPK37Ih"
      },
      "source": [
        "Con el fin de construir un modelo más robusto generamos la función 'cross_validation', para este caso iteramos anclando una empresa para el test; con las otras faltantes se procede metodología utilizada en la función de 'validacion' construida y comentada anteriormente. Recordar que el test se hace con la empresa que estamos iterando en primera instancia y se hace con el triangulo inferior. Esta función nos retornará un vector de 'n' mejores modelo que estiman las 'n' empresas y de igual manera el mejor modelo generado para todas las posibles iteraciones realizadas"
      ]
    },
    {
      "cell_type": "code",
      "execution_count": null,
      "metadata": {
        "id": "SCGaSgZl37Ii"
      },
      "outputs": [],
      "source": [
        "def cross_validation(triangulos_empresas):\n",
        "    triangulos = list(triangulos_empresas.keys())\n",
        "    x = np.zeros((triangulos_empresas[list(triangulos_empresas.keys())[0]]['Triangulo_acumulado'].shape[0]*triangulos_empresas[list(triangulos_empresas.keys())[0]]['Triangulo_acumulado'].shape[1],\n",
        "                    sum(triangulos_empresas[list(triangulos_empresas.keys())[0]]['Triangulo_acumulado'].shape)-2+1))\n",
        "    l = triangulos_empresas[list(triangulos_empresas.keys())[0]]['Triangulo_acumulado'].shape[0]\n",
        "    for i in range(x.shape[0]):\n",
        "        x[i, 0] = 1\n",
        "        x[i,i%l] = 1\n",
        "        if i >= 10:\n",
        "            entero = int(i/10)\n",
        "            x[i,l+entero-1] = 1\n",
        "    X = x\n",
        "    for i in range(len(list(triangulos_empresas.keys()))-3):\n",
        "        X = np.vstack((X, x))\n",
        "    X_0 = x\n",
        "    for i in range(len(list(triangulos_empresas.keys()))-1):\n",
        "        X_0 = np.vstack((X_0, x))\n",
        "    regresion0 = regresion(triangulos_empresas,X_0)\n",
        "\n",
        "    best = []\n",
        "    int_j = 0\n",
        "    for j in triangulos:\n",
        "        int_j += 1\n",
        "        print(f\"Test {int_j}: Tomando como Test el triangulo de la empresa {j}\")\n",
        "        best_i = []\n",
        "        triangulos_empresas_j = triangulos_empresas.copy()\n",
        "        del triangulos_empresas_j[j]\n",
        "        triangulos_j = list(triangulos_empresas_j.keys())\n",
        "        int_i = 0\n",
        "        for i in triangulos_j:\n",
        "            int_i += 1\n",
        "            print(f\"Validación {int_i}: Tomando como validador el triangulo de la empresa {i}\")\n",
        "            triangulos_empresas_i = triangulos_empresas_j.copy()\n",
        "            del triangulos_empresas_i[i]\n",
        "            y = triangulos_empresas[i]['Datos_reales'].values.flatten()\n",
        "            y_log = [math.log(x) for x in y]\n",
        "            XY_log = np.concatenate([x, np.array(y_log).reshape(1, 100).T], axis=1)\n",
        "            XY_log = pd.DataFrame(XY_log).drop(regresion0[3][regresion0[3]<100])\n",
        "            x_test = XY_log.iloc[:, :-1]\n",
        "            y_test = XY_log.iloc[:, -1]\n",
        "            regresion_i = regresion(triangulos_empresas_i,X)\n",
        "            lineal = regresion_i[0]\n",
        "            ridge = regresion_i[1]\n",
        "            lasso = regresion_i[2]\n",
        "            est_lineal = np.dot(x_test,lineal)\n",
        "            est_ridge = np.dot(x_test,ridge)\n",
        "            est_lasso = np.dot(x_test,lasso)\n",
        "\n",
        "            MAPE_lineal = 100 * np.mean(np.abs((y_test - est_lineal) / y_test))\n",
        "            MAPE_ridge = 100 * np.mean(np.abs((y_test - est_ridge) / y_test))\n",
        "            MAPE_lasso = 100 * np.mean(np.abs((y_test - est_lasso) / y_test))\n",
        "            MAPE = {'lineal':MAPE_lineal,'ridge':MAPE_ridge,'lasso':MAPE_lasso}\n",
        "            modelo_optimo = locals()[min(MAPE, key=MAPE.get)]\n",
        "            best_i.append(modelo_optimo)\n",
        "        y = triangulos_empresas[j]['Datos_reales'].values.flatten()\n",
        "        y_log = [math.log(x) for x in y]\n",
        "        XY_log = np.concatenate([x, np.array(y_log).reshape(1, 100).T], axis=1)\n",
        "        XY_log = pd.DataFrame(XY_log).drop(regresion0[3][regresion0[3]<100])\n",
        "        x_test = XY_log.iloc[:, :-1]\n",
        "        y_test = XY_log.iloc[:, -1]\n",
        "        best_model = best_i[0]\n",
        "\n",
        "        for k in range(len(best_i)):\n",
        "            est_modelo =  np.dot(x_test,best_i[k])\n",
        "            mape = np.mean(np.abs((y_test - est_modelo) / y_test))\n",
        "            if mape < np.mean(np.abs((y_test - np.dot(x_test,best_model) / y_test))):\n",
        "                best_model = best_i[k]\n",
        "        best.append(best_model)\n",
        "    best_model = best[0]\n",
        "    for m in range(len(best)):\n",
        "            est_modelo =  np.dot(x_test,best[m])\n",
        "            mape = np.mean(np.abs((y_test - est_modelo) / y_test))\n",
        "            if mape < np.mean(np.abs((y_test - np.dot(x_test,best_model) / y_test))):\n",
        "                best_model = best[m]\n",
        "                best_mape = np.mean(np.abs((y_test - np.dot(x_test,best_model) / y_test)))\n",
        "\n",
        "    return {\"best_model\":best_model,\"best_mape\":best_mape,\"best\":best}"
      ]
    },
    {
      "cell_type": "markdown",
      "metadata": {
        "id": "63VOyRF837Ii"
      },
      "source": [
        "Corremos la función para obtención de los mejores modelos para las 'n' corridas y el mejor modelo en general"
      ]
    },
    {
      "cell_type": "code",
      "execution_count": null,
      "metadata": {
        "id": "4raTIxqr37Ii",
        "outputId": "9a2e0581-3db1-479d-86b5-5aea1c539e8a"
      },
      "outputs": [
        {
          "name": "stdout",
          "output_type": "stream",
          "text": [
            "Test 1: Tomando como Test el triangulo de la empresa Scpie Indemnity Co\n",
            "Validación 1: Tomando como validador el triangulo de la empresa Promutual Grp\n",
            "Validación 2: Tomando como validador el triangulo de la empresa Markel Corp Grp\n",
            "Validación 3: Tomando como validador el triangulo de la empresa Texas Hospital Ins Exch\n",
            "Validación 4: Tomando como validador el triangulo de la empresa State Volunteer Mut Ins Co\n",
            "Validación 5: Tomando como validador el triangulo de la empresa MHA Ins Co\n"
          ]
        },
        {
          "name": "stdout",
          "output_type": "stream",
          "text": [
            "Validación 6: Tomando como validador el triangulo de la empresa Preferred Professional Ins Co\n",
            "Validación 7: Tomando como validador el triangulo de la empresa Medical Mut Ins Co Of ME\n",
            "Validación 8: Tomando como validador el triangulo de la empresa Utah Medical Ins Assoc\n",
            "Validación 9: Tomando como validador el triangulo de la empresa Seguros Triples Inc\n",
            "Validación 10: Tomando como validador el triangulo de la empresa Dentists Ins Co\n",
            "Validación 11: Tomando como validador el triangulo de la empresa Physicians Recip Insurers\n",
            "Validación 12: Tomando como validador el triangulo de la empresa Louisiana Med Mut Ins Co\n",
            "Validación 13: Tomando como validador el triangulo de la empresa Clinic Mut Ins Co RRG\n",
            "Test 2: Tomando como Test el triangulo de la empresa Promutual Grp\n",
            "Validación 1: Tomando como validador el triangulo de la empresa Scpie Indemnity Co\n",
            "Validación 2: Tomando como validador el triangulo de la empresa Markel Corp Grp\n",
            "Validación 3: Tomando como validador el triangulo de la empresa Texas Hospital Ins Exch\n",
            "Validación 4: Tomando como validador el triangulo de la empresa State Volunteer Mut Ins Co\n",
            "Validación 5: Tomando como validador el triangulo de la empresa MHA Ins Co\n",
            "Validación 6: Tomando como validador el triangulo de la empresa Preferred Professional Ins Co\n",
            "Validación 7: Tomando como validador el triangulo de la empresa Medical Mut Ins Co Of ME\n",
            "Validación 8: Tomando como validador el triangulo de la empresa Utah Medical Ins Assoc\n",
            "Validación 9: Tomando como validador el triangulo de la empresa Seguros Triples Inc\n",
            "Validación 10: Tomando como validador el triangulo de la empresa Dentists Ins Co\n",
            "Validación 11: Tomando como validador el triangulo de la empresa Physicians Recip Insurers\n",
            "Validación 12: Tomando como validador el triangulo de la empresa Louisiana Med Mut Ins Co\n",
            "Validación 13: Tomando como validador el triangulo de la empresa Clinic Mut Ins Co RRG\n",
            "Test 3: Tomando como Test el triangulo de la empresa Markel Corp Grp\n",
            "Validación 1: Tomando como validador el triangulo de la empresa Scpie Indemnity Co\n",
            "Validación 2: Tomando como validador el triangulo de la empresa Promutual Grp\n",
            "Validación 3: Tomando como validador el triangulo de la empresa Texas Hospital Ins Exch\n",
            "Validación 4: Tomando como validador el triangulo de la empresa State Volunteer Mut Ins Co\n",
            "Validación 5: Tomando como validador el triangulo de la empresa MHA Ins Co\n",
            "Validación 6: Tomando como validador el triangulo de la empresa Preferred Professional Ins Co\n",
            "Validación 7: Tomando como validador el triangulo de la empresa Medical Mut Ins Co Of ME\n",
            "Validación 8: Tomando como validador el triangulo de la empresa Utah Medical Ins Assoc\n",
            "Validación 9: Tomando como validador el triangulo de la empresa Seguros Triples Inc\n",
            "Validación 10: Tomando como validador el triangulo de la empresa Dentists Ins Co\n",
            "Validación 11: Tomando como validador el triangulo de la empresa Physicians Recip Insurers\n",
            "Validación 12: Tomando como validador el triangulo de la empresa Louisiana Med Mut Ins Co\n",
            "Validación 13: Tomando como validador el triangulo de la empresa Clinic Mut Ins Co RRG\n",
            "Test 4: Tomando como Test el triangulo de la empresa Texas Hospital Ins Exch\n",
            "Validación 1: Tomando como validador el triangulo de la empresa Scpie Indemnity Co\n",
            "Validación 2: Tomando como validador el triangulo de la empresa Promutual Grp\n",
            "Validación 3: Tomando como validador el triangulo de la empresa Markel Corp Grp\n",
            "Validación 4: Tomando como validador el triangulo de la empresa State Volunteer Mut Ins Co\n",
            "Validación 5: Tomando como validador el triangulo de la empresa MHA Ins Co\n",
            "Validación 6: Tomando como validador el triangulo de la empresa Preferred Professional Ins Co\n",
            "Validación 7: Tomando como validador el triangulo de la empresa Medical Mut Ins Co Of ME\n",
            "Validación 8: Tomando como validador el triangulo de la empresa Utah Medical Ins Assoc\n",
            "Validación 9: Tomando como validador el triangulo de la empresa Seguros Triples Inc\n",
            "Validación 10: Tomando como validador el triangulo de la empresa Dentists Ins Co\n",
            "Validación 11: Tomando como validador el triangulo de la empresa Physicians Recip Insurers\n",
            "Validación 12: Tomando como validador el triangulo de la empresa Louisiana Med Mut Ins Co\n",
            "Validación 13: Tomando como validador el triangulo de la empresa Clinic Mut Ins Co RRG\n",
            "Test 5: Tomando como Test el triangulo de la empresa State Volunteer Mut Ins Co\n",
            "Validación 1: Tomando como validador el triangulo de la empresa Scpie Indemnity Co\n",
            "Validación 2: Tomando como validador el triangulo de la empresa Promutual Grp\n",
            "Validación 3: Tomando como validador el triangulo de la empresa Markel Corp Grp\n",
            "Validación 4: Tomando como validador el triangulo de la empresa Texas Hospital Ins Exch\n",
            "Validación 5: Tomando como validador el triangulo de la empresa MHA Ins Co\n",
            "Validación 6: Tomando como validador el triangulo de la empresa Preferred Professional Ins Co\n",
            "Validación 7: Tomando como validador el triangulo de la empresa Medical Mut Ins Co Of ME\n",
            "Validación 8: Tomando como validador el triangulo de la empresa Utah Medical Ins Assoc\n",
            "Validación 9: Tomando como validador el triangulo de la empresa Seguros Triples Inc\n",
            "Validación 10: Tomando como validador el triangulo de la empresa Dentists Ins Co\n",
            "Validación 11: Tomando como validador el triangulo de la empresa Physicians Recip Insurers\n",
            "Validación 12: Tomando como validador el triangulo de la empresa Louisiana Med Mut Ins Co\n",
            "Validación 13: Tomando como validador el triangulo de la empresa Clinic Mut Ins Co RRG\n",
            "Test 6: Tomando como Test el triangulo de la empresa MHA Ins Co\n",
            "Validación 1: Tomando como validador el triangulo de la empresa Scpie Indemnity Co\n",
            "Validación 2: Tomando como validador el triangulo de la empresa Promutual Grp\n",
            "Validación 3: Tomando como validador el triangulo de la empresa Markel Corp Grp\n",
            "Validación 4: Tomando como validador el triangulo de la empresa Texas Hospital Ins Exch\n",
            "Validación 5: Tomando como validador el triangulo de la empresa State Volunteer Mut Ins Co\n",
            "Validación 6: Tomando como validador el triangulo de la empresa Preferred Professional Ins Co\n",
            "Validación 7: Tomando como validador el triangulo de la empresa Medical Mut Ins Co Of ME\n",
            "Validación 8: Tomando como validador el triangulo de la empresa Utah Medical Ins Assoc\n",
            "Validación 9: Tomando como validador el triangulo de la empresa Seguros Triples Inc\n",
            "Validación 10: Tomando como validador el triangulo de la empresa Dentists Ins Co\n",
            "Validación 11: Tomando como validador el triangulo de la empresa Physicians Recip Insurers\n",
            "Validación 12: Tomando como validador el triangulo de la empresa Louisiana Med Mut Ins Co\n",
            "Validación 13: Tomando como validador el triangulo de la empresa Clinic Mut Ins Co RRG\n",
            "Test 7: Tomando como Test el triangulo de la empresa Preferred Professional Ins Co\n",
            "Validación 1: Tomando como validador el triangulo de la empresa Scpie Indemnity Co\n",
            "Validación 2: Tomando como validador el triangulo de la empresa Promutual Grp\n",
            "Validación 3: Tomando como validador el triangulo de la empresa Markel Corp Grp\n",
            "Validación 4: Tomando como validador el triangulo de la empresa Texas Hospital Ins Exch\n",
            "Validación 5: Tomando como validador el triangulo de la empresa State Volunteer Mut Ins Co\n",
            "Validación 6: Tomando como validador el triangulo de la empresa MHA Ins Co\n",
            "Validación 7: Tomando como validador el triangulo de la empresa Medical Mut Ins Co Of ME\n",
            "Validación 8: Tomando como validador el triangulo de la empresa Utah Medical Ins Assoc\n",
            "Validación 9: Tomando como validador el triangulo de la empresa Seguros Triples Inc\n",
            "Validación 10: Tomando como validador el triangulo de la empresa Dentists Ins Co\n",
            "Validación 11: Tomando como validador el triangulo de la empresa Physicians Recip Insurers\n",
            "Validación 12: Tomando como validador el triangulo de la empresa Louisiana Med Mut Ins Co\n",
            "Validación 13: Tomando como validador el triangulo de la empresa Clinic Mut Ins Co RRG\n",
            "Test 8: Tomando como Test el triangulo de la empresa Medical Mut Ins Co Of ME\n",
            "Validación 1: Tomando como validador el triangulo de la empresa Scpie Indemnity Co\n",
            "Validación 2: Tomando como validador el triangulo de la empresa Promutual Grp\n",
            "Validación 3: Tomando como validador el triangulo de la empresa Markel Corp Grp\n",
            "Validación 4: Tomando como validador el triangulo de la empresa Texas Hospital Ins Exch\n",
            "Validación 5: Tomando como validador el triangulo de la empresa State Volunteer Mut Ins Co\n",
            "Validación 6: Tomando como validador el triangulo de la empresa MHA Ins Co\n",
            "Validación 7: Tomando como validador el triangulo de la empresa Preferred Professional Ins Co\n",
            "Validación 8: Tomando como validador el triangulo de la empresa Utah Medical Ins Assoc\n",
            "Validación 9: Tomando como validador el triangulo de la empresa Seguros Triples Inc\n",
            "Validación 10: Tomando como validador el triangulo de la empresa Dentists Ins Co\n",
            "Validación 11: Tomando como validador el triangulo de la empresa Physicians Recip Insurers\n",
            "Validación 12: Tomando como validador el triangulo de la empresa Louisiana Med Mut Ins Co\n",
            "Validación 13: Tomando como validador el triangulo de la empresa Clinic Mut Ins Co RRG\n",
            "Test 9: Tomando como Test el triangulo de la empresa Utah Medical Ins Assoc\n",
            "Validación 1: Tomando como validador el triangulo de la empresa Scpie Indemnity Co\n",
            "Validación 2: Tomando como validador el triangulo de la empresa Promutual Grp\n",
            "Validación 3: Tomando como validador el triangulo de la empresa Markel Corp Grp\n",
            "Validación 4: Tomando como validador el triangulo de la empresa Texas Hospital Ins Exch\n",
            "Validación 5: Tomando como validador el triangulo de la empresa State Volunteer Mut Ins Co\n",
            "Validación 6: Tomando como validador el triangulo de la empresa MHA Ins Co\n",
            "Validación 7: Tomando como validador el triangulo de la empresa Preferred Professional Ins Co\n",
            "Validación 8: Tomando como validador el triangulo de la empresa Medical Mut Ins Co Of ME\n",
            "Validación 9: Tomando como validador el triangulo de la empresa Seguros Triples Inc\n",
            "Validación 10: Tomando como validador el triangulo de la empresa Dentists Ins Co\n",
            "Validación 11: Tomando como validador el triangulo de la empresa Physicians Recip Insurers\n",
            "Validación 12: Tomando como validador el triangulo de la empresa Louisiana Med Mut Ins Co\n",
            "Validación 13: Tomando como validador el triangulo de la empresa Clinic Mut Ins Co RRG\n",
            "Test 10: Tomando como Test el triangulo de la empresa Seguros Triples Inc\n",
            "Validación 1: Tomando como validador el triangulo de la empresa Scpie Indemnity Co\n",
            "Validación 2: Tomando como validador el triangulo de la empresa Promutual Grp\n",
            "Validación 3: Tomando como validador el triangulo de la empresa Markel Corp Grp\n",
            "Validación 4: Tomando como validador el triangulo de la empresa Texas Hospital Ins Exch\n",
            "Validación 5: Tomando como validador el triangulo de la empresa State Volunteer Mut Ins Co\n",
            "Validación 6: Tomando como validador el triangulo de la empresa MHA Ins Co\n",
            "Validación 7: Tomando como validador el triangulo de la empresa Preferred Professional Ins Co\n",
            "Validación 8: Tomando como validador el triangulo de la empresa Medical Mut Ins Co Of ME\n",
            "Validación 9: Tomando como validador el triangulo de la empresa Utah Medical Ins Assoc\n",
            "Validación 10: Tomando como validador el triangulo de la empresa Dentists Ins Co\n",
            "Validación 11: Tomando como validador el triangulo de la empresa Physicians Recip Insurers\n",
            "Validación 12: Tomando como validador el triangulo de la empresa Louisiana Med Mut Ins Co\n",
            "Validación 13: Tomando como validador el triangulo de la empresa Clinic Mut Ins Co RRG\n",
            "Test 11: Tomando como Test el triangulo de la empresa Dentists Ins Co\n",
            "Validación 1: Tomando como validador el triangulo de la empresa Scpie Indemnity Co\n",
            "Validación 2: Tomando como validador el triangulo de la empresa Promutual Grp\n",
            "Validación 3: Tomando como validador el triangulo de la empresa Markel Corp Grp\n",
            "Validación 4: Tomando como validador el triangulo de la empresa Texas Hospital Ins Exch\n",
            "Validación 5: Tomando como validador el triangulo de la empresa State Volunteer Mut Ins Co\n",
            "Validación 6: Tomando como validador el triangulo de la empresa MHA Ins Co\n",
            "Validación 7: Tomando como validador el triangulo de la empresa Preferred Professional Ins Co\n",
            "Validación 8: Tomando como validador el triangulo de la empresa Medical Mut Ins Co Of ME\n",
            "Validación 9: Tomando como validador el triangulo de la empresa Utah Medical Ins Assoc\n",
            "Validación 10: Tomando como validador el triangulo de la empresa Seguros Triples Inc\n",
            "Validación 11: Tomando como validador el triangulo de la empresa Physicians Recip Insurers\n",
            "Validación 12: Tomando como validador el triangulo de la empresa Louisiana Med Mut Ins Co\n",
            "Validación 13: Tomando como validador el triangulo de la empresa Clinic Mut Ins Co RRG\n",
            "Test 12: Tomando como Test el triangulo de la empresa Physicians Recip Insurers\n",
            "Validación 1: Tomando como validador el triangulo de la empresa Scpie Indemnity Co\n",
            "Validación 2: Tomando como validador el triangulo de la empresa Promutual Grp\n",
            "Validación 3: Tomando como validador el triangulo de la empresa Markel Corp Grp\n",
            "Validación 4: Tomando como validador el triangulo de la empresa Texas Hospital Ins Exch\n",
            "Validación 5: Tomando como validador el triangulo de la empresa State Volunteer Mut Ins Co\n",
            "Validación 6: Tomando como validador el triangulo de la empresa MHA Ins Co\n",
            "Validación 7: Tomando como validador el triangulo de la empresa Preferred Professional Ins Co\n",
            "Validación 8: Tomando como validador el triangulo de la empresa Medical Mut Ins Co Of ME\n",
            "Validación 9: Tomando como validador el triangulo de la empresa Utah Medical Ins Assoc\n",
            "Validación 10: Tomando como validador el triangulo de la empresa Seguros Triples Inc\n",
            "Validación 11: Tomando como validador el triangulo de la empresa Dentists Ins Co\n",
            "Validación 12: Tomando como validador el triangulo de la empresa Louisiana Med Mut Ins Co\n",
            "Validación 13: Tomando como validador el triangulo de la empresa Clinic Mut Ins Co RRG\n",
            "Test 13: Tomando como Test el triangulo de la empresa Louisiana Med Mut Ins Co\n",
            "Validación 1: Tomando como validador el triangulo de la empresa Scpie Indemnity Co\n",
            "Validación 2: Tomando como validador el triangulo de la empresa Promutual Grp\n",
            "Validación 3: Tomando como validador el triangulo de la empresa Markel Corp Grp\n",
            "Validación 4: Tomando como validador el triangulo de la empresa Texas Hospital Ins Exch\n",
            "Validación 5: Tomando como validador el triangulo de la empresa State Volunteer Mut Ins Co\n",
            "Validación 6: Tomando como validador el triangulo de la empresa MHA Ins Co\n",
            "Validación 7: Tomando como validador el triangulo de la empresa Preferred Professional Ins Co\n",
            "Validación 8: Tomando como validador el triangulo de la empresa Medical Mut Ins Co Of ME\n",
            "Validación 9: Tomando como validador el triangulo de la empresa Utah Medical Ins Assoc\n",
            "Validación 10: Tomando como validador el triangulo de la empresa Seguros Triples Inc\n",
            "Validación 11: Tomando como validador el triangulo de la empresa Dentists Ins Co\n",
            "Validación 12: Tomando como validador el triangulo de la empresa Physicians Recip Insurers\n",
            "Validación 13: Tomando como validador el triangulo de la empresa Clinic Mut Ins Co RRG\n",
            "Test 14: Tomando como Test el triangulo de la empresa Clinic Mut Ins Co RRG\n",
            "Validación 1: Tomando como validador el triangulo de la empresa Scpie Indemnity Co\n",
            "Validación 2: Tomando como validador el triangulo de la empresa Promutual Grp\n",
            "Validación 3: Tomando como validador el triangulo de la empresa Markel Corp Grp\n",
            "Validación 4: Tomando como validador el triangulo de la empresa Texas Hospital Ins Exch\n",
            "Validación 5: Tomando como validador el triangulo de la empresa State Volunteer Mut Ins Co\n",
            "Validación 6: Tomando como validador el triangulo de la empresa MHA Ins Co\n",
            "Validación 7: Tomando como validador el triangulo de la empresa Preferred Professional Ins Co\n",
            "Validación 8: Tomando como validador el triangulo de la empresa Medical Mut Ins Co Of ME\n",
            "Validación 9: Tomando como validador el triangulo de la empresa Utah Medical Ins Assoc\n",
            "Validación 10: Tomando como validador el triangulo de la empresa Seguros Triples Inc\n",
            "Validación 11: Tomando como validador el triangulo de la empresa Dentists Ins Co\n",
            "Validación 12: Tomando como validador el triangulo de la empresa Physicians Recip Insurers\n",
            "Validación 13: Tomando como validador el triangulo de la empresa Louisiana Med Mut Ins Co\n"
          ]
        }
      ],
      "source": [
        "x = cross_validation(triangulos_empresas)"
      ]
    },
    {
      "cell_type": "markdown",
      "metadata": {
        "id": "nAnISeba37Ii"
      },
      "source": [
        "Obtención del mejor modelo"
      ]
    },
    {
      "cell_type": "code",
      "execution_count": null,
      "metadata": {
        "id": "DrA2yfW237Ii",
        "outputId": "2da0b5b5-19bd-42fa-e36a-f4b217af744d"
      },
      "outputs": [
        {
          "data": {
            "text/plain": [
              "array([ 9.2965389 , -0.03375131, -0.10635558, -0.19347711, -0.27043903,\n",
              "       -0.34656791, -0.39947064, -0.4970425 , -0.51208459, -0.54524698,\n",
              "        0.27208802,  0.39185737,  0.46231309,  0.54206175,  0.55286739,\n",
              "        0.66352384,  0.74024705,  0.7818943 ,  0.70097541])"
            ]
          },
          "execution_count": 51,
          "metadata": {},
          "output_type": "execute_result"
        }
      ],
      "source": [
        "x['best_model']"
      ]
    },
    {
      "cell_type": "code",
      "execution_count": null,
      "metadata": {
        "id": "qhCL2AWG37Ii",
        "outputId": "f4e5e7ce-bb0a-4ca7-d2b0-f9e7a4f48a63"
      },
      "outputs": [
        {
          "data": {
            "text/plain": [
              "6.070558123909585"
            ]
          },
          "execution_count": 52,
          "metadata": {},
          "output_type": "execute_result"
        }
      ],
      "source": [
        "x['best_mape']"
      ]
    }
  ],
  "metadata": {
    "kernelspec": {
      "display_name": "Python 3",
      "language": "python",
      "name": "python3"
    },
    "language_info": {
      "codemirror_mode": {
        "name": "ipython",
        "version": 3
      },
      "file_extension": ".py",
      "mimetype": "text/x-python",
      "name": "python",
      "nbconvert_exporter": "python",
      "pygments_lexer": "ipython3",
      "version": "3.11.4"
    },
    "orig_nbformat": 4,
    "colab": {
      "provenance": [],
      "include_colab_link": true
    }
  },
  "nbformat": 4,
  "nbformat_minor": 0
}