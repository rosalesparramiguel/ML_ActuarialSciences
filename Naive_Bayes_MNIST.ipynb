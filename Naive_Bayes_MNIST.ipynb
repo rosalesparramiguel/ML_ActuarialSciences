{
  "cells": [
    {
      "cell_type": "markdown",
      "metadata": {
        "id": "view-in-github",
        "colab_type": "text"
      },
      "source": [
        "<a href=\"https://colab.research.google.com/github/rosalesparramiguel/ML_ActuarialSciences/blob/main/Naive_Bayes_MNIST.ipynb\" target=\"_parent\"><img src=\"https://colab.research.google.com/assets/colab-badge.svg\" alt=\"Open In Colab\"/></a>"
      ]
    },
    {
      "cell_type": "markdown",
      "metadata": {
        "id": "6KslD-JE3sGB"
      },
      "source": [
        "# Clasificador y generador de digitos utilizando Naive Bayes"
      ]
    },
    {
      "cell_type": "markdown",
      "metadata": {
        "id": "28ugLRis3sGD"
      },
      "source": [
        "## Introducción"
      ]
    },
    {
      "cell_type": "markdown",
      "metadata": {
        "id": "mV_WHjr73sGD"
      },
      "source": [
        "El propósito de este Notebook es aplicar herramientas estadísticas de clasificación. Dado que el problema de clasificaci ́on es uno de los primeros que aparece a la hora de abordar un problema o situación. Existen dos tipos de clasificación, cuando los grupos están bien definidos y tratamos de determinar criterios para poder etiquetar cada sujeto perteneciente a alguno de estos grupos o cuando no tenemos ninguna información previa y deseamos delimitar los datos en sus diferentes clases. Para este estudio se selecciono una base de datos de unos de imagenes 28x28, las cuales contienen los números escritos del 0 al 9 a mano y se desea clasificar cada una de esas imagenes en su clasificación correspondiente."
      ]
    },
    {
      "cell_type": "markdown",
      "metadata": {
        "id": "b3PYkzlA3sGE"
      },
      "source": [
        "En muchas practicas de investigación la ejecución de un método o tratamiento adecuado, comienza desde la elaboración del diagnostico del sujeto que necesita una recolección de datos. Se tomo como ejemplo una base de datos del tipo de imagenes de números escritos a mano. La muestra estuvo conformada por un total 70000 imangenes (este conjuntos de datos contiene una serie de cantidades no especificadas para cada una de las 10 categorias que lo conforman), un muestreo de este tipo permite un buen acercamiento general a la hora de idenficiación de patrones en caligrafia de individuos de un lugar determinado y por ende la identificación del individuo. El diagnostico del comportamiento humano y de igual forma su identifiación es primordial a la hora de una sociedad optima. Las ayudas diagn+osticas se convierten en importantes herramientas para el investigador, sin embargo, la existencia de distintas variables y métodos de análisis que se aplican, ademas del destaque subjetivo del investigador, quien bajo sus propios criterios define qué metodologías va a utilizar, cuántas variables va utilizar y en qué herramientas se apoyará, hacen que estas ayudas sean susceptibles de errores y ambiguedades.\n",
        "\n",
        "Con la finalidad de corregir o enfrentar los problemas que se han nombrado, se propone realizar en primera instancia una metodologia,el análisis bayesiano como metodología estadística ha sido desarrollado y aplicado en diversas  ́areas del conocimiento con el fin de identificar, clasificar y agrupar variables que explican un determinado fenómeno. Con esto se enmarca el objetivo del notebook, aplicar una herramienta en la clasificación de la relación de diferentes patrones de ciertas caligrafias utilizando las variables del análisis obtenidas de una muestra de imagenes seleccionadas."
      ]
    },
    {
      "cell_type": "markdown",
      "metadata": {
        "id": "K1C3LOwI3sGE"
      },
      "source": [
        "### Naive bayes"
      ]
    },
    {
      "cell_type": "markdown",
      "metadata": {
        "id": "Irgrdho13sGE"
      },
      "source": [
        "Naive Bayes es una de las metodología de clasificación a las cuales uno debe acercase, por eso traemos este modelo para realizar una intreoducción al funcionamiento, rendimiento y de igual forma una aplicación de este. Empezamos observar que el nombre de esta metodología nos indica que trabajaremos con teoremá de bayes, pero la segunda parte de este nos indica 'Naive' o sea 'Ingenuo'. El algoritmo tomo ese nombre dado el supuesto que lo identicia, el cual nos dice que la presencia de alguna caracteristica en una clase es totalmente independiente (no guarda relación) con alguna otra caracteristica de la misma clase.\n"
      ]
    },
    {
      "cell_type": "markdown",
      "metadata": {
        "id": "rqin1nuf3sGE"
      },
      "source": [
        "Empezaremos esta introducción al modelo Naive bayes con la mátematica que se puede encontrar debajo de esta metodología, esto se hace para que el lector logre entender en mayor medida el funcionamiento de esta metodología y con esto una mejor aplicación.\n",
        "\n",
        "**Probabilidad Condicional**\n",
        "\n",
        "Empezaremos con este tema dado que es uno de los fundamentales que sostiene la escencia del modelo. Empezaremos en como utilizando el teorema de bayes visto en materías o temás de estadistica para lograr llegar a esta probabilidad condicional. La probabilidad condicional es como ajustar nuestras expectativas sobre un evento (objetivo) cuando tenemos información (datos) adicional que puede influir en la probabilidad de que ocurra.\n",
        "\n",
        "Supondremos que tenemos dos compañeros que son indistinguibles observados de espaldas dada su estatura, contextura, cabello, entre otras. El compañero A que por cuestiones personales solo logra asistir 3 de los 5 días de la semana a clase, mientras que el compañero B por cuestiones de pereza, asiste unicamente 2 de los 5 días de clase. Para este caso considerariamos la información adicional dado que es algo que ya conocemos de antemano.\n",
        "Si un día x entramos al salon de clase y nos ubicamos en la parte trasera del aula y observamos que en la parte cercana al profesor hay alguien que conocemos pero no logramos indentificar como A o B. Dado que contamos con la información del comportamiento de nuestros compañeros podemos decir que con una probabilidad de $P[Compañero A] = 3/5$, es el compañero A. Y con una proabilidad de  $P[Compañero B] = 2/5$ de que sea el compañero B.\n",
        "\n",
        "Observando más detalladamente nos percatamos que el compañero trae zapatos, de donde también sabemos lo siguiente.\n",
        "\n",
        "- Compañero A utiliza zapatos dos días a la semana dadas las normativas de su empresa\n",
        "- Compañero B utilzia zapatos dos días a la semana dado que asiste al coro de la iglesia de su barrio\n",
        "\n",
        "Teniendo en consideración esta información historica, tenemos:\n",
        "\n",
        "- $P[Zapatos | Compañero A] = 3/5$\n",
        "- $P[Zapatos | Compañero B] = 3/5$\n",
        "\n",
        "Entones dado que conocemos el comportamiento de los compañeros, quien esta sentado enfrente de nosotros?\n",
        "\n",
        "![Alt text](image.png)\n",
        "\n"
      ]
    },
    {
      "cell_type": "markdown",
      "metadata": {
        "id": "7vdQGVAV3sGE"
      },
      "source": [
        "**Supuesto de independencia**\n",
        "\n",
        "El otro supuesto fuerte con el cuenta el modelo es la independencia. estadísticamente nombramos la idependecia de la siguiente forma:\n",
        "- $P[A|B] = P[A]$, esto implica que la probabilidad de A no es afectada por la presencia de B\n",
        "\n",
        "Esto se habla dado que el modelo toma cada una de las categorias de los invididuos a segmentar y toma sus caracteristicas de forma independiente, ninguna de ellas afecta la presencia de las demás caracteristicas."
      ]
    },
    {
      "cell_type": "markdown",
      "metadata": {
        "id": "eyAfNLUm3sGF"
      },
      "source": [
        "**Pros y contras del algoritmo Naive Bayes**\n",
        "- Manera fácil y rápida de predecir segmentos\n",
        "- El supuesto de indepoendencia se comporta bien con modelos que continen pocos datos de entrenamiento\n",
        "- Estimaciones de poca confiabilidad, se puede tomar como un primer acercamiento al comportamiento de los datos\n",
        "- La independecia de las caracteristicas es muy poco probable en situaciones reales\n",
        "- Las estimaciones se limitan a las datos con los cuales se ha entrenado."
      ]
    },
    {
      "cell_type": "markdown",
      "metadata": {
        "id": "kQay7ZI03sGF"
      },
      "source": [
        "### MNIS"
      ]
    },
    {
      "cell_type": "markdown",
      "metadata": {
        "id": "Mst2pmmj3sGF"
      },
      "source": [
        "La base de datos MNIST, que significa \"Instituto Nacional Modificado de Estándares y Tecnología\", es un conjunto de datos popular en los campos de la visión por computadora y el aprendizaje automático. El Instituto Nacional de Estándares y Tecnología lo creó y luego fue modificado para su uso en huellas dactilares portátiles.\n",
        "\n",
        "En la base de datos MNIST está disponible una colección de imágenes granuladas de los números escritos a mano del 0 al 9. Hay un número en el medio de cada imagen de 28x28 píxeles. Dado que las imágenes están etiquetadas, es posible determinar el número que aparece en cada una.\n",
        "\n",
        "Hay un total de 60.000 imágenes de entrenamiento y 10.000 imágenes de prueba en la base de datos MNIST, o 6.000 imágenes por dígito. Almacenar manualmente archivos digitales en esta ubicación es una gran idea. En los campos del aprendizaje automático y la visión por computadora, la base de datos MNIST se ha convertido en un estándar que se utiliza para probar y evaluar varios puntos de referencia y algoritmos de aprendizaje automático. En la industria minera también ha servido de base para numerosos proyectos y concursos debido a su simplicidad y accesibilidad.\n"
      ]
    },
    {
      "cell_type": "markdown",
      "metadata": {
        "id": "qPgx_s4A3sGF"
      },
      "source": [
        "## Ejercicio de clasificación de digitos utilizando Naive Bayes"
      ]
    },
    {
      "cell_type": "markdown",
      "metadata": {
        "id": "ToPcaLPa3sGF"
      },
      "source": [
        "### Importación de librerias y datos"
      ]
    },
    {
      "cell_type": "markdown",
      "metadata": {
        "id": "0-iAwI8_3sGF"
      },
      "source": [
        "Empezaremos con la importación de algunas librerías con las cuales trabajaremos al rededor de este ejemplo. Entre estas contamos con:\n",
        "- Pandas 2.0.3: Facilitar la manipulación de datos tabulares, proporcionando estructuras de datos y herramientas eficientes.\n",
        "- Skelean fetch_openml 0.0.post9: Esta librería cuenta con bases de datos lo cual permite acceder y descargar conjuntos de datos directamente desde el repositorio en línea \"OpenML\", se propone esta librería para no presentar problemas a la hora de la búsqueda de los datos para las personas que pretenderán replicar este ejemplo.\n",
        "- sklearn.model_selection: Módulo de scikit-learn que proporciona herramientas para dividir conjuntos de datos en subconjuntos de entrenamiento y prueba\n",
        "- Matplotlib 3.7.2: Ayuda a crear visualizaciones y gráficos de datos de manera efectiva y personalizada.\n",
        "- Numpy 1.25.1: Ayuda a realizar operaciones matemáticas y numéricas eficientes en arreglos y matrices multidimensionales.\n",
        "- Warnings: Permite controlar y manejar advertencias durante la ejecución del programa\n",
        "- Random: Proporciona funciones para generar números aleatorios y realizar operaciones relacionadas con la aleatoriedad\n",
        "- Decomposition PCA: Realiza análisis de reducción de dimensionalidad en conjuntos de datos.\n",
        "- Resample: Ayuda ha generar muestras aleatorias\n",
        "- Naive_bayes GaussianNB: Nos ayuda con la versión del modelo Naive Bayes para variables continuas\n",
        "- Naive_bayes BernoulliNB: Nos ayuda con la versión del modelo Naive Bayes cuando se cuenta con más de dos categorías dada la generalidad que cuenta el modelo\n",
        "- Metrics classification_report: Nos ayuda con algunas métricas de interés con el fin de cuantificar el rendimiento un modelo\n",
        "\n",
        "De no contar con alguna de estas librerías en su ambiente, puede adquirirlas con el comando *pip install 'nombre_libreria'*, este codigo peude ser ejecutado en una celda de su Jupyter Notebook, o desde la consola de su IDE de prederencia."
      ]
    },
    {
      "cell_type": "code",
      "execution_count": null,
      "metadata": {
        "id": "DrUI9ej53sGG"
      },
      "outputs": [],
      "source": [
        "import pandas as pd\n",
        "import numpy as np\n",
        "from sklearn.datasets import fetch_openml\n",
        "import matplotlib.pyplot as plt\n",
        "from sklearn.model_selection import train_test_split\n",
        "from sklearn.decomposition import PCA\n",
        "from sklearn.naive_bayes import GaussianNB\n",
        "from sklearn.naive_bayes import BernoulliNB\n",
        "from sklearn.utils import resample\n",
        "from sklearn.metrics import classification_report\n",
        "import random\n",
        "import warnings"
      ]
    },
    {
      "cell_type": "markdown",
      "metadata": {
        "id": "wliYqyVd3sGG"
      },
      "source": [
        "### Selección de datos de entrenamiento y datos de testeo"
      ]
    },
    {
      "cell_type": "markdown",
      "metadata": {
        "id": "niZFUYAA3sGG"
      },
      "source": [
        "Para este caso donde estamos utilizando la libreria mnist dada su reproducibilidad de los participantes. Este grupo de datos cuenta con 70000 imagenes de digitos escritos a mano y codificadas para poderlas visualizar de manera de matriz, cuenta con una serie de numeros los cuales nos indican el color que trae el pixel (28x28) y una variable que nos indica el número al cual perteneces esa codificación, esto dividia en llaves dado el diccionario importado por la librería openml"
      ]
    },
    {
      "cell_type": "code",
      "execution_count": null,
      "metadata": {
        "id": "txu7h9Q03sGG",
        "outputId": "10109090-3476-4c24-be1d-3ecb53a72b48"
      },
      "outputs": [
        {
          "name": "stderr",
          "output_type": "stream",
          "text": [
            "c:\\Users\\moshe\\AppData\\Local\\Programs\\Python\\Python311\\Lib\\site-packages\\sklearn\\datasets\\_openml.py:1022: FutureWarning: The default value of `parser` will change from `'liac-arff'` to `'auto'` in 1.4. You can set `parser='auto'` to silence this warning. Therefore, an `ImportError` will be raised from 1.4 if the dataset is dense and pandas is not installed. Note that the pandas parser may return different data types. See the Notes Section in fetch_openml's API doc for details.\n",
            "  warn(\n"
          ]
        }
      ],
      "source": [
        "mnist = fetch_openml('mnist_784')"
      ]
    },
    {
      "cell_type": "markdown",
      "metadata": {
        "id": "mXgjU51y3sGH"
      },
      "source": [
        "Visualizaremos la llaves del objeto mnis importado, en este veremos por ejemplo datos con las imagenes codigicadas, las categorías en total con las que cuenta, la variable que nos indica cada ejemplo de pixeles que número a mano representa, entre otras cosas"
      ]
    },
    {
      "cell_type": "code",
      "execution_count": null,
      "metadata": {
        "id": "qKSGjyOZ3sGH",
        "outputId": "c6b4ee5e-3353-421b-e7b6-d6acb6aaa13f"
      },
      "outputs": [
        {
          "data": {
            "text/plain": [
              "dict_keys(['data', 'target', 'frame', 'categories', 'feature_names', 'target_names', 'DESCR', 'details', 'url'])"
            ]
          },
          "execution_count": 3,
          "metadata": {},
          "output_type": "execute_result"
        }
      ],
      "source": [
        "mnist.keys()"
      ]
    },
    {
      "cell_type": "markdown",
      "metadata": {
        "id": "U7Chfvrg3sGH"
      },
      "source": [
        "Imprimiremos 'data' la cual cueta con 784 columnas (28x28), cada una de estas columnas nos indica el pixel y que valor toma para cada una de las imagenes codificadas"
      ]
    },
    {
      "cell_type": "code",
      "execution_count": null,
      "metadata": {
        "id": "PYszYzul3sGH",
        "outputId": "f76b533b-0cfb-4987-da6c-3b316a4fbefb"
      },
      "outputs": [
        {
          "data": {
            "text/html": [
              "<div>\n",
              "<style scoped>\n",
              "    .dataframe tbody tr th:only-of-type {\n",
              "        vertical-align: middle;\n",
              "    }\n",
              "\n",
              "    .dataframe tbody tr th {\n",
              "        vertical-align: top;\n",
              "    }\n",
              "\n",
              "    .dataframe thead th {\n",
              "        text-align: right;\n",
              "    }\n",
              "</style>\n",
              "<table border=\"1\" class=\"dataframe\">\n",
              "  <thead>\n",
              "    <tr style=\"text-align: right;\">\n",
              "      <th></th>\n",
              "      <th>pixel1</th>\n",
              "      <th>pixel2</th>\n",
              "      <th>pixel3</th>\n",
              "      <th>pixel4</th>\n",
              "      <th>pixel5</th>\n",
              "      <th>pixel6</th>\n",
              "      <th>pixel7</th>\n",
              "      <th>pixel8</th>\n",
              "      <th>pixel9</th>\n",
              "      <th>pixel10</th>\n",
              "      <th>...</th>\n",
              "      <th>pixel775</th>\n",
              "      <th>pixel776</th>\n",
              "      <th>pixel777</th>\n",
              "      <th>pixel778</th>\n",
              "      <th>pixel779</th>\n",
              "      <th>pixel780</th>\n",
              "      <th>pixel781</th>\n",
              "      <th>pixel782</th>\n",
              "      <th>pixel783</th>\n",
              "      <th>pixel784</th>\n",
              "    </tr>\n",
              "  </thead>\n",
              "  <tbody>\n",
              "    <tr>\n",
              "      <th>0</th>\n",
              "      <td>0.0</td>\n",
              "      <td>0.0</td>\n",
              "      <td>0.0</td>\n",
              "      <td>0.0</td>\n",
              "      <td>0.0</td>\n",
              "      <td>0.0</td>\n",
              "      <td>0.0</td>\n",
              "      <td>0.0</td>\n",
              "      <td>0.0</td>\n",
              "      <td>0.0</td>\n",
              "      <td>...</td>\n",
              "      <td>0.0</td>\n",
              "      <td>0.0</td>\n",
              "      <td>0.0</td>\n",
              "      <td>0.0</td>\n",
              "      <td>0.0</td>\n",
              "      <td>0.0</td>\n",
              "      <td>0.0</td>\n",
              "      <td>0.0</td>\n",
              "      <td>0.0</td>\n",
              "      <td>0.0</td>\n",
              "    </tr>\n",
              "    <tr>\n",
              "      <th>1</th>\n",
              "      <td>0.0</td>\n",
              "      <td>0.0</td>\n",
              "      <td>0.0</td>\n",
              "      <td>0.0</td>\n",
              "      <td>0.0</td>\n",
              "      <td>0.0</td>\n",
              "      <td>0.0</td>\n",
              "      <td>0.0</td>\n",
              "      <td>0.0</td>\n",
              "      <td>0.0</td>\n",
              "      <td>...</td>\n",
              "      <td>0.0</td>\n",
              "      <td>0.0</td>\n",
              "      <td>0.0</td>\n",
              "      <td>0.0</td>\n",
              "      <td>0.0</td>\n",
              "      <td>0.0</td>\n",
              "      <td>0.0</td>\n",
              "      <td>0.0</td>\n",
              "      <td>0.0</td>\n",
              "      <td>0.0</td>\n",
              "    </tr>\n",
              "  </tbody>\n",
              "</table>\n",
              "<p>2 rows × 784 columns</p>\n",
              "</div>"
            ],
            "text/plain": [
              "   pixel1  pixel2  pixel3  pixel4  pixel5  pixel6  pixel7  pixel8  pixel9  \\\n",
              "0     0.0     0.0     0.0     0.0     0.0     0.0     0.0     0.0     0.0   \n",
              "1     0.0     0.0     0.0     0.0     0.0     0.0     0.0     0.0     0.0   \n",
              "\n",
              "   pixel10  ...  pixel775  pixel776  pixel777  pixel778  pixel779  pixel780  \\\n",
              "0      0.0  ...       0.0       0.0       0.0       0.0       0.0       0.0   \n",
              "1      0.0  ...       0.0       0.0       0.0       0.0       0.0       0.0   \n",
              "\n",
              "   pixel781  pixel782  pixel783  pixel784  \n",
              "0       0.0       0.0       0.0       0.0  \n",
              "1       0.0       0.0       0.0       0.0  \n",
              "\n",
              "[2 rows x 784 columns]"
            ]
          },
          "execution_count": 4,
          "metadata": {},
          "output_type": "execute_result"
        }
      ],
      "source": [
        "mnist.data.head(2)"
      ]
    },
    {
      "cell_type": "markdown",
      "metadata": {
        "id": "7fi6z4q33sGH"
      },
      "source": [
        "'Target' nos indica la categoria a la cual pertenece cada una de las codificaciones de pixeles."
      ]
    },
    {
      "cell_type": "code",
      "execution_count": null,
      "metadata": {
        "id": "jfdG5k-T3sGH",
        "outputId": "233e594a-91e3-4827-b172-225aed8f3cab"
      },
      "outputs": [
        {
          "data": {
            "text/plain": [
              "0    5\n",
              "1    0\n",
              "Name: class, dtype: category\n",
              "Categories (10, object): ['0', '1', '2', '3', ..., '6', '7', '8', '9']"
            ]
          },
          "execution_count": 5,
          "metadata": {},
          "output_type": "execute_result"
        }
      ],
      "source": [
        "mnist.target.head(2)"
      ]
    },
    {
      "cell_type": "markdown",
      "metadata": {
        "id": "fIDqrlMk3sGI"
      },
      "source": [
        "- 'frame' es la consolidación de la 'data' y el 'target'\n",
        "- 'categories' nos indican las categorías con las cuales cuenta este conjunto de datos, del 0 al 9\n",
        "- 'DESCR' nos da una descripción de losdatos, como el autor, el link donde se encuentran entre una descripcón de lo que cuenta el conjunto de datos\n",
        "- 'details', es undicccionario con la información resumida de DESCR"
      ]
    },
    {
      "cell_type": "markdown",
      "metadata": {
        "id": "9zCtEZUT3sGI"
      },
      "source": [
        "Visualizaremos como se ve un ejemplo de estas imagenes, tengamos presentes que las imagines fueron procesadas o transformadas a escala de grises lo que significa que cada uno de los pixles que contiene la imagen representa una intensidad de luminicidad, con esto dicho al ejemplificar colores algo vistosos indicaria la representación de esta intensidad"
      ]
    },
    {
      "cell_type": "code",
      "execution_count": null,
      "metadata": {
        "id": "rkHMgb-s3sGI",
        "outputId": "7296a362-10cd-4985-9f47-8cb48e3d12e6"
      },
      "outputs": [
        {
          "data": {
            "text/plain": [
              "<matplotlib.image.AxesImage at 0x1fb842cd410>"
            ]
          },
          "execution_count": 6,
          "metadata": {},
          "output_type": "execute_result"
        },
        {
          "data": {
            "image/png": "[encoded data removed]",
            "text/plain": [
              "<Figure size 640x480 with 1 Axes>"
            ]
          },
          "metadata": {},
          "output_type": "display_data"
        }
      ],
      "source": [
        "plt.imshow(np.reshape(mnist.data.loc[0], (28, 28)))"
      ]
    },
    {
      "cell_type": "markdown",
      "metadata": {
        "id": "hL3CVHCE3sGI"
      },
      "source": [
        "### Entendimiento de datos y limpieza"
      ]
    },
    {
      "cell_type": "markdown",
      "metadata": {
        "id": "NaH1D2TJ3sGI"
      },
      "source": [
        "Comprender los datos es una parte importante del análisis y la comparación de proyectos e implica un estudio y análisis en profundidad de los datos existentes para comprender su naturaleza y calidad. Esto incluye identificar tendencias, patrones y relaciones entre variables, así como identificar y corregir información faltante o incorrecta. El objetivo es observar cuidadosamente los datos en los que se basan las decisiones, crear modelos precisos e identificar posibilidades, garantizando un análisis sólido y resultados confiables.\n",
        "\n",
        "Dado que la base de datos con la cual estamos trabajando es una data construida, ella tiene una muy buena calidad en los datos. Aún así presentaremos algo de entendimeinto y de ser el caso algo de limpieza."
      ]
    },
    {
      "cell_type": "markdown",
      "metadata": {
        "id": "yACUW28G3sGI"
      },
      "source": [
        "Presentamos las dimensiones de cada uno de los conntos de entrenamiento y testeo, de igual forma presentamos una observación pero presentandola en escala de grises para observar de manera correcta"
      ]
    },
    {
      "cell_type": "code",
      "execution_count": null,
      "metadata": {
        "id": "zGqiLemH3sGI",
        "outputId": "71ed0b9e-1dcd-47fe-8fcf-599037ddba4a"
      },
      "outputs": [
        {
          "data": {
            "text/plain": [
              "<matplotlib.image.AxesImage at 0x1fb056dadd0>"
            ]
          },
          "execution_count": 7,
          "metadata": {},
          "output_type": "execute_result"
        },
        {
          "data": {
            "image/png": "[encoded data removed]",
            "text/plain": [
              "<Figure size 640x480 with 1 Axes>"
            ]
          },
          "metadata": {},
          "output_type": "display_data"
        }
      ],
      "source": [
        "plt.imshow(np.reshape(mnist.data.loc[0], (28, 28)),cmap='gray')"
      ]
    },
    {
      "cell_type": "code",
      "execution_count": null,
      "metadata": {
        "id": "PoHcJbkF3sGI",
        "outputId": "428b7aa7-207e-4991-bf94-e1326ddfe27b"
      },
      "outputs": [
        {
          "name": "stdout",
          "output_type": "stream",
          "text": [
            "Dimensiones del conjunto de datos: (70000, 784)\n"
          ]
        },
        {
          "data": {
            "image/png": "[encoded data removed]",
            "text/plain": [
              "<Figure size 640x480 with 1 Axes>"
            ]
          },
          "metadata": {},
          "output_type": "display_data"
        }
      ],
      "source": [
        "# Dimensiones de los conjuntos de entrenamiento y prueba\n",
        "print(\"Dimensiones del conjunto de datos:\", mnist.data.shape)\n",
        "\n",
        "# Visualizar una imagen de ejemplo\n",
        "plt.imshow(np.reshape(mnist.data.loc[1], (28, 28)),cmap='gray')\n",
        "plt.title(f\"Etiqueta: {mnist.target.loc[0]}\")\n",
        "plt.show()"
      ]
    },
    {
      "cell_type": "markdown",
      "metadata": {
        "id": "wj4ywDpp3sGI"
      },
      "source": [
        "Presentaremos un ejemplo de cada imagen pero para cada una de las categorias"
      ]
    },
    {
      "cell_type": "code",
      "execution_count": null,
      "metadata": {
        "id": "72_jnUsl3sGI"
      },
      "outputs": [],
      "source": [
        "target = mnist.target.to_frame()\n",
        "data = mnist.data"
      ]
    },
    {
      "cell_type": "code",
      "execution_count": null,
      "metadata": {
        "id": "nFaBUQVL3sGI",
        "outputId": "b934f2f5-bd86-4a25-cb53-80f343daae86"
      },
      "outputs": [
        {
          "data": {
            "image/png": "[encoded data removed]",
            "text/plain": [
              "<Figure size 1000x700 with 10 Axes>"
            ]
          },
          "metadata": {},
          "output_type": "display_data"
        }
      ],
      "source": [
        "# crear subplots por número\n",
        "fig, ax = plt.subplots(2,5, figsize=(10,7))\n",
        "for i, ax in enumerate(ax.flatten()):\n",
        "    img_idx: int = target[target['class'] == str(i)].index[0]\n",
        "    # tomar cada imagen y reescalar 28X28\n",
        "    img: np.ndarray = np.reshape(data.loc[img_idx], (28, 28))\n",
        "    ax.imshow(img, cmap=\"gray_r\") #plotear en escala de grises\n",
        "    ax.set_title(f\"Label: {i}\") #agregar etiqueta\n",
        "    ax.grid(False)\n",
        "fig.suptitle(\"Registros con sus respectivas etiquetas\")\n",
        "plt.show()"
      ]
    },
    {
      "cell_type": "markdown",
      "metadata": {
        "id": "I10HwDiN3sGJ"
      },
      "source": [
        "Veremos el número de clases con las cuales cuenta el conjunto de datos, las clases en este caso las consideramos del número 0 al 9. También queremos ver la cantidad de ejemplos que cada una de las clases cuenta, esto es importante dado que necesitamos identificar si hay una clase con una cantidad mayor de ejemplos que las demás clases.\n",
        "Presentamos la media de pixeles y la desviación de pixeles entre fotografías."
      ]
    },
    {
      "cell_type": "code",
      "execution_count": null,
      "metadata": {
        "id": "2lno1DvM3sGJ",
        "outputId": "28be7140-4588-4149-afc4-0b5d95a763b5"
      },
      "outputs": [
        {
          "name": "stdout",
          "output_type": "stream",
          "text": [
            "Número de clases: 10\n",
            "Distribución de clases: {'0': 6903, '1': 7877, '2': 6990, '3': 7141, '4': 6824, '5': 6313, '6': 6876, '7': 7293, '8': 6825, '9': 6958}\n",
            "Media de píxeles: 33.385964741253645\n",
            "Promedio desviación estándar de píxeles: 49.255352298398286\n"
          ]
        }
      ],
      "source": [
        "# Número de clases (dígitos)\n",
        "num_classes = len(np.unique(target))\n",
        "print(\"Número de clases:\", num_classes)\n",
        "\n",
        "# Distribución de clases\n",
        "unique, counts = np.unique(target, return_counts=True)\n",
        "class_distribution = dict(zip(unique, counts))\n",
        "print(\"Distribución de clases:\", class_distribution)\n",
        "\n",
        "# Estadísticas descriptivas de píxeles\n",
        "pixel_mean = np.mean(data)\n",
        "pixel_std = np.std(data)\n",
        "print(\"Media de píxeles:\", pixel_mean)\n",
        "print(\"Promedio desviación estándar de píxeles:\", np.mean(pixel_std))"
      ]
    },
    {
      "cell_type": "markdown",
      "metadata": {
        "id": "D38OsS4N3sGJ"
      },
      "source": [
        "**Independencia**:\n",
        "Uno de los supuestos que tiene el modelo de Naive bayes, el cual es el que se abarcara en este Notebook, es la idependencia entre variables. Con esto visualizaremos las variables que tengan un umbral de correlación inferior a 0,1 o -0.1 puesto que esto  sugiere que las variables son en su mayoría independientes unas de otras"
      ]
    },
    {
      "cell_type": "markdown",
      "metadata": {
        "id": "fGwJrGJJ3sGJ"
      },
      "source": [
        "Para no entrar en tecnicismos con pruebas de hipótesis, análisis de regresión, residuos, entre otros. tenemos que si la mayoría de los valores de correlación en la matriz están cerca de cero o son muy pequeños (-0.1 y 0.1), esto sugiere que las variables son en su mayoría independientes unas de otras. Esto puede ser un acercamiento algo poco robusto dado que no garantiza independencia absoluta, pero puede ser un buen acercamiento a este análisis"
      ]
    },
    {
      "cell_type": "code",
      "execution_count": null,
      "metadata": {
        "id": "1lAZze_n3sGP",
        "outputId": "6bdcbff1-8c54-45f8-8018-04840182a188"
      },
      "outputs": [
        {
          "name": "stdout",
          "output_type": "stream",
          "text": [
            "La proporción de correlaciones en el rango (-0.1, 0.1) es: 0.7150145772594753\n",
            "La proporción no es baja, lo que sugiere cierta dependencia entre variables.\n"
          ]
        }
      ],
      "source": [
        "# Calcular la matriz de correlación\n",
        "matriz_correlacion = data.corr()\n",
        "# Definir el rango de correlación\n",
        "limite_inferior = -0.1\n",
        "limite_superior = 0.1\n",
        "# Contar las correlaciones en el rango definido\n",
        "correlaciones_en_rango = ((matriz_correlacion >= limite_inferior) & (matriz_correlacion <= limite_superior)).sum().sum()\n",
        "# Calcular la proporción de correlaciones en el rango\n",
        "total_correlaciones = matriz_correlacion.size\n",
        "proporcion_correlaciones_en_rango = correlaciones_en_rango / total_correlaciones\n",
        "# Imprimir la proporción y evaluar si es baja o alta\n",
        "print(f\"La proporción de correlaciones en el rango ({limite_inferior}, {limite_superior}) es: {proporcion_correlaciones_en_rango}\")\n",
        "if proporcion_correlaciones_en_rango < 0.5:\n",
        "    print(\"La proporción es baja, lo que sugiere independencia relativa entre variables.\")\n",
        "else:\n",
        "    print(\"La proporción no es baja, lo que sugiere cierta dependencia entre variables.\")"
      ]
    },
    {
      "cell_type": "markdown",
      "metadata": {
        "id": "KfZtNqAD3sGQ"
      },
      "source": [
        "También podemos utilizar un método que utilizamos para verificar fácilmente dependencia o multicolinealidad. Este nos dice que si el determinante de una matriz de correlación es igual a cero, esto puede indicar que existe una dependencia lineal significativa entre al menos algunas de las variables en tus datos.\n",
        "Antes de proceder con con este validación es correcto eliminar las columnas que tienen una varianza igual a cero antes de calcular el determinante de la matriz de correlación. Una variable constante no tiene variabilidad y no contribuye a las relaciones de correlación con otras variables. Por lo tanto, eliminar estas columnas no afectará negativamente la calidad de la matriz de correlación y puede ayudarte a evitar problemas numéricos, como la singularidad (propiedad matemática de una matriz en la que no es posible calcular su inversa)."
      ]
    },
    {
      "cell_type": "code",
      "execution_count": null,
      "metadata": {
        "id": "kLVybPfQ3sGQ",
        "outputId": "df609b76-3221-45ae-ad35-49476bf9c45d"
      },
      "outputs": [
        {
          "name": "stdout",
          "output_type": "stream",
          "text": [
            "El determinante es aproximadamente cero, lo que indica multicolinealidad.\n"
          ]
        }
      ],
      "source": [
        "# Calcular el determinante de la matriz de correlación\n",
        "warnings.filterwarnings(\"ignore\")\n",
        "df_sin_varianza_cero = data.loc[:, data.var() != 0]\n",
        "matriz_correlacion = df_sin_varianza_cero.corr()\n",
        "determinante = np.linalg.det(matriz_correlacion.to_numpy())\n",
        "# Verificar si el determinante es igual a cero (indicación de multicolinealidad)\n",
        "if abs(determinante) < 0.1:\n",
        "    print(\"El determinante es aproximadamente cero, lo que indica multicolinealidad.\")\n",
        "else:\n",
        "    print(\"El determinante no es igual a cero, lo que sugiere que no hay multicolinealidad significativa.\")"
      ]
    },
    {
      "cell_type": "markdown",
      "metadata": {
        "id": "osZ1rNET3sGQ"
      },
      "source": [
        "Componentes principales es una técnica de análisis multivariado que permite reducir la dimensionalidad de los datos y encontrar componentes que son linealmente independientes. Con esto dicho sobre esta metodología podemos proceder con ella para garantizar el supuesto más grande que tiene el Naive bayes"
      ]
    },
    {
      "cell_type": "markdown",
      "metadata": {
        "id": "Jkt1Es353sGQ"
      },
      "source": [
        "**Balanceo** : Debido a que influye en el rendimiento de los modelos de aprendizaje automático, la validación de la clasificación de datos es crucial en los problemas de clasificación. Estos algoritmos frecuentemente experimentan un desequilibrio grupal, lo que causa sesgos y dificulta la predicción de subgrupos grandes. Además, evita la exageración y garantiza una interpretación precisa y confiable de los resultados, lo cual es crucial para encontrar un modelo que sea estable en circunstancias prácticas y para tomar decisiones precisas y confiables basadas en los datos."
      ]
    },
    {
      "cell_type": "code",
      "execution_count": null,
      "metadata": {
        "id": "yq1cFe1l3sGQ",
        "outputId": "548a8b53-43ef-444a-8980-17d95cf23568"
      },
      "outputs": [
        {
          "data": {
            "image/png": "[encoded data removed]",
            "text/plain": [
              "<Figure size 640x480 with 1 Axes>"
            ]
          },
          "metadata": {},
          "output_type": "display_data"
        }
      ],
      "source": [
        "# Calcular la distribución de clases en porcentajes\n",
        "distribucion_porcentual = target['class'].value_counts(normalize=True) * 100\n",
        "# Crear un gráfico de barras con porcentajes\n",
        "plt.bar(distribucion_porcentual.index, distribucion_porcentual.values, color='skyblue')\n",
        "plt.xlabel('Clases')\n",
        "plt.ylabel('Porcentaje')\n",
        "plt.title('Distribución de porcentual de clases')\n",
        "# Establecer el límite del eje y de 0 a 100 para representar porcentajes\n",
        "plt.ylim(0, 100)\n",
        "\n",
        "# Ajustar el límite superior del eje y para mostrar más allá del 15%\n",
        "plt.ylim(0, max(distribucion_porcentual.values) + 1)  # Ajustar límite superior\n",
        "\n",
        "plt.xticks(rotation=0)  # Evitar rotación de etiquetas en el eje x\n",
        "plt.grid(axis='y', linestyle='--', alpha=0.7)  # Agregar líneas de referencia horizontal\n",
        "plt.gca().yaxis.set_major_formatter('{:.1f}%'.format)  # Formato de porcentaje en el eje y\n",
        "plt.tight_layout()  # Ajustar el diseño del gráfico\n",
        "plt.show()"
      ]
    },
    {
      "cell_type": "markdown",
      "metadata": {
        "id": "XlPD7E3m3sGQ"
      },
      "source": [
        "Para este momento evidenciamos que el desbalanceo visualmente no es relevante, para cuantificar esta hipótesis deberíamos proceder con alguna metodología que nos ayude a decir si esa diferencia es significativa. Dado que en este momento no estamos enfocados en esto, procederemos con un balanceo de datos con la posibilidad de que lectores tengan una herramienta de como proceder dado que esta diferencia si sea significativa.\n",
        "\n",
        "De igual forma cuantificamos la mayor diferencias que existe en estas categorías:"
      ]
    },
    {
      "cell_type": "code",
      "execution_count": null,
      "metadata": {
        "id": "czwidAx03sGR",
        "outputId": "69d86372-4d1b-4460-aece-c82c632054b8"
      },
      "outputs": [
        {
          "name": "stdout",
          "output_type": "stream",
          "text": [
            "Categoría más frecuente: 1\n",
            "Categoría menos frecuente: 5\n",
            "Diferencia en términos de frecuencia: 1564\n",
            "Diferencia en términos de porcentaje: 2.23%\n"
          ]
        }
      ],
      "source": [
        "# Calcular la distribución de clases en términos de frecuencia\n",
        "distribucion_frecuencia = target['class'].value_counts()\n",
        "# Obtener la categoría que tiene más observaciones\n",
        "categoria_mas_frecuente = distribucion_frecuencia.idxmax()\n",
        "# Obtener la categoría que tiene menos observaciones\n",
        "categoria_menos_frecuente = distribucion_frecuencia.idxmin()\n",
        "# Calcular la diferencia en términos de frecuencia\n",
        "diferencia_frecuencia = distribucion_frecuencia[categoria_mas_frecuente] - distribucion_frecuencia[categoria_menos_frecuente]\n",
        "# Calcular la diferencia en términos de porcentaje\n",
        "total_muestras = len(target)\n",
        "porcentaje_mas_frecuente = (distribucion_frecuencia[categoria_mas_frecuente] / total_muestras) * 100\n",
        "porcentaje_menos_frecuente = (distribucion_frecuencia[categoria_menos_frecuente] / total_muestras) * 100\n",
        "diferencia_porcentaje = porcentaje_mas_frecuente - porcentaje_menos_frecuente\n",
        "\n",
        "print(f\"Categoría más frecuente: {categoria_mas_frecuente}\")\n",
        "print(f\"Categoría menos frecuente: {categoria_menos_frecuente}\")\n",
        "print(f\"Diferencia en términos de frecuencia: {diferencia_frecuencia}\")\n",
        "print(f\"Diferencia en términos de porcentaje: {diferencia_porcentaje:.2f}%\")\n"
      ]
    },
    {
      "cell_type": "markdown",
      "metadata": {
        "id": "9SYm_GXz3sGR"
      },
      "source": [
        "Una vez dicho esto, procederemos a un balanceo de datos:"
      ]
    },
    {
      "cell_type": "code",
      "execution_count": null,
      "metadata": {
        "id": "jWneahRt3sGR",
        "outputId": "0ddfaa95-a873-4224-e97d-03445e013465"
      },
      "outputs": [
        {
          "data": {
            "image/png": "[encoded data removed]",
            "text/plain": [
              "<Figure size 800x600 with 1 Axes>"
            ]
          },
          "metadata": {},
          "output_type": "display_data"
        }
      ],
      "source": [
        "mnist_consolidado = pd.concat([mnist.data, mnist.target], axis = 1)\n",
        "# Se selecciona la cantidad mínima entre las clases\n",
        "min_clase = mnist_consolidado['class'].value_counts().min()\n",
        "# Crea un DataFrame vacío para almacenar las muestras equilibradas\n",
        "df_balanceado_final = pd.DataFrame()\n",
        "# Realiza el muestreo estratificado para cada categoría\n",
        "for clase in mnist_consolidado['class'].unique():\n",
        "    clase_df = mnist_consolidado[mnist_consolidado['class'] == clase]\n",
        "    muestras_equilibradas = resample(clase_df, replace=True, n_samples=min_clase)\n",
        "    df_balanceado_final = pd.concat([df_balanceado_final, muestras_equilibradas])\n",
        "df_balanceado_final.rename(columns={'class': 'target'}, inplace=True)\n",
        "# Verificar la distribución de clases después del balanceo y creación de gráfico\n",
        "plt.figure(figsize=(8, 6))\n",
        "df_balanceado_final['target'].value_counts().sort_index().plot(kind='bar', color='skyblue')\n",
        "plt.xticks(rotation=0)  # Evitar rotación de etiquetas en el eje x\n",
        "plt.grid(axis='y', linestyle='--', alpha=0.7)  # Agregar líneas de referencia horizontal\n",
        "plt.xlabel('Categorías')\n",
        "plt.ylabel('Cantidad de Registros')\n",
        "plt.title('Distribución de Categorías Balanceadas (Orden Ascendente)')\n",
        "plt.show()"
      ]
    },
    {
      "cell_type": "markdown",
      "metadata": {
        "id": "dOjuB6GD3sGR"
      },
      "source": [
        "### Modelación"
      ]
    },
    {
      "cell_type": "markdown",
      "metadata": {
        "id": "x2kwcYqB3sGR"
      },
      "source": [
        "Como primer paso debemos separar los datos en 2 grupos, los datos de entrenamiento del modelo y los datos de testeo. Para evaluar el rendimiento de un modelo de manera imparcial, dividimos la base de datos en estos dos grupos antes mencionados. Los datos de entrenamiento se utilizan para crear y ajustar el modelo, y los datos de prueba solo se utilizan para evaluar el rendimiento del modelo en datos que no se han visto previamente. Esto ayuda a evaluar la generalización del modelo y evitar el sobreajuste, asegurando que sea aplicable en escenarios del mundo real."
      ]
    },
    {
      "cell_type": "code",
      "execution_count": null,
      "metadata": {
        "id": "pNlgPnJ73sGR",
        "outputId": "a2110226-c302-43bf-be86-b258c2d6dd95"
      },
      "outputs": [
        {
          "name": "stdout",
          "output_type": "stream",
          "text": [
            "Tamaño del conjunto de entrenamiento: 44191\n",
            "Tamaño del conjunto de prueba: 18939\n"
          ]
        }
      ],
      "source": [
        "# Especificar las características (X) y la variable objetivo (y)\n",
        "X = df_balanceado_final.drop('target', axis=1)\n",
        "y = df_balanceado_final['target']\n",
        "# Dividir los datos en entrenamiento (70%) y prueba (30%)\n",
        "X_train, X_test, y_train, y_test = train_test_split(X, y, test_size=0.3)\n",
        "# Verificar el tamaño de los conjuntos de entrenamiento y prueba\n",
        "print(\"Tamaño del conjunto de entrenamiento:\", len(X_train))\n",
        "print(\"Tamaño del conjunto de prueba:\", len(X_test))"
      ]
    },
    {
      "cell_type": "code",
      "execution_count": null,
      "metadata": {
        "id": "mcCnakBS3sGS"
      },
      "outputs": [],
      "source": [
        "X_train.reset_index(drop=True, inplace=True)\n",
        "X_test.reset_index(drop=True, inplace=True)\n",
        "y_train.reset_index(drop=True, inplace=True)\n",
        "y_test.reset_index(drop=True, inplace=True)"
      ]
    },
    {
      "cell_type": "markdown",
      "metadata": {
        "id": "JVqPA_NR3sGS"
      },
      "source": [
        "Dado que en pasos anteriores nos percatamos de una dependencia entre las variables originales, se utiliza Análisis de Componentes Principales para establecer nuevas variables independientes. Esto es significativo porque la presunción principal de Naive Bayes es que los diferentes modelos predictivos son independientes entre sí. El objetivo original de Naive Bayes se puede lograr mejor y la interdependencia entre variables se puede reducir convirtiendo las variables originales en grandes componentes no correlacionados. Esto mejorará el ajuste del modelo y su capacidad para realizar predicciones precisas."
      ]
    },
    {
      "cell_type": "code",
      "execution_count": null,
      "metadata": {
        "id": "6wDoGNPm3sGS",
        "outputId": "29a9d4de-eba8-4e61-d4a8-f6c463c5a466"
      },
      "outputs": [
        {
          "name": "stdout",
          "output_type": "stream",
          "text": [
            "Número de componentes principales seleccionadas: 154\n"
          ]
        }
      ],
      "source": [
        "# Inicializar el objeto PCA con la cantidad de varianza explicada deseada (0.95)\n",
        "pca = PCA(n_components=0.95)\n",
        "# Aplicar PCA a los datos de entrenamiento\n",
        "X_train_pca = pca.fit_transform(X_train)\n",
        "# Aplicar la misma transformación PCA a los datos de prueba\n",
        "X_test_pca = pca.transform(X_test)\n",
        "# Crear nuevos DataFrames con las componentes principales para entrenamiento y prueba\n",
        "df_train_pca = pd.DataFrame(data=X_train_pca)\n",
        "df_test_pca = pd.DataFrame(data=X_test_pca)\n",
        "# Verificar la cantidad de componentes principales seleccionadas\n",
        "n_componentes = pca.n_components_\n",
        "print(f\"Número de componentes principales seleccionadas: {n_componentes}\")"
      ]
    },
    {
      "cell_type": "markdown",
      "metadata": {
        "id": "WZ8MbUUX3sGS"
      },
      "source": [
        "De acuerdo con las características de las variables originales consideradas diferentes y similares, los componentes principales producidos por la metodología multivaraiada de componentes principales representan una reducción en el número de datos originales, haciendo pertinente en esta situación el estudio de los modelos Naive Bayes Gaussianos. Debido a que los componentes producidos por PCA debido a su supuesto son aproximadamente gaussianas, esto debido al teorema del límite central, sabemos que no se cumple con este supuesto estrictamente por lo cual en este caso lo asumiremos verdadero. Además, dado que los componentes principales en esta situación representan una representación continua de los datos, también se ignoran las otras versiones del modelo que están para datos discretos, como polinomios y Bernoulli. Entonces, al hacer predicciones probabilísticas en un entorno con variables continuas, el Gaussian Naive Bayes se convierte en una opción lógica."
      ]
    },
    {
      "cell_type": "code",
      "execution_count": null,
      "metadata": {
        "id": "zdZyXdJT3sGS",
        "outputId": "5eb55fa9-b626-4b1c-f0a1-b2fbc069a035"
      },
      "outputs": [
        {
          "data": {
            "text/html": [
              "<style>#sk-container-id-1 {color: black;}#sk-container-id-1 pre{padding: 0;}#sk-container-id-1 div.sk-toggleable {background-color: white;}#sk-container-id-1 label.sk-toggleable__label {cursor: pointer;display: block;width: 100%;margin-bottom: 0;padding: 0.3em;box-sizing: border-box;text-align: center;}#sk-container-id-1 label.sk-toggleable__label-arrow:before {content: \"▸\";float: left;margin-right: 0.25em;color: #696969;}#sk-container-id-1 label.sk-toggleable__label-arrow:hover:before {color: black;}#sk-container-id-1 div.sk-estimator:hover label.sk-toggleable__label-arrow:before {color: black;}#sk-container-id-1 div.sk-toggleable__content {max-height: 0;max-width: 0;overflow: hidden;text-align: left;background-color: #f0f8ff;}#sk-container-id-1 div.sk-toggleable__content pre {margin: 0.2em;color: black;border-radius: 0.25em;background-color: #f0f8ff;}#sk-container-id-1 input.sk-toggleable__control:checked~div.sk-toggleable__content {max-height: 200px;max-width: 100%;overflow: auto;}#sk-container-id-1 input.sk-toggleable__control:checked~label.sk-toggleable__label-arrow:before {content: \"▾\";}#sk-container-id-1 div.sk-estimator input.sk-toggleable__control:checked~label.sk-toggleable__label {background-color: #d4ebff;}#sk-container-id-1 div.sk-label input.sk-toggleable__control:checked~label.sk-toggleable__label {background-color: #d4ebff;}#sk-container-id-1 input.sk-hidden--visually {border: 0;clip: rect(1px 1px 1px 1px);clip: rect(1px, 1px, 1px, 1px);height: 1px;margin: -1px;overflow: hidden;padding: 0;position: absolute;width: 1px;}#sk-container-id-1 div.sk-estimator {font-family: monospace;background-color: #f0f8ff;border: 1px dotted black;border-radius: 0.25em;box-sizing: border-box;margin-bottom: 0.5em;}#sk-container-id-1 div.sk-estimator:hover {background-color: #d4ebff;}#sk-container-id-1 div.sk-parallel-item::after {content: \"\";width: 100%;border-bottom: 1px solid gray;flex-grow: 1;}#sk-container-id-1 div.sk-label:hover label.sk-toggleable__label {background-color: #d4ebff;}#sk-container-id-1 div.sk-serial::before {content: \"\";position: absolute;border-left: 1px solid gray;box-sizing: border-box;top: 0;bottom: 0;left: 50%;z-index: 0;}#sk-container-id-1 div.sk-serial {display: flex;flex-direction: column;align-items: center;background-color: white;padding-right: 0.2em;padding-left: 0.2em;position: relative;}#sk-container-id-1 div.sk-item {position: relative;z-index: 1;}#sk-container-id-1 div.sk-parallel {display: flex;align-items: stretch;justify-content: center;background-color: white;position: relative;}#sk-container-id-1 div.sk-item::before, #sk-container-id-1 div.sk-parallel-item::before {content: \"\";position: absolute;border-left: 1px solid gray;box-sizing: border-box;top: 0;bottom: 0;left: 50%;z-index: -1;}#sk-container-id-1 div.sk-parallel-item {display: flex;flex-direction: column;z-index: 1;position: relative;background-color: white;}#sk-container-id-1 div.sk-parallel-item:first-child::after {align-self: flex-end;width: 50%;}#sk-container-id-1 div.sk-parallel-item:last-child::after {align-self: flex-start;width: 50%;}#sk-container-id-1 div.sk-parallel-item:only-child::after {width: 0;}#sk-container-id-1 div.sk-dashed-wrapped {border: 1px dashed gray;margin: 0 0.4em 0.5em 0.4em;box-sizing: border-box;padding-bottom: 0.4em;background-color: white;}#sk-container-id-1 div.sk-label label {font-family: monospace;font-weight: bold;display: inline-block;line-height: 1.2em;}#sk-container-id-1 div.sk-label-container {text-align: center;}#sk-container-id-1 div.sk-container {/* jupyter's `normalize.less` sets `[hidden] { display: none; }` but bootstrap.min.css set `[hidden] { display: none !important; }` so we also need the `!important` here to be able to override the default hidden behavior on the sphinx rendered scikit-learn.org. See: https://github.com/scikit-learn/scikit-learn/issues/21755 */display: inline-block !important;position: relative;}#sk-container-id-1 div.sk-text-repr-fallback {display: none;}</style><div id=\"sk-container-id-1\" class=\"sk-top-container\"><div class=\"sk-text-repr-fallback\"><pre>GaussianNB()</pre><b>In a Jupyter environment, please rerun this cell to show the HTML representation or trust the notebook. <br />On GitHub, the HTML representation is unable to render, please try loading this page with nbviewer.org.</b></div><div class=\"sk-container\" hidden><div class=\"sk-item\"><div class=\"sk-estimator sk-toggleable\"><input class=\"sk-toggleable__control sk-hidden--visually\" id=\"sk-estimator-id-1\" type=\"checkbox\" checked><label for=\"sk-estimator-id-1\" class=\"sk-toggleable__label sk-toggleable__label-arrow\">GaussianNB</label><div class=\"sk-toggleable__content\"><pre>GaussianNB()</pre></div></div></div></div></div>"
            ],
            "text/plain": [
              "GaussianNB()"
            ]
          },
          "execution_count": 20,
          "metadata": {},
          "output_type": "execute_result"
        }
      ],
      "source": [
        "model = GaussianNB()\n",
        "model.fit(X_train_pca, y_train)"
      ]
    },
    {
      "cell_type": "code",
      "execution_count": null,
      "metadata": {
        "id": "scaQTE6y3sGS",
        "outputId": "32650e91-a33e-4462-80b1-2d0af594709c"
      },
      "outputs": [
        {
          "data": {
            "text/plain": [
              "array(['2', '3', '9', ..., '9', '9', '6'], dtype='<U1')"
            ]
          },
          "execution_count": 21,
          "metadata": {},
          "output_type": "execute_result"
        }
      ],
      "source": [
        "pred_y = model.predict(X_test_pca)\n",
        "pred_y"
      ]
    },
    {
      "cell_type": "markdown",
      "metadata": {
        "id": "akLaIgL-3sGS"
      },
      "source": [
        "### Evaluación del modelo, buscando optimizar parametros"
      ]
    },
    {
      "cell_type": "markdown",
      "metadata": {
        "id": "pttfeZNE3sGS"
      },
      "source": [
        "Se pretende evaluar el rendimiento del modelo seleccionado en los supuestos, dado que en este escenario se tiene únicamente un modelo disponible para su evaluación. Por lo tanto, se postula otra versión modelo con el objetivo de analizar su capacidad predictiva y su eficacia en la tarea específica."
      ]
    },
    {
      "cell_type": "markdown",
      "metadata": {
        "id": "hNFy4pG43sGT"
      },
      "source": [
        "Para este caso tomaremos los datos que no cuentan con el procesamiento de componentes principales para contar con las variables discretas y no continuas, esto dado que el método que se presentará es la versión multinomial del naive bayes. Con esto dicho crearemos neuvamente los conjuntos de datos para entrenamiento y testeo pero con la data bruta pero balanceada."
      ]
    },
    {
      "cell_type": "code",
      "execution_count": null,
      "metadata": {
        "id": "bJTJ5KAY3sGT"
      },
      "outputs": [],
      "source": [
        "X_train_2, X_test_2, y_train_2, y_test_2 = train_test_split(X, y, test_size=0.3, random_state=42)"
      ]
    },
    {
      "cell_type": "markdown",
      "metadata": {
        "id": "QKtMr9p33sGT"
      },
      "source": [
        "Generamos el modelo:"
      ]
    },
    {
      "cell_type": "code",
      "execution_count": null,
      "metadata": {
        "id": "0NR3egho3sGT",
        "outputId": "2a2382d0-1ea7-45fe-efee-5b6bc6da24a4"
      },
      "outputs": [
        {
          "data": {
            "text/html": [
              "<style>#sk-container-id-2 {color: black;}#sk-container-id-2 pre{padding: 0;}#sk-container-id-2 div.sk-toggleable {background-color: white;}#sk-container-id-2 label.sk-toggleable__label {cursor: pointer;display: block;width: 100%;margin-bottom: 0;padding: 0.3em;box-sizing: border-box;text-align: center;}#sk-container-id-2 label.sk-toggleable__label-arrow:before {content: \"▸\";float: left;margin-right: 0.25em;color: #696969;}#sk-container-id-2 label.sk-toggleable__label-arrow:hover:before {color: black;}#sk-container-id-2 div.sk-estimator:hover label.sk-toggleable__label-arrow:before {color: black;}#sk-container-id-2 div.sk-toggleable__content {max-height: 0;max-width: 0;overflow: hidden;text-align: left;background-color: #f0f8ff;}#sk-container-id-2 div.sk-toggleable__content pre {margin: 0.2em;color: black;border-radius: 0.25em;background-color: #f0f8ff;}#sk-container-id-2 input.sk-toggleable__control:checked~div.sk-toggleable__content {max-height: 200px;max-width: 100%;overflow: auto;}#sk-container-id-2 input.sk-toggleable__control:checked~label.sk-toggleable__label-arrow:before {content: \"▾\";}#sk-container-id-2 div.sk-estimator input.sk-toggleable__control:checked~label.sk-toggleable__label {background-color: #d4ebff;}#sk-container-id-2 div.sk-label input.sk-toggleable__control:checked~label.sk-toggleable__label {background-color: #d4ebff;}#sk-container-id-2 input.sk-hidden--visually {border: 0;clip: rect(1px 1px 1px 1px);clip: rect(1px, 1px, 1px, 1px);height: 1px;margin: -1px;overflow: hidden;padding: 0;position: absolute;width: 1px;}#sk-container-id-2 div.sk-estimator {font-family: monospace;background-color: #f0f8ff;border: 1px dotted black;border-radius: 0.25em;box-sizing: border-box;margin-bottom: 0.5em;}#sk-container-id-2 div.sk-estimator:hover {background-color: #d4ebff;}#sk-container-id-2 div.sk-parallel-item::after {content: \"\";width: 100%;border-bottom: 1px solid gray;flex-grow: 1;}#sk-container-id-2 div.sk-label:hover label.sk-toggleable__label {background-color: #d4ebff;}#sk-container-id-2 div.sk-serial::before {content: \"\";position: absolute;border-left: 1px solid gray;box-sizing: border-box;top: 0;bottom: 0;left: 50%;z-index: 0;}#sk-container-id-2 div.sk-serial {display: flex;flex-direction: column;align-items: center;background-color: white;padding-right: 0.2em;padding-left: 0.2em;position: relative;}#sk-container-id-2 div.sk-item {position: relative;z-index: 1;}#sk-container-id-2 div.sk-parallel {display: flex;align-items: stretch;justify-content: center;background-color: white;position: relative;}#sk-container-id-2 div.sk-item::before, #sk-container-id-2 div.sk-parallel-item::before {content: \"\";position: absolute;border-left: 1px solid gray;box-sizing: border-box;top: 0;bottom: 0;left: 50%;z-index: -1;}#sk-container-id-2 div.sk-parallel-item {display: flex;flex-direction: column;z-index: 1;position: relative;background-color: white;}#sk-container-id-2 div.sk-parallel-item:first-child::after {align-self: flex-end;width: 50%;}#sk-container-id-2 div.sk-parallel-item:last-child::after {align-self: flex-start;width: 50%;}#sk-container-id-2 div.sk-parallel-item:only-child::after {width: 0;}#sk-container-id-2 div.sk-dashed-wrapped {border: 1px dashed gray;margin: 0 0.4em 0.5em 0.4em;box-sizing: border-box;padding-bottom: 0.4em;background-color: white;}#sk-container-id-2 div.sk-label label {font-family: monospace;font-weight: bold;display: inline-block;line-height: 1.2em;}#sk-container-id-2 div.sk-label-container {text-align: center;}#sk-container-id-2 div.sk-container {/* jupyter's `normalize.less` sets `[hidden] { display: none; }` but bootstrap.min.css set `[hidden] { display: none !important; }` so we also need the `!important` here to be able to override the default hidden behavior on the sphinx rendered scikit-learn.org. See: https://github.com/scikit-learn/scikit-learn/issues/21755 */display: inline-block !important;position: relative;}#sk-container-id-2 div.sk-text-repr-fallback {display: none;}</style><div id=\"sk-container-id-2\" class=\"sk-top-container\"><div class=\"sk-text-repr-fallback\"><pre>BernoulliNB()</pre><b>In a Jupyter environment, please rerun this cell to show the HTML representation or trust the notebook. <br />On GitHub, the HTML representation is unable to render, please try loading this page with nbviewer.org.</b></div><div class=\"sk-container\" hidden><div class=\"sk-item\"><div class=\"sk-estimator sk-toggleable\"><input class=\"sk-toggleable__control sk-hidden--visually\" id=\"sk-estimator-id-2\" type=\"checkbox\" checked><label for=\"sk-estimator-id-2\" class=\"sk-toggleable__label sk-toggleable__label-arrow\">BernoulliNB</label><div class=\"sk-toggleable__content\"><pre>BernoulliNB()</pre></div></div></div></div></div>"
            ],
            "text/plain": [
              "BernoulliNB()"
            ]
          },
          "execution_count": 23,
          "metadata": {},
          "output_type": "execute_result"
        }
      ],
      "source": [
        "model_2 = BernoulliNB()\n",
        "model_2.fit(X_train_2, y_train_2)"
      ]
    },
    {
      "cell_type": "code",
      "execution_count": null,
      "metadata": {
        "id": "drf50dx73sGT",
        "outputId": "46910222-ded6-4500-f7fd-80332043eead"
      },
      "outputs": [
        {
          "data": {
            "text/plain": [
              "array(['4', '5', '1', ..., '4', '4', '7'], dtype='<U1')"
            ]
          },
          "execution_count": 24,
          "metadata": {},
          "output_type": "execute_result"
        }
      ],
      "source": [
        "pred_y_2 = model_2.predict(X_test_2)\n",
        "pred_y_2"
      ]
    },
    {
      "cell_type": "markdown",
      "metadata": {
        "id": "Z6QlXNzf3sGT"
      },
      "source": [
        "**Evaluación:** Procedemos con la comparación de estos dos modelos, para una evaluación integral de la efectividad de los hablantes, incluida la precisión, el área bajo la curva ROC (AUC-ROC) y la puntuación F1. La precisión mide la proporción de predicciones precisas, AUC-ROC evalúa la capacidad de un modelo para distinguir entre clases, y F1-Score combina equidad y bondad para tener éxito en ambas clases. Menos falso y malicioso. Se seleccionan es estas métricas dado que ofrecen una visión integral del desempeño del modelo en todas las áreas."
      ]
    },
    {
      "cell_type": "code",
      "execution_count": null,
      "metadata": {
        "id": "EraReGLk3sGT",
        "outputId": "e15dcb94-de8f-4f6f-aa02-cc8bdbe5033c"
      },
      "outputs": [
        {
          "name": "stdout",
          "output_type": "stream",
          "text": [
            "Informe de Clasificación para Gaussian Naive Bayes:\n",
            "              precision    recall  f1-score   support\n",
            "\n",
            "           0       0.96      0.90      0.93      1955\n",
            "           1       0.97      0.92      0.94      1901\n",
            "           2       0.67      0.86      0.75      1898\n",
            "           3       0.81      0.82      0.82      1886\n",
            "           4       0.88      0.81      0.84      1910\n",
            "           5       0.80      0.83      0.82      1847\n",
            "           6       0.94      0.90      0.92      1914\n",
            "           7       0.93      0.83      0.88      1909\n",
            "           8       0.86      0.84      0.85      1855\n",
            "           9       0.80      0.82      0.81      1864\n",
            "\n",
            "    accuracy                           0.85     18939\n",
            "   macro avg       0.86      0.85      0.86     18939\n",
            "weighted avg       0.86      0.85      0.86     18939\n",
            "\n",
            "\n",
            "Informe de Clasificación para Multinomial Naive Bayes:\n",
            "              precision    recall  f1-score   support\n",
            "\n",
            "           0       0.90      0.90      0.90      1907\n",
            "           1       0.85      0.96      0.90      1816\n",
            "           2       0.87      0.82      0.85      1872\n",
            "           3       0.74      0.80      0.77      1950\n",
            "           4       0.83      0.80      0.81      1881\n",
            "           5       0.83      0.69      0.76      1905\n",
            "           6       0.88      0.90      0.89      1840\n",
            "           7       0.91      0.84      0.88      1918\n",
            "           8       0.78      0.78      0.78      1907\n",
            "           9       0.73      0.81      0.77      1943\n",
            "\n",
            "    accuracy                           0.83     18939\n",
            "   macro avg       0.83      0.83      0.83     18939\n",
            "weighted avg       0.83      0.83      0.83     18939\n",
            "\n"
          ]
        }
      ],
      "source": [
        "# Generar informes de clasificación para ambos modelos\n",
        "report_modelo1 = classification_report(y_test, pred_y)\n",
        "report_modelo2 = classification_report(y_test_2, pred_y_2)\n",
        "\n",
        "# Imprimir los informes de clasificación para ambos modelos\n",
        "print(\"Informe de Clasificación para Gaussian Naive Bayes:\")\n",
        "print(report_modelo1)\n",
        "print(\"\\nInforme de Clasificación para Multinomial Naive Bayes:\")\n",
        "print(report_modelo2)\n"
      ]
    },
    {
      "cell_type": "markdown",
      "metadata": {
        "id": "__tP38hQ3sGT"
      },
      "source": [
        "Se presentaron los reportes de cada uno de los modelos que estamos considerando, si quisiéramos que nos indicara cual es el mejor según alguna métrica procedemos con el siguiente código. Se genera una función donde se indicara respecto a cual variable generaremos la comparacion."
      ]
    },
    {
      "cell_type": "code",
      "execution_count": null,
      "metadata": {
        "id": "Dri3IN3H3sGT"
      },
      "outputs": [],
      "source": [
        "def comparar_modelos(metrica=\"accuracy\"):\n",
        "    # generación del reporte en forma de diccionario\n",
        "    report_modelo1 = pd.DataFrame(classification_report(y_test, pred_y, output_dict=True)).transpose()\n",
        "    report_modelo2 = pd.DataFrame(classification_report(y_test_2, pred_y_2, output_dict=True)).transpose()\n",
        "    # Obtener la métrica específica para ambos modelos\n",
        "    metrica_modelo1 = report_modelo1[metrica]['weighted avg']\n",
        "    metrica_modelo2 = report_modelo2[metrica]['weighted avg']\n",
        "    # Comparar los modelos según la métrica\n",
        "    if metrica_modelo1 > metrica_modelo2:\n",
        "        return \"El modelo 1 es mejor, con: \" + str(round(metrica_modelo1*100,2)) +\"% y una diferencia es de: \" + str(round(metrica_modelo1 - metrica_modelo2,2)*100) + \" %\"\n",
        "    elif metrica_modelo2 > metrica_modelo1:\n",
        "        return \"El modelo 2 es mejor, con: \" + str(round(metrica_modelo2*100,2)) +\"% y una diferencia es de: \" + str(round(metrica_modelo2 - metrica_modelo1,1)*100) + \" %\"\n",
        "    else:\n",
        "        return \"Ambos modelos tienen el mismo rendimiento.\""
      ]
    },
    {
      "cell_type": "markdown",
      "metadata": {
        "id": "CsAzmplg3sGT"
      },
      "source": [
        "Dada la creación de la funcióin que nos ayudara al dictamen de que modelo tiene un mejor rendimiento respecto a una métrica en especifica, dejamos las metricas que por las cuales podemos proceder con la comparación:\n",
        "1. precision\n",
        "2. recall\n",
        "3. f1-score\n"
      ]
    },
    {
      "cell_type": "code",
      "execution_count": null,
      "metadata": {
        "id": "7nZcmtqt3sGU",
        "outputId": "56a99c31-1958-44b1-ecba-3e68db4f4c69"
      },
      "outputs": [
        {
          "name": "stdout",
          "output_type": "stream",
          "text": [
            "El modelo 1 es mejor, con: 85.68% y una diferencia es de: 3.0 %\n"
          ]
        }
      ],
      "source": [
        "resultado = comparar_modelos(metrica=\"f1-score\")\n",
        "print(resultado)"
      ]
    },
    {
      "cell_type": "markdown",
      "metadata": {
        "id": "U9OONBzU3sGU"
      },
      "source": [
        "### Generación de imagenes nuevas"
      ]
    },
    {
      "cell_type": "markdown",
      "metadata": {
        "id": "NvRu5PTx3sGU"
      },
      "source": [
        "Puede aumentar el tamaño de su conjunto de datos o generar más muestras para entrenar o probar un modelo de aprendizaje automático mediante la creación de nuevos gráficos utilizando probabilidades determinadas por un ingenuo modelo bayesiano de Bernoulli. Esto puede resultar beneficioso tanto para la comparación de perfiles desequilibrados como para el desarrollo de perfiles compuestos. La utilización de áreas calculadas por el modelo para verificar características en la nueva imagen puede generar contenido similar a la imagen original y al mismo tiempo diferente de ella. Entre sus múltiples usos está el de mejorar el rendimiento de modelos con escasos datos."
      ]
    },
    {
      "cell_type": "code",
      "execution_count": null,
      "metadata": {
        "id": "r1Fo7uM63sGU",
        "outputId": "8e2aa401-b892-48b7-f126-341eda5a15a8"
      },
      "outputs": [
        {
          "data": {
            "image/png": "[encoded data removed]",
            "text/plain": [
              "<Figure size 1000x700 with 10 Axes>"
            ]
          },
          "metadata": {},
          "output_type": "display_data"
        }
      ],
      "source": [
        "warnings.filterwarnings(\"ignore\")\n",
        "fig, ax = plt.subplots(2,5, figsize=(10,7))\n",
        "# crear subtrama para cada dígito\n",
        "for i, ax in enumerate(ax.flatten()):\n",
        "    # obtener una muestra de la distribución de Bernoulli con probabilidades p\n",
        "    imagen = pd.DataFrame()\n",
        "    for j in range(1000): # Se genera este bucle para poder generar una mejor imagen con multiples iteraciones\n",
        "        imagen[j] = np.random.binomial(1,np.exp(model_2.feature_log_prob_[i]), 784)\n",
        "    vec_generated = imagen.mean(axis=1)\n",
        "    # reshape el vector a una imagen de 28X28\n",
        "    img = np.array(vec_generated).reshape((28, 28))\n",
        "    # plot imagen de dígitos\n",
        "    ax.imshow(img)\n",
        "    # agregar label\n",
        "    ax.set_title(f\"Label: {i}\")\n",
        "    ax.grid(False)\n",
        "fig.suptitle(\"Números generados y sus etiquetas\")\n",
        "fig.tight_layout()\n",
        "plt.show()"
      ]
    },
    {
      "cell_type": "markdown",
      "metadata": {
        "id": "PTW_GR_23sGU"
      },
      "source": [
        "### Conclusión"
      ]
    },
    {
      "cell_type": "markdown",
      "metadata": {
        "id": "vLHucwF_3sGU"
      },
      "source": [
        "En general, el modelo PCA simplificado y el modelo gaussiano Naive Bayes superaron al otro modelo probado en términos de clasificación. A diferencia del Gaussian Naive Bayes, que funciona bien con materiales continuos, el PCA ayuda a reducir la dimensionalidad y a la independencia de las variables, por lo que esto es de esperar. Curiosamente, incluso el modelo multinomial, que no ajusta la independencia de las variables, funciona bien. Esto implica que existen opciones para cada modelo. Sin embargo, para tomar una conclusión, se sugiere compararlos con otros conjuntos de datos. Hay una sección que debe decidirse con respecto a la implenteación del modelo. También se debe planificar el desarrollo futuro del modelo, incluidas las actualizaciones y modificaciones necesarias para mantener la eficacia. Estos dos capitulos se mencionan para que el elctor los tenga en consideración a la hora de la creación de su modelo, en este Notebook no se abarcan dado que no era el objetivo."
      ]
    }
  ],
  "metadata": {
    "kernelspec": {
      "display_name": "Python 3",
      "language": "python",
      "name": "python3"
    },
    "language_info": {
      "codemirror_mode": {
        "name": "ipython",
        "version": 3
      },
      "file_extension": ".py",
      "mimetype": "text/x-python",
      "name": "python",
      "nbconvert_exporter": "python",
      "pygments_lexer": "ipython3",
      "version": "3.11.4"
    },
    "orig_nbformat": 4,
    "colab": {
      "provenance": [],
      "include_colab_link": true
    }
  },
  "nbformat": 4,
  "nbformat_minor": 0
}